{
  "nbformat": 4,
  "nbformat_minor": 0,
  "metadata": {
    "colab": {
      "name": "Copy of SEVEN_vgg_da_cnn_cifar10_tf2_v0_corregido_por_IR.ipynb",
      "provenance": [],
      "collapsed_sections": [],
      "toc_visible": true,
      "include_colab_link": true
    },
    "kernelspec": {
      "name": "python3",
      "display_name": "Python 3"
    },
    "accelerator": "GPU"
  },
  "cells": [
    {
      "cell_type": "markdown",
      "metadata": {
        "id": "view-in-github",
        "colab_type": "text"
      },
      "source": [
        "<a href=\"https://colab.research.google.com/github/DavidPuigV/Cifar10/blob/main/EIGHT_ft_vgg_cnn_cifar10_tf2_v0_IR.ipynb\" target=\"_parent\"><img src=\"https://colab.research.google.com/assets/colab-badge.svg\" alt=\"Open In Colab\"/></a>"
      ]
    },
    {
      "cell_type": "markdown",
      "metadata": {
        "id": "8ynUvxmxEAjb"
      },
      "source": [
        "![Nuclio logo](https://nuclio.school/wp-content/uploads/2018/12/nucleoDS-newBlack.png)"
      ]
    },
    {
      "cell_type": "markdown",
      "metadata": {
        "jupyter": {
          "source_hidden": true
        },
        "id": "CY25dM5WEAjm"
      },
      "source": [
        "## 1. Librerias\n",
        "\n",
        "Para empezar carguemos esas librerias que nos hacen falta"
      ]
    },
    {
      "cell_type": "code",
      "metadata": {
        "id": "7xk6r5hbEAjn"
      },
      "source": [
        "import numpy as np\n",
        "import time\n",
        "import datetime\n",
        "import random\n",
        "import pandas as pd\n",
        "import os\n",
        "\n",
        "from matplotlib import pyplot as plt\n",
        "from tensorflow import keras as ks\n",
        "from keras.utils import to_categorical\n",
        "from tensorflow.keras.callbacks import EarlyStopping\n",
        "from tensorflow.keras.regularizers import l2\n",
        "from tensorflow.keras.optimizers import Adam\n",
        "from tensorflow.keras.applications import vgg16\n",
        "from tensorflow.keras.models import Model\n",
        "from tensorflow.keras.preprocessing.image import ImageDataGenerator, load_img"
      ],
      "execution_count": 35,
      "outputs": []
    },
    {
      "cell_type": "markdown",
      "metadata": {
        "id": "6SuRYFWgEAjs"
      },
      "source": [
        "## 1.1. Preparamos los datos\n",
        "\n",
        "Cargamos los datos de CIFAR10 de los datasets directamente de las librerias de Keras. Estos ya estan dispuestos en train and test\n",
        "\n",
        "**Detalle importante:** \n",
        "> La red neuronal requiere que los inputs sean números reales, y lo haremos forzando la division de los valores de dentro de las matrices 28x28 (que tienen valoress del 0 al 255) por 255.0 (un real)"
      ]
    },
    {
      "cell_type": "code",
      "metadata": {
        "id": "ZPuXtF0uEAjt"
      },
      "source": [
        "cifar10 = ks.datasets.cifar10\n",
        "\n",
        "(x_train, y_train), (x_test, y_test) = cifar10.load_data()\n",
        "x_train_scaled, x_test_scaled = x_train / 255.0, x_test / 255.0           "
      ],
      "execution_count": 36,
      "outputs": []
    },
    {
      "cell_type": "code",
      "metadata": {
        "id": "F29oWrwCQh41",
        "colab": {
          "base_uri": "https://localhost:8080/"
        },
        "outputId": "5da9c090-69a0-4601-9f2f-395ff10c05e5"
      },
      "source": [
        "print(y_train)\r\n",
        "print(y_test)\r\n"
      ],
      "execution_count": 37,
      "outputs": [
        {
          "output_type": "stream",
          "text": [
            "[[6]\n",
            " [9]\n",
            " [9]\n",
            " ...\n",
            " [9]\n",
            " [1]\n",
            " [1]]\n",
            "[[3]\n",
            " [8]\n",
            " [8]\n",
            " ...\n",
            " [5]\n",
            " [1]\n",
            " [7]]\n"
          ],
          "name": "stdout"
        }
      ]
    },
    {
      "cell_type": "markdown",
      "metadata": {
        "id": "gLaoT4wOEAjt"
      },
      "source": [
        "Obtenemos un array con todas las labels de CIFAR10"
      ]
    },
    {
      "cell_type": "code",
      "metadata": {
        "colab": {
          "base_uri": "https://localhost:8080/"
        },
        "id": "SvqN2aEBEAju",
        "outputId": "c6396c8d-82a6-42b3-ddac-1cf64a58fc90"
      },
      "source": [
        "cifar10_labels = ['airplane','automobile','bird','cat','deer','dog','frog','horse','ship','truck']\n",
        "print('labels: %s' % (cifar10_labels))"
      ],
      "execution_count": 38,
      "outputs": [
        {
          "output_type": "stream",
          "text": [
            "labels: ['airplane', 'automobile', 'bird', 'cat', 'deer', 'dog', 'frog', 'horse', 'ship', 'truck']\n"
          ],
          "name": "stdout"
        }
      ]
    },
    {
      "cell_type": "markdown",
      "metadata": {
        "id": "9-x2uJ0SXZ-C"
      },
      "source": [
        "Pintemos una muestra de las imagenes del dataset CIFAR10, a ver si se parece en algo a lo que esperamos.\r\n",
        "Primero, vemos que tipos de datos tengo, después mapeamos esas matrices en una escala de grises utilizando el método **.get_cmap()** de PlotLy con los nueve primeros números del dataset."
      ]
    },
    {
      "cell_type": "code",
      "metadata": {
        "id": "R0sMFv55XcqS",
        "colab": {
          "base_uri": "https://localhost:8080/",
          "height": 315
        },
        "outputId": "cb9b0f28-f100-4b7c-de72-80a3367923d7"
      },
      "source": [
        "print('Train: X=%s, y=%s' % (x_train_scaled.shape, y_train.shape))\r\n",
        "print('Test: X=%s, y=%s' % (x_test_scaled.shape, y_test.shape))\r\n",
        "\r\n",
        "for i in range(9):\r\n",
        "\r\n",
        "    plt.subplot(330 + 1 + i)\r\n",
        "    plt.imshow(x_train[i], cmap=plt.get_cmap('gray'))\r\n",
        "    plt.title(cifar10_labels[y_train[i,0]])\r\n",
        "\r\n",
        "plt.subplots_adjust(hspace = 1)\r\n",
        "plt.show()"
      ],
      "execution_count": 39,
      "outputs": [
        {
          "output_type": "stream",
          "text": [
            "Train: X=(50000, 32, 32, 3), y=(50000, 1)\n",
            "Test: X=(10000, 32, 32, 3), y=(10000, 1)\n"
          ],
          "name": "stdout"
        },
        {
          "output_type": "display_data",
          "data": {
            "image/png": "[encoded data removed]",
            "text/plain": [
              "<Figure size 432x288 with 9 Axes>"
            ]
          },
          "metadata": {
            "tags": [],
            "needs_background": "light"
          }
        }
      ]
    },
    {
      "cell_type": "markdown",
      "metadata": {
        "id": "HmLztaklEAjv"
      },
      "source": [
        "Como vamos a querer ir haciendo validación a la vez que entrenamos (muy practico)"
      ]
    },
    {
      "cell_type": "code",
      "metadata": {
        "id": "KisNc7s_EAjv"
      },
      "source": [
        "x_val_scaled= x_train_scaled[-10000:]\n",
        "y_val = y_train[-10000:]\n",
        "\n",
        "x_train_scaled= x_train_scaled[:-10000]\n",
        "y_train = y_train[:-10000]\n"
      ],
      "execution_count": 40,
      "outputs": []
    },
    {
      "cell_type": "code",
      "metadata": {
        "colab": {
          "base_uri": "https://localhost:8080/"
        },
        "id": "UbVmi_ISn6FG",
        "outputId": "77954ce9-8510-4f1d-a95e-4f46724bd2b3"
      },
      "source": [
        "from sklearn.preprocessing import LabelEncoder\r\n",
        "\r\n",
        "le = LabelEncoder()\r\n",
        "le.fit(y_train)\r\n",
        "\r\n",
        "y_train_encoded = le.transform(y_train)\r\n",
        "y_val_encoded = le.transform(y_val)\r\n",
        "y_test_encoded = le.transform(y_test)"
      ],
      "execution_count": 41,
      "outputs": [
        {
          "output_type": "stream",
          "text": [
            "/usr/local/lib/python3.6/dist-packages/sklearn/preprocessing/_label.py:235: DataConversionWarning: A column-vector y was passed when a 1d array was expected. Please change the shape of y to (n_samples, ), for example using ravel().\n",
            "  y = column_or_1d(y, warn=True)\n",
            "/usr/local/lib/python3.6/dist-packages/sklearn/preprocessing/_label.py:268: DataConversionWarning: A column-vector y was passed when a 1d array was expected. Please change the shape of y to (n_samples, ), for example using ravel().\n",
            "  y = column_or_1d(y, warn=True)\n"
          ],
          "name": "stderr"
        }
      ]
    },
    {
      "cell_type": "code",
      "metadata": {
        "colab": {
          "base_uri": "https://localhost:8080/"
        },
        "id": "R0LAkWOxpCH6",
        "outputId": "b8c59ea2-6b20-455e-8ba5-4c4b2bbd6a32"
      },
      "source": [
        "y_train_encoded"
      ],
      "execution_count": 42,
      "outputs": [
        {
          "output_type": "execute_result",
          "data": {
            "text/plain": [
              "array([6, 9, 9, ..., 6, 2, 8])"
            ]
          },
          "metadata": {
            "tags": []
          },
          "execution_count": 42
        }
      ]
    },
    {
      "cell_type": "markdown",
      "metadata": {
        "id": "nw2HJLcWEAjw"
      },
      "source": [
        "Cuando añadimos convoluciones, necesitamos \"pre-tratar los datos\", porque **la convolución es pera una matriz de 4 campos** (más parecido a \"imagenes\"), no un array de 3 como son actualmente los data sets de train, test y validación. Así que toca darle al **.reshape()**\n",
        "\n",
        "Por eso, al salir de la Convolution, hay que hacer un Flatten, porque las capas FullDense esperan arrays, no matrices!!\n",
        "\n",
        "Luego lo imprimimos para ver que todo está correcto"
      ]
    },
    {
      "cell_type": "code",
      "metadata": {
        "colab": {
          "base_uri": "https://localhost:8080/"
        },
        "id": "dEhUfUYVEAjw",
        "outputId": "c87dd6ac-6789-4de0-d8df-002136a7530a"
      },
      "source": [
        "print('Train: X=%s, y=%s' % (x_train_scaled.shape, y_train_encoded.shape))\n",
        "print('Test: X=%s, y=%s' % (x_test_scaled.shape, y_test_encoded.shape))\n",
        "print('Val: X=%s, y=%s' % (x_val_scaled.shape, y_val_encoded.shape))\n",
        "\n"
      ],
      "execution_count": 43,
      "outputs": [
        {
          "output_type": "stream",
          "text": [
            "Train: X=(40000, 32, 32, 3), y=(40000,)\n",
            "Test: X=(10000, 32, 32, 3), y=(10000,)\n",
            "Val: X=(10000, 32, 32, 3), y=(10000,)\n"
          ],
          "name": "stdout"
        }
      ]
    },
    {
      "cell_type": "markdown",
      "metadata": {
        "id": "1lgE15Cyhamj"
      },
      "source": [
        "# 2. VGG16 Carga de la parte de extraccion de features\r\n",
        "\r\n",
        "Dos aproximaciones distintas...\r\n",
        "\r\n",
        "\r\n",
        "Basic se hace en dos pasos:\r\n",
        "Se cargar VGG16, sin classifcacion hasta el flatten, se procesan las imagenes hasta el bottleneck (donde se estrecha VGG16)\r\n",
        "Se monta la red de clasificacion con un input_shape fijado a partir de la salida de VGG16 (su flatten) y se entrena con los datos pasados por VGG16\r\n",
        "Fine Tuning, como requiere entrenar una red completa, se carga VGG16, se \"descongelan capas\" y se empalma con una red de clasificacion.\r\n",
        "\r\n",
        "en FT se entrena TODA la red... en Basic solo la classificacion tras pasar los datos por \"preprocesado\""
      ]
    },
    {
      "cell_type": "code",
      "metadata": {
        "id": "cwDyiKEbhaOx",
        "colab": {
          "base_uri": "https://localhost:8080/"
        },
        "outputId": "cdd343aa-0069-49c9-cabe-ce78d9f9c087"
      },
      "source": [
        "\r\n",
        "vgg = vgg16.VGG16(include_top=False, weights='imagenet', input_shape=(32,32,3))\r\n",
        "vgg.summary()\r\n"
      ],
      "execution_count": 44,
      "outputs": [
        {
          "output_type": "stream",
          "text": [
            "Model: \"vgg16\"\n",
            "_________________________________________________________________\n",
            "Layer (type)                 Output Shape              Param #   \n",
            "=================================================================\n",
            "input_2 (InputLayer)         [(None, 32, 32, 3)]       0         \n",
            "_________________________________________________________________\n",
            "block1_conv1 (Conv2D)        (None, 32, 32, 64)        1792      \n",
            "_________________________________________________________________\n",
            "block1_conv2 (Conv2D)        (None, 32, 32, 64)        36928     \n",
            "_________________________________________________________________\n",
            "block1_pool (MaxPooling2D)   (None, 16, 16, 64)        0         \n",
            "_________________________________________________________________\n",
            "block2_conv1 (Conv2D)        (None, 16, 16, 128)       73856     \n",
            "_________________________________________________________________\n",
            "block2_conv2 (Conv2D)        (None, 16, 16, 128)       147584    \n",
            "_________________________________________________________________\n",
            "block2_pool (MaxPooling2D)   (None, 8, 8, 128)         0         \n",
            "_________________________________________________________________\n",
            "block3_conv1 (Conv2D)        (None, 8, 8, 256)         295168    \n",
            "_________________________________________________________________\n",
            "block3_conv2 (Conv2D)        (None, 8, 8, 256)         590080    \n",
            "_________________________________________________________________\n",
            "block3_conv3 (Conv2D)        (None, 8, 8, 256)         590080    \n",
            "_________________________________________________________________\n",
            "block3_pool (MaxPooling2D)   (None, 4, 4, 256)         0         \n",
            "_________________________________________________________________\n",
            "block4_conv1 (Conv2D)        (None, 4, 4, 512)         1180160   \n",
            "_________________________________________________________________\n",
            "block4_conv2 (Conv2D)        (None, 4, 4, 512)         2359808   \n",
            "_________________________________________________________________\n",
            "block4_conv3 (Conv2D)        (None, 4, 4, 512)         2359808   \n",
            "_________________________________________________________________\n",
            "block4_pool (MaxPooling2D)   (None, 2, 2, 512)         0         \n",
            "_________________________________________________________________\n",
            "block5_conv1 (Conv2D)        (None, 2, 2, 512)         2359808   \n",
            "_________________________________________________________________\n",
            "block5_conv2 (Conv2D)        (None, 2, 2, 512)         2359808   \n",
            "_________________________________________________________________\n",
            "block5_conv3 (Conv2D)        (None, 2, 2, 512)         2359808   \n",
            "_________________________________________________________________\n",
            "block5_pool (MaxPooling2D)   (None, 1, 1, 512)         0         \n",
            "=================================================================\n",
            "Total params: 14,714,688\n",
            "Trainable params: 14,714,688\n",
            "Non-trainable params: 0\n",
            "_________________________________________________________________\n"
          ],
          "name": "stdout"
        }
      ]
    },
    {
      "cell_type": "code",
      "metadata": {
        "id": "YnomeawuhaMo",
        "colab": {
          "base_uri": "https://localhost:8080/"
        },
        "outputId": "78e33ef3-5c54-43ad-e484-42277ccef3c5"
      },
      "source": [
        "_\r\n",
        "def_output = vgg.layers[-1].output\r\n",
        "new_output_layer = ks.layers.Flatten()(def_output)\r\n",
        "new_output_layer\r\n"
      ],
      "execution_count": 45,
      "outputs": [
        {
          "output_type": "execute_result",
          "data": {
            "text/plain": [
              "<KerasTensor: shape=(None, 512) dtype=float32 (created by layer 'flatten_1')>"
            ]
          },
          "metadata": {
            "tags": []
          },
          "execution_count": 45
        }
      ]
    },
    {
      "cell_type": "code",
      "metadata": {
        "id": "bS9OGPzdhaKW",
        "colab": {
          "base_uri": "https://localhost:8080/"
        },
        "outputId": "f41f771e-3b56-4cea-bebc-c825cdf97e57"
      },
      "source": [
        "\r\n",
        "vgg_model = Model(vgg.input, new_output_layer)\r\n",
        "vgg_model.summary()\r\n"
      ],
      "execution_count": 46,
      "outputs": [
        {
          "output_type": "stream",
          "text": [
            "Model: \"model_1\"\n",
            "_________________________________________________________________\n",
            "Layer (type)                 Output Shape              Param #   \n",
            "=================================================================\n",
            "input_2 (InputLayer)         [(None, 32, 32, 3)]       0         \n",
            "_________________________________________________________________\n",
            "block1_conv1 (Conv2D)        (None, 32, 32, 64)        1792      \n",
            "_________________________________________________________________\n",
            "block1_conv2 (Conv2D)        (None, 32, 32, 64)        36928     \n",
            "_________________________________________________________________\n",
            "block1_pool (MaxPooling2D)   (None, 16, 16, 64)        0         \n",
            "_________________________________________________________________\n",
            "block2_conv1 (Conv2D)        (None, 16, 16, 128)       73856     \n",
            "_________________________________________________________________\n",
            "block2_conv2 (Conv2D)        (None, 16, 16, 128)       147584    \n",
            "_________________________________________________________________\n",
            "block2_pool (MaxPooling2D)   (None, 8, 8, 128)         0         \n",
            "_________________________________________________________________\n",
            "block3_conv1 (Conv2D)        (None, 8, 8, 256)         295168    \n",
            "_________________________________________________________________\n",
            "block3_conv2 (Conv2D)        (None, 8, 8, 256)         590080    \n",
            "_________________________________________________________________\n",
            "block3_conv3 (Conv2D)        (None, 8, 8, 256)         590080    \n",
            "_________________________________________________________________\n",
            "block3_pool (MaxPooling2D)   (None, 4, 4, 256)         0         \n",
            "_________________________________________________________________\n",
            "block4_conv1 (Conv2D)        (None, 4, 4, 512)         1180160   \n",
            "_________________________________________________________________\n",
            "block4_conv2 (Conv2D)        (None, 4, 4, 512)         2359808   \n",
            "_________________________________________________________________\n",
            "block4_conv3 (Conv2D)        (None, 4, 4, 512)         2359808   \n",
            "_________________________________________________________________\n",
            "block4_pool (MaxPooling2D)   (None, 2, 2, 512)         0         \n",
            "_________________________________________________________________\n",
            "block5_conv1 (Conv2D)        (None, 2, 2, 512)         2359808   \n",
            "_________________________________________________________________\n",
            "block5_conv2 (Conv2D)        (None, 2, 2, 512)         2359808   \n",
            "_________________________________________________________________\n",
            "block5_conv3 (Conv2D)        (None, 2, 2, 512)         2359808   \n",
            "_________________________________________________________________\n",
            "block5_pool (MaxPooling2D)   (None, 1, 1, 512)         0         \n",
            "_________________________________________________________________\n",
            "flatten_1 (Flatten)          (None, 512)               0         \n",
            "=================================================================\n",
            "Total params: 14,714,688\n",
            "Trainable params: 14,714,688\n",
            "Non-trainable params: 0\n",
            "_________________________________________________________________\n"
          ],
          "name": "stdout"
        }
      ]
    },
    {
      "cell_type": "code",
      "metadata": {
        "id": "NxldiUy2haHb",
        "colab": {
          "base_uri": "https://localhost:8080/",
          "height": 669
        },
        "outputId": "8805cc4c-229e-4e27-cb41-5299740ab6b2"
      },
      "source": [
        "# mirem com estan els pesos de la xarxa vgg16\r\n",
        "\r\n",
        "pd.set_option('max_colwidth', None)                                             \r\n",
        "layers = [(layer, layer.name, layer.trainable) for layer in vgg_model.layers]\r\n",
        "pd.DataFrame(layers, columns=['Layer Type', 'Layer Name', 'Trainable?'])\r\n"
      ],
      "execution_count": 47,
      "outputs": [
        {
          "output_type": "execute_result",
          "data": {
            "text/html": [
              "<div>\n",
              "<style scoped>\n",
              "    .dataframe tbody tr th:only-of-type {\n",
              "        vertical-align: middle;\n",
              "    }\n",
              "\n",
              "    .dataframe tbody tr th {\n",
              "        vertical-align: top;\n",
              "    }\n",
              "\n",
              "    .dataframe thead th {\n",
              "        text-align: right;\n",
              "    }\n",
              "</style>\n",
              "<table border=\"1\" class=\"dataframe\">\n",
              "  <thead>\n",
              "    <tr style=\"text-align: right;\">\n",
              "      <th></th>\n",
              "      <th>Layer Type</th>\n",
              "      <th>Layer Name</th>\n",
              "      <th>Trainable?</th>\n",
              "    </tr>\n",
              "  </thead>\n",
              "  <tbody>\n",
              "    <tr>\n",
              "      <th>0</th>\n",
              "      <td>&lt;tensorflow.python.keras.engine.input_layer.InputLayer object at 0x7fc9804cd358&gt;</td>\n",
              "      <td>input_2</td>\n",
              "      <td>True</td>\n",
              "    </tr>\n",
              "    <tr>\n",
              "      <th>1</th>\n",
              "      <td>&lt;tensorflow.python.keras.layers.convolutional.Conv2D object at 0x7fc98048b630&gt;</td>\n",
              "      <td>block1_conv1</td>\n",
              "      <td>True</td>\n",
              "    </tr>\n",
              "    <tr>\n",
              "      <th>2</th>\n",
              "      <td>&lt;tensorflow.python.keras.layers.convolutional.Conv2D object at 0x7fc9801f1a90&gt;</td>\n",
              "      <td>block1_conv2</td>\n",
              "      <td>True</td>\n",
              "    </tr>\n",
              "    <tr>\n",
              "      <th>3</th>\n",
              "      <td>&lt;tensorflow.python.keras.layers.pooling.MaxPooling2D object at 0x7fc9802101d0&gt;</td>\n",
              "      <td>block1_pool</td>\n",
              "      <td>True</td>\n",
              "    </tr>\n",
              "    <tr>\n",
              "      <th>4</th>\n",
              "      <td>&lt;tensorflow.python.keras.layers.convolutional.Conv2D object at 0x7fc980192748&gt;</td>\n",
              "      <td>block2_conv1</td>\n",
              "      <td>True</td>\n",
              "    </tr>\n",
              "    <tr>\n",
              "      <th>5</th>\n",
              "      <td>&lt;tensorflow.python.keras.layers.convolutional.Conv2D object at 0x7fc980228a58&gt;</td>\n",
              "      <td>block2_conv2</td>\n",
              "      <td>True</td>\n",
              "    </tr>\n",
              "    <tr>\n",
              "      <th>6</th>\n",
              "      <td>&lt;tensorflow.python.keras.layers.pooling.MaxPooling2D object at 0x7fc980245908&gt;</td>\n",
              "      <td>block2_pool</td>\n",
              "      <td>True</td>\n",
              "    </tr>\n",
              "    <tr>\n",
              "      <th>7</th>\n",
              "      <td>&lt;tensorflow.python.keras.layers.convolutional.Conv2D object at 0x7fc980245fd0&gt;</td>\n",
              "      <td>block3_conv1</td>\n",
              "      <td>True</td>\n",
              "    </tr>\n",
              "    <tr>\n",
              "      <th>8</th>\n",
              "      <td>&lt;tensorflow.python.keras.layers.convolutional.Conv2D object at 0x7fc98023b780&gt;</td>\n",
              "      <td>block3_conv2</td>\n",
              "      <td>True</td>\n",
              "    </tr>\n",
              "    <tr>\n",
              "      <th>9</th>\n",
              "      <td>&lt;tensorflow.python.keras.layers.convolutional.Conv2D object at 0x7fc980241f98&gt;</td>\n",
              "      <td>block3_conv3</td>\n",
              "      <td>True</td>\n",
              "    </tr>\n",
              "    <tr>\n",
              "      <th>10</th>\n",
              "      <td>&lt;tensorflow.python.keras.layers.pooling.MaxPooling2D object at 0x7fc980243780&gt;</td>\n",
              "      <td>block3_pool</td>\n",
              "      <td>True</td>\n",
              "    </tr>\n",
              "    <tr>\n",
              "      <th>11</th>\n",
              "      <td>&lt;tensorflow.python.keras.layers.convolutional.Conv2D object at 0x7fc980218160&gt;</td>\n",
              "      <td>block4_conv1</td>\n",
              "      <td>True</td>\n",
              "    </tr>\n",
              "    <tr>\n",
              "      <th>12</th>\n",
              "      <td>&lt;tensorflow.python.keras.layers.convolutional.Conv2D object at 0x7fc98020cc88&gt;</td>\n",
              "      <td>block4_conv2</td>\n",
              "      <td>True</td>\n",
              "    </tr>\n",
              "    <tr>\n",
              "      <th>13</th>\n",
              "      <td>&lt;tensorflow.python.keras.layers.convolutional.Conv2D object at 0x7fc937884390&gt;</td>\n",
              "      <td>block4_conv3</td>\n",
              "      <td>True</td>\n",
              "    </tr>\n",
              "    <tr>\n",
              "      <th>14</th>\n",
              "      <td>&lt;tensorflow.python.keras.layers.pooling.MaxPooling2D object at 0x7fc937884be0&gt;</td>\n",
              "      <td>block4_pool</td>\n",
              "      <td>True</td>\n",
              "    </tr>\n",
              "    <tr>\n",
              "      <th>15</th>\n",
              "      <td>&lt;tensorflow.python.keras.layers.convolutional.Conv2D object at 0x7fc98020cd30&gt;</td>\n",
              "      <td>block5_conv1</td>\n",
              "      <td>True</td>\n",
              "    </tr>\n",
              "    <tr>\n",
              "      <th>16</th>\n",
              "      <td>&lt;tensorflow.python.keras.layers.convolutional.Conv2D object at 0x7fc93788be80&gt;</td>\n",
              "      <td>block5_conv2</td>\n",
              "      <td>True</td>\n",
              "    </tr>\n",
              "    <tr>\n",
              "      <th>17</th>\n",
              "      <td>&lt;tensorflow.python.keras.layers.convolutional.Conv2D object at 0x7fc93788f518&gt;</td>\n",
              "      <td>block5_conv3</td>\n",
              "      <td>True</td>\n",
              "    </tr>\n",
              "    <tr>\n",
              "      <th>18</th>\n",
              "      <td>&lt;tensorflow.python.keras.layers.pooling.MaxPooling2D object at 0x7fc937895630&gt;</td>\n",
              "      <td>block5_pool</td>\n",
              "      <td>True</td>\n",
              "    </tr>\n",
              "    <tr>\n",
              "      <th>19</th>\n",
              "      <td>&lt;tensorflow.python.keras.layers.core.Flatten object at 0x7fc9378a7550&gt;</td>\n",
              "      <td>flatten_1</td>\n",
              "      <td>True</td>\n",
              "    </tr>\n",
              "  </tbody>\n",
              "</table>\n",
              "</div>"
            ],
            "text/plain": [
              "                                                                          Layer Type  ... Trainable?\n",
              "0   <tensorflow.python.keras.engine.input_layer.InputLayer object at 0x7fc9804cd358>  ...       True\n",
              "1     <tensorflow.python.keras.layers.convolutional.Conv2D object at 0x7fc98048b630>  ...       True\n",
              "2     <tensorflow.python.keras.layers.convolutional.Conv2D object at 0x7fc9801f1a90>  ...       True\n",
              "3     <tensorflow.python.keras.layers.pooling.MaxPooling2D object at 0x7fc9802101d0>  ...       True\n",
              "4     <tensorflow.python.keras.layers.convolutional.Conv2D object at 0x7fc980192748>  ...       True\n",
              "5     <tensorflow.python.keras.layers.convolutional.Conv2D object at 0x7fc980228a58>  ...       True\n",
              "6     <tensorflow.python.keras.layers.pooling.MaxPooling2D object at 0x7fc980245908>  ...       True\n",
              "7     <tensorflow.python.keras.layers.convolutional.Conv2D object at 0x7fc980245fd0>  ...       True\n",
              "8     <tensorflow.python.keras.layers.convolutional.Conv2D object at 0x7fc98023b780>  ...       True\n",
              "9     <tensorflow.python.keras.layers.convolutional.Conv2D object at 0x7fc980241f98>  ...       True\n",
              "10    <tensorflow.python.keras.layers.pooling.MaxPooling2D object at 0x7fc980243780>  ...       True\n",
              "11    <tensorflow.python.keras.layers.convolutional.Conv2D object at 0x7fc980218160>  ...       True\n",
              "12    <tensorflow.python.keras.layers.convolutional.Conv2D object at 0x7fc98020cc88>  ...       True\n",
              "13    <tensorflow.python.keras.layers.convolutional.Conv2D object at 0x7fc937884390>  ...       True\n",
              "14    <tensorflow.python.keras.layers.pooling.MaxPooling2D object at 0x7fc937884be0>  ...       True\n",
              "15    <tensorflow.python.keras.layers.convolutional.Conv2D object at 0x7fc98020cd30>  ...       True\n",
              "16    <tensorflow.python.keras.layers.convolutional.Conv2D object at 0x7fc93788be80>  ...       True\n",
              "17    <tensorflow.python.keras.layers.convolutional.Conv2D object at 0x7fc93788f518>  ...       True\n",
              "18    <tensorflow.python.keras.layers.pooling.MaxPooling2D object at 0x7fc937895630>  ...       True\n",
              "19            <tensorflow.python.keras.layers.core.Flatten object at 0x7fc9378a7550>  ...       True\n",
              "\n",
              "[20 rows x 3 columns]"
            ]
          },
          "metadata": {
            "tags": []
          },
          "execution_count": 47
        }
      ]
    },
    {
      "cell_type": "code",
      "metadata": {
        "id": "s01pGSR6haEf",
        "colab": {
          "base_uri": "https://localhost:8080/"
        },
        "outputId": "0086b215-6724-4fda-a28e-d480ab952da8"
      },
      "source": [
        "\r\n",
        "print(vgg_model.trainable)\r\n"
      ],
      "execution_count": 48,
      "outputs": [
        {
          "output_type": "stream",
          "text": [
            "True\n"
          ],
          "name": "stdout"
        }
      ]
    },
    {
      "cell_type": "code",
      "metadata": {
        "id": "-c9RpDz-haCQ"
      },
      "source": [
        "# obrim la porta a poderlos modificar despres\r\n",
        "vgg_model.trainable = True    \r\n",
        "\r\n",
        "# pero els posem en false de moment\r\n",
        "for layer in vgg_model.layers:\r\n",
        "  layer.trainable = False\r\n"
      ],
      "execution_count": 49,
      "outputs": []
    },
    {
      "cell_type": "code",
      "metadata": {
        "id": "AoWcD4C_hZ_T",
        "colab": {
          "base_uri": "https://localhost:8080/",
          "height": 669
        },
        "outputId": "3e3fb0f9-a290-4df8-f3da-e471878222d3"
      },
      "source": [
        "# comprobem que estiguin en false\r\n",
        "pd.set_option('max_colwidth', None)                                             \r\n",
        "layers = [(layer, layer.name, layer.trainable) for layer in vgg_model.layers]\r\n",
        "pd.DataFrame(layers, columns=['Layer Type', 'Layer Name', 'Trainable?'])\r\n"
      ],
      "execution_count": 50,
      "outputs": [
        {
          "output_type": "execute_result",
          "data": {
            "text/html": [
              "<div>\n",
              "<style scoped>\n",
              "    .dataframe tbody tr th:only-of-type {\n",
              "        vertical-align: middle;\n",
              "    }\n",
              "\n",
              "    .dataframe tbody tr th {\n",
              "        vertical-align: top;\n",
              "    }\n",
              "\n",
              "    .dataframe thead th {\n",
              "        text-align: right;\n",
              "    }\n",
              "</style>\n",
              "<table border=\"1\" class=\"dataframe\">\n",
              "  <thead>\n",
              "    <tr style=\"text-align: right;\">\n",
              "      <th></th>\n",
              "      <th>Layer Type</th>\n",
              "      <th>Layer Name</th>\n",
              "      <th>Trainable?</th>\n",
              "    </tr>\n",
              "  </thead>\n",
              "  <tbody>\n",
              "    <tr>\n",
              "      <th>0</th>\n",
              "      <td>&lt;tensorflow.python.keras.engine.input_layer.InputLayer object at 0x7fc9804cd358&gt;</td>\n",
              "      <td>input_2</td>\n",
              "      <td>False</td>\n",
              "    </tr>\n",
              "    <tr>\n",
              "      <th>1</th>\n",
              "      <td>&lt;tensorflow.python.keras.layers.convolutional.Conv2D object at 0x7fc98048b630&gt;</td>\n",
              "      <td>block1_conv1</td>\n",
              "      <td>False</td>\n",
              "    </tr>\n",
              "    <tr>\n",
              "      <th>2</th>\n",
              "      <td>&lt;tensorflow.python.keras.layers.convolutional.Conv2D object at 0x7fc9801f1a90&gt;</td>\n",
              "      <td>block1_conv2</td>\n",
              "      <td>False</td>\n",
              "    </tr>\n",
              "    <tr>\n",
              "      <th>3</th>\n",
              "      <td>&lt;tensorflow.python.keras.layers.pooling.MaxPooling2D object at 0x7fc9802101d0&gt;</td>\n",
              "      <td>block1_pool</td>\n",
              "      <td>False</td>\n",
              "    </tr>\n",
              "    <tr>\n",
              "      <th>4</th>\n",
              "      <td>&lt;tensorflow.python.keras.layers.convolutional.Conv2D object at 0x7fc980192748&gt;</td>\n",
              "      <td>block2_conv1</td>\n",
              "      <td>False</td>\n",
              "    </tr>\n",
              "    <tr>\n",
              "      <th>5</th>\n",
              "      <td>&lt;tensorflow.python.keras.layers.convolutional.Conv2D object at 0x7fc980228a58&gt;</td>\n",
              "      <td>block2_conv2</td>\n",
              "      <td>False</td>\n",
              "    </tr>\n",
              "    <tr>\n",
              "      <th>6</th>\n",
              "      <td>&lt;tensorflow.python.keras.layers.pooling.MaxPooling2D object at 0x7fc980245908&gt;</td>\n",
              "      <td>block2_pool</td>\n",
              "      <td>False</td>\n",
              "    </tr>\n",
              "    <tr>\n",
              "      <th>7</th>\n",
              "      <td>&lt;tensorflow.python.keras.layers.convolutional.Conv2D object at 0x7fc980245fd0&gt;</td>\n",
              "      <td>block3_conv1</td>\n",
              "      <td>False</td>\n",
              "    </tr>\n",
              "    <tr>\n",
              "      <th>8</th>\n",
              "      <td>&lt;tensorflow.python.keras.layers.convolutional.Conv2D object at 0x7fc98023b780&gt;</td>\n",
              "      <td>block3_conv2</td>\n",
              "      <td>False</td>\n",
              "    </tr>\n",
              "    <tr>\n",
              "      <th>9</th>\n",
              "      <td>&lt;tensorflow.python.keras.layers.convolutional.Conv2D object at 0x7fc980241f98&gt;</td>\n",
              "      <td>block3_conv3</td>\n",
              "      <td>False</td>\n",
              "    </tr>\n",
              "    <tr>\n",
              "      <th>10</th>\n",
              "      <td>&lt;tensorflow.python.keras.layers.pooling.MaxPooling2D object at 0x7fc980243780&gt;</td>\n",
              "      <td>block3_pool</td>\n",
              "      <td>False</td>\n",
              "    </tr>\n",
              "    <tr>\n",
              "      <th>11</th>\n",
              "      <td>&lt;tensorflow.python.keras.layers.convolutional.Conv2D object at 0x7fc980218160&gt;</td>\n",
              "      <td>block4_conv1</td>\n",
              "      <td>False</td>\n",
              "    </tr>\n",
              "    <tr>\n",
              "      <th>12</th>\n",
              "      <td>&lt;tensorflow.python.keras.layers.convolutional.Conv2D object at 0x7fc98020cc88&gt;</td>\n",
              "      <td>block4_conv2</td>\n",
              "      <td>False</td>\n",
              "    </tr>\n",
              "    <tr>\n",
              "      <th>13</th>\n",
              "      <td>&lt;tensorflow.python.keras.layers.convolutional.Conv2D object at 0x7fc937884390&gt;</td>\n",
              "      <td>block4_conv3</td>\n",
              "      <td>False</td>\n",
              "    </tr>\n",
              "    <tr>\n",
              "      <th>14</th>\n",
              "      <td>&lt;tensorflow.python.keras.layers.pooling.MaxPooling2D object at 0x7fc937884be0&gt;</td>\n",
              "      <td>block4_pool</td>\n",
              "      <td>False</td>\n",
              "    </tr>\n",
              "    <tr>\n",
              "      <th>15</th>\n",
              "      <td>&lt;tensorflow.python.keras.layers.convolutional.Conv2D object at 0x7fc98020cd30&gt;</td>\n",
              "      <td>block5_conv1</td>\n",
              "      <td>False</td>\n",
              "    </tr>\n",
              "    <tr>\n",
              "      <th>16</th>\n",
              "      <td>&lt;tensorflow.python.keras.layers.convolutional.Conv2D object at 0x7fc93788be80&gt;</td>\n",
              "      <td>block5_conv2</td>\n",
              "      <td>False</td>\n",
              "    </tr>\n",
              "    <tr>\n",
              "      <th>17</th>\n",
              "      <td>&lt;tensorflow.python.keras.layers.convolutional.Conv2D object at 0x7fc93788f518&gt;</td>\n",
              "      <td>block5_conv3</td>\n",
              "      <td>False</td>\n",
              "    </tr>\n",
              "    <tr>\n",
              "      <th>18</th>\n",
              "      <td>&lt;tensorflow.python.keras.layers.pooling.MaxPooling2D object at 0x7fc937895630&gt;</td>\n",
              "      <td>block5_pool</td>\n",
              "      <td>False</td>\n",
              "    </tr>\n",
              "    <tr>\n",
              "      <th>19</th>\n",
              "      <td>&lt;tensorflow.python.keras.layers.core.Flatten object at 0x7fc9378a7550&gt;</td>\n",
              "      <td>flatten_1</td>\n",
              "      <td>False</td>\n",
              "    </tr>\n",
              "  </tbody>\n",
              "</table>\n",
              "</div>"
            ],
            "text/plain": [
              "                                                                          Layer Type  ... Trainable?\n",
              "0   <tensorflow.python.keras.engine.input_layer.InputLayer object at 0x7fc9804cd358>  ...      False\n",
              "1     <tensorflow.python.keras.layers.convolutional.Conv2D object at 0x7fc98048b630>  ...      False\n",
              "2     <tensorflow.python.keras.layers.convolutional.Conv2D object at 0x7fc9801f1a90>  ...      False\n",
              "3     <tensorflow.python.keras.layers.pooling.MaxPooling2D object at 0x7fc9802101d0>  ...      False\n",
              "4     <tensorflow.python.keras.layers.convolutional.Conv2D object at 0x7fc980192748>  ...      False\n",
              "5     <tensorflow.python.keras.layers.convolutional.Conv2D object at 0x7fc980228a58>  ...      False\n",
              "6     <tensorflow.python.keras.layers.pooling.MaxPooling2D object at 0x7fc980245908>  ...      False\n",
              "7     <tensorflow.python.keras.layers.convolutional.Conv2D object at 0x7fc980245fd0>  ...      False\n",
              "8     <tensorflow.python.keras.layers.convolutional.Conv2D object at 0x7fc98023b780>  ...      False\n",
              "9     <tensorflow.python.keras.layers.convolutional.Conv2D object at 0x7fc980241f98>  ...      False\n",
              "10    <tensorflow.python.keras.layers.pooling.MaxPooling2D object at 0x7fc980243780>  ...      False\n",
              "11    <tensorflow.python.keras.layers.convolutional.Conv2D object at 0x7fc980218160>  ...      False\n",
              "12    <tensorflow.python.keras.layers.convolutional.Conv2D object at 0x7fc98020cc88>  ...      False\n",
              "13    <tensorflow.python.keras.layers.convolutional.Conv2D object at 0x7fc937884390>  ...      False\n",
              "14    <tensorflow.python.keras.layers.pooling.MaxPooling2D object at 0x7fc937884be0>  ...      False\n",
              "15    <tensorflow.python.keras.layers.convolutional.Conv2D object at 0x7fc98020cd30>  ...      False\n",
              "16    <tensorflow.python.keras.layers.convolutional.Conv2D object at 0x7fc93788be80>  ...      False\n",
              "17    <tensorflow.python.keras.layers.convolutional.Conv2D object at 0x7fc93788f518>  ...      False\n",
              "18    <tensorflow.python.keras.layers.pooling.MaxPooling2D object at 0x7fc937895630>  ...      False\n",
              "19            <tensorflow.python.keras.layers.core.Flatten object at 0x7fc9378a7550>  ...      False\n",
              "\n",
              "[20 rows x 3 columns]"
            ]
          },
          "metadata": {
            "tags": []
          },
          "execution_count": 50
        }
      ]
    },
    {
      "cell_type": "code",
      "metadata": {
        "id": "3lmawsprbFyD"
      },
      "source": [
        "trainable = False\r\n",
        "\r\n",
        "for layer in vgg_model.layers:\r\n",
        "  if layer.name in ['block1_conv1']:\r\n",
        "    trainable = True\r\n",
        "  if trainable:\r\n",
        "    layer.trainable = True\r\n",
        "  else:\r\n",
        "    layer.trainable = False\r\n"
      ],
      "execution_count": 51,
      "outputs": []
    },
    {
      "cell_type": "code",
      "metadata": {
        "colab": {
          "base_uri": "https://localhost:8080/",
          "height": 669
        },
        "id": "-hIoi9-ZbFvJ",
        "outputId": "2f77b11a-957a-481c-bf90-61b1b790d0f0"
      },
      "source": [
        "# comprobem que estiguin en false\r\n",
        "pd.set_option('max_colwidth', None)                                             \r\n",
        "layers = [(layer, layer.name, layer.trainable) for layer in vgg_model.layers]\r\n",
        "pd.DataFrame(layers, columns=['Layer Type', 'Layer Name', 'Trainable?'])"
      ],
      "execution_count": 52,
      "outputs": [
        {
          "output_type": "execute_result",
          "data": {
            "text/html": [
              "<div>\n",
              "<style scoped>\n",
              "    .dataframe tbody tr th:only-of-type {\n",
              "        vertical-align: middle;\n",
              "    }\n",
              "\n",
              "    .dataframe tbody tr th {\n",
              "        vertical-align: top;\n",
              "    }\n",
              "\n",
              "    .dataframe thead th {\n",
              "        text-align: right;\n",
              "    }\n",
              "</style>\n",
              "<table border=\"1\" class=\"dataframe\">\n",
              "  <thead>\n",
              "    <tr style=\"text-align: right;\">\n",
              "      <th></th>\n",
              "      <th>Layer Type</th>\n",
              "      <th>Layer Name</th>\n",
              "      <th>Trainable?</th>\n",
              "    </tr>\n",
              "  </thead>\n",
              "  <tbody>\n",
              "    <tr>\n",
              "      <th>0</th>\n",
              "      <td>&lt;tensorflow.python.keras.engine.input_layer.InputLayer object at 0x7fc9804cd358&gt;</td>\n",
              "      <td>input_2</td>\n",
              "      <td>False</td>\n",
              "    </tr>\n",
              "    <tr>\n",
              "      <th>1</th>\n",
              "      <td>&lt;tensorflow.python.keras.layers.convolutional.Conv2D object at 0x7fc98048b630&gt;</td>\n",
              "      <td>block1_conv1</td>\n",
              "      <td>True</td>\n",
              "    </tr>\n",
              "    <tr>\n",
              "      <th>2</th>\n",
              "      <td>&lt;tensorflow.python.keras.layers.convolutional.Conv2D object at 0x7fc9801f1a90&gt;</td>\n",
              "      <td>block1_conv2</td>\n",
              "      <td>True</td>\n",
              "    </tr>\n",
              "    <tr>\n",
              "      <th>3</th>\n",
              "      <td>&lt;tensorflow.python.keras.layers.pooling.MaxPooling2D object at 0x7fc9802101d0&gt;</td>\n",
              "      <td>block1_pool</td>\n",
              "      <td>True</td>\n",
              "    </tr>\n",
              "    <tr>\n",
              "      <th>4</th>\n",
              "      <td>&lt;tensorflow.python.keras.layers.convolutional.Conv2D object at 0x7fc980192748&gt;</td>\n",
              "      <td>block2_conv1</td>\n",
              "      <td>True</td>\n",
              "    </tr>\n",
              "    <tr>\n",
              "      <th>5</th>\n",
              "      <td>&lt;tensorflow.python.keras.layers.convolutional.Conv2D object at 0x7fc980228a58&gt;</td>\n",
              "      <td>block2_conv2</td>\n",
              "      <td>True</td>\n",
              "    </tr>\n",
              "    <tr>\n",
              "      <th>6</th>\n",
              "      <td>&lt;tensorflow.python.keras.layers.pooling.MaxPooling2D object at 0x7fc980245908&gt;</td>\n",
              "      <td>block2_pool</td>\n",
              "      <td>True</td>\n",
              "    </tr>\n",
              "    <tr>\n",
              "      <th>7</th>\n",
              "      <td>&lt;tensorflow.python.keras.layers.convolutional.Conv2D object at 0x7fc980245fd0&gt;</td>\n",
              "      <td>block3_conv1</td>\n",
              "      <td>True</td>\n",
              "    </tr>\n",
              "    <tr>\n",
              "      <th>8</th>\n",
              "      <td>&lt;tensorflow.python.keras.layers.convolutional.Conv2D object at 0x7fc98023b780&gt;</td>\n",
              "      <td>block3_conv2</td>\n",
              "      <td>True</td>\n",
              "    </tr>\n",
              "    <tr>\n",
              "      <th>9</th>\n",
              "      <td>&lt;tensorflow.python.keras.layers.convolutional.Conv2D object at 0x7fc980241f98&gt;</td>\n",
              "      <td>block3_conv3</td>\n",
              "      <td>True</td>\n",
              "    </tr>\n",
              "    <tr>\n",
              "      <th>10</th>\n",
              "      <td>&lt;tensorflow.python.keras.layers.pooling.MaxPooling2D object at 0x7fc980243780&gt;</td>\n",
              "      <td>block3_pool</td>\n",
              "      <td>True</td>\n",
              "    </tr>\n",
              "    <tr>\n",
              "      <th>11</th>\n",
              "      <td>&lt;tensorflow.python.keras.layers.convolutional.Conv2D object at 0x7fc980218160&gt;</td>\n",
              "      <td>block4_conv1</td>\n",
              "      <td>True</td>\n",
              "    </tr>\n",
              "    <tr>\n",
              "      <th>12</th>\n",
              "      <td>&lt;tensorflow.python.keras.layers.convolutional.Conv2D object at 0x7fc98020cc88&gt;</td>\n",
              "      <td>block4_conv2</td>\n",
              "      <td>True</td>\n",
              "    </tr>\n",
              "    <tr>\n",
              "      <th>13</th>\n",
              "      <td>&lt;tensorflow.python.keras.layers.convolutional.Conv2D object at 0x7fc937884390&gt;</td>\n",
              "      <td>block4_conv3</td>\n",
              "      <td>True</td>\n",
              "    </tr>\n",
              "    <tr>\n",
              "      <th>14</th>\n",
              "      <td>&lt;tensorflow.python.keras.layers.pooling.MaxPooling2D object at 0x7fc937884be0&gt;</td>\n",
              "      <td>block4_pool</td>\n",
              "      <td>True</td>\n",
              "    </tr>\n",
              "    <tr>\n",
              "      <th>15</th>\n",
              "      <td>&lt;tensorflow.python.keras.layers.convolutional.Conv2D object at 0x7fc98020cd30&gt;</td>\n",
              "      <td>block5_conv1</td>\n",
              "      <td>True</td>\n",
              "    </tr>\n",
              "    <tr>\n",
              "      <th>16</th>\n",
              "      <td>&lt;tensorflow.python.keras.layers.convolutional.Conv2D object at 0x7fc93788be80&gt;</td>\n",
              "      <td>block5_conv2</td>\n",
              "      <td>True</td>\n",
              "    </tr>\n",
              "    <tr>\n",
              "      <th>17</th>\n",
              "      <td>&lt;tensorflow.python.keras.layers.convolutional.Conv2D object at 0x7fc93788f518&gt;</td>\n",
              "      <td>block5_conv3</td>\n",
              "      <td>True</td>\n",
              "    </tr>\n",
              "    <tr>\n",
              "      <th>18</th>\n",
              "      <td>&lt;tensorflow.python.keras.layers.pooling.MaxPooling2D object at 0x7fc937895630&gt;</td>\n",
              "      <td>block5_pool</td>\n",
              "      <td>True</td>\n",
              "    </tr>\n",
              "    <tr>\n",
              "      <th>19</th>\n",
              "      <td>&lt;tensorflow.python.keras.layers.core.Flatten object at 0x7fc9378a7550&gt;</td>\n",
              "      <td>flatten_1</td>\n",
              "      <td>True</td>\n",
              "    </tr>\n",
              "  </tbody>\n",
              "</table>\n",
              "</div>"
            ],
            "text/plain": [
              "                                                                          Layer Type  ... Trainable?\n",
              "0   <tensorflow.python.keras.engine.input_layer.InputLayer object at 0x7fc9804cd358>  ...      False\n",
              "1     <tensorflow.python.keras.layers.convolutional.Conv2D object at 0x7fc98048b630>  ...       True\n",
              "2     <tensorflow.python.keras.layers.convolutional.Conv2D object at 0x7fc9801f1a90>  ...       True\n",
              "3     <tensorflow.python.keras.layers.pooling.MaxPooling2D object at 0x7fc9802101d0>  ...       True\n",
              "4     <tensorflow.python.keras.layers.convolutional.Conv2D object at 0x7fc980192748>  ...       True\n",
              "5     <tensorflow.python.keras.layers.convolutional.Conv2D object at 0x7fc980228a58>  ...       True\n",
              "6     <tensorflow.python.keras.layers.pooling.MaxPooling2D object at 0x7fc980245908>  ...       True\n",
              "7     <tensorflow.python.keras.layers.convolutional.Conv2D object at 0x7fc980245fd0>  ...       True\n",
              "8     <tensorflow.python.keras.layers.convolutional.Conv2D object at 0x7fc98023b780>  ...       True\n",
              "9     <tensorflow.python.keras.layers.convolutional.Conv2D object at 0x7fc980241f98>  ...       True\n",
              "10    <tensorflow.python.keras.layers.pooling.MaxPooling2D object at 0x7fc980243780>  ...       True\n",
              "11    <tensorflow.python.keras.layers.convolutional.Conv2D object at 0x7fc980218160>  ...       True\n",
              "12    <tensorflow.python.keras.layers.convolutional.Conv2D object at 0x7fc98020cc88>  ...       True\n",
              "13    <tensorflow.python.keras.layers.convolutional.Conv2D object at 0x7fc937884390>  ...       True\n",
              "14    <tensorflow.python.keras.layers.pooling.MaxPooling2D object at 0x7fc937884be0>  ...       True\n",
              "15    <tensorflow.python.keras.layers.convolutional.Conv2D object at 0x7fc98020cd30>  ...       True\n",
              "16    <tensorflow.python.keras.layers.convolutional.Conv2D object at 0x7fc93788be80>  ...       True\n",
              "17    <tensorflow.python.keras.layers.convolutional.Conv2D object at 0x7fc93788f518>  ...       True\n",
              "18    <tensorflow.python.keras.layers.pooling.MaxPooling2D object at 0x7fc937895630>  ...       True\n",
              "19            <tensorflow.python.keras.layers.core.Flatten object at 0x7fc9378a7550>  ...       True\n",
              "\n",
              "[20 rows x 3 columns]"
            ]
          },
          "metadata": {
            "tags": []
          },
          "execution_count": 52
        }
      ]
    },
    {
      "cell_type": "code",
      "metadata": {
        "id": "pPLTjW3ph3Tc",
        "colab": {
          "base_uri": "https://localhost:8080/"
        },
        "outputId": "f48e92b5-2043-4dc0-a0c7-a842efa7c492"
      },
      "source": [
        "\r\n",
        "# MONTAMOS RED DE CLASIFICACION\r\n",
        "\r\n",
        "input_shape = vgg_model.output_shape[1]\r\n",
        "print(input_shape)\r\n"
      ],
      "execution_count": 53,
      "outputs": [
        {
          "output_type": "stream",
          "text": [
            "512\n"
          ],
          "name": "stdout"
        }
      ]
    },
    {
      "cell_type": "code",
      "metadata": {
        "id": "SyXxe5RQh3Qx",
        "colab": {
          "base_uri": "https://localhost:8080/"
        },
        "outputId": "f9c2145c-1efc-48cb-b33f-50a6ba063aa6"
      },
      "source": [
        "\r\n",
        "# ARQUITECTURA CON  VGG16\r\n",
        "\r\n",
        "model_ft_vgg = ks.Sequential()\r\n",
        "\r\n",
        "model_ft_vgg.add(vgg_model)\r\n",
        "model_ft_vgg.add(ks.layers.Dense(256, activation='relu', input_shape=(input_shape,)))\r\n",
        "model_ft_vgg.add(ks.layers.Dropout(0.6))  \r\n",
        "\r\n",
        "model_ft_vgg.add(ks.layers.Dense(256, activation='relu', input_shape=(input_shape,)))\r\n",
        "model_ft_vgg.add(ks.layers.Dropout(0.6))\r\n",
        "\r\n",
        "model_ft_vgg.add(ks.layers.Dense(10, activation='softmax'))\r\n",
        "model_ft_vgg.summary()\r\n"
      ],
      "execution_count": 101,
      "outputs": [
        {
          "output_type": "stream",
          "text": [
            "Model: \"sequential_6\"\n",
            "_________________________________________________________________\n",
            "Layer (type)                 Output Shape              Param #   \n",
            "=================================================================\n",
            "model_1 (Functional)         (None, 512)               14714688  \n",
            "_________________________________________________________________\n",
            "dense_17 (Dense)             (None, 256)               131328    \n",
            "_________________________________________________________________\n",
            "dropout_11 (Dropout)         (None, 256)               0         \n",
            "_________________________________________________________________\n",
            "dense_18 (Dense)             (None, 256)               65792     \n",
            "_________________________________________________________________\n",
            "dropout_12 (Dropout)         (None, 256)               0         \n",
            "_________________________________________________________________\n",
            "dense_19 (Dense)             (None, 10)                2570      \n",
            "=================================================================\n",
            "Total params: 14,914,378\n",
            "Trainable params: 14,914,378\n",
            "Non-trainable params: 0\n",
            "_________________________________________________________________\n"
          ],
          "name": "stdout"
        }
      ]
    },
    {
      "cell_type": "markdown",
      "metadata": {
        "id": "E8rr3w-REAjq"
      },
      "source": [
        "Para revisar un modelo, nos basta con llamar al método **.summary()** del modelo"
      ]
    },
    {
      "cell_type": "markdown",
      "metadata": {
        "id": "TIDaX59ZEAjr"
      },
      "source": [
        "## 3. Optimizador, función error\n"
      ]
    },
    {
      "cell_type": "code",
      "metadata": {
        "id": "9d5cloXtEAjs"
      },
      "source": [
        "# OPTIMIZADOR DEL VGG\n",
        "new_adam = Adam(learning_rate=0.00001)\n",
        "model_ft_vgg.compile(optimizer=new_adam, loss='sparse_categorical_crossentropy', metrics=['accuracy'])\n",
        "\n"
      ],
      "execution_count": 102,
      "outputs": []
    },
    {
      "cell_type": "markdown",
      "metadata": {
        "id": "473OfIrNqrVN"
      },
      "source": [
        "# 3.1 Definimos la tecnica de Early stopping mediante callbacks"
      ]
    },
    {
      "cell_type": "code",
      "metadata": {
        "id": "jdy7Fwjtq1_C"
      },
      "source": [
        "callback_val_loss = EarlyStopping(monitor=\"val_loss\", patience=5)\r\n",
        "callback_val_accy = EarlyStopping(monitor=\"val_accuracy\", patience=10)\r\n"
      ],
      "execution_count": 103,
      "outputs": []
    },
    {
      "cell_type": "markdown",
      "metadata": {
        "id": "pAQS_ah4Vctv"
      },
      "source": [
        "# 4. Data Augmentation"
      ]
    },
    {
      "cell_type": "code",
      "metadata": {
        "colab": {
          "base_uri": "https://localhost:8080/",
          "height": 86
        },
        "id": "8K9JHmrSU-He",
        "outputId": "8bb356df-1018-429c-a7bf-927ddf610383"
      },
      "source": [
        "'''\r\n",
        "train_datagen = ImageDataGenerator( \r\n",
        "    # rescale=1./255,\r\n",
        "    horizontal_flip=True,\r\n",
        "    # rotation_range = 10,\r\n",
        "    # shear_range = 0.1,\r\n",
        "    # zoom_range= 0.1,\r\n",
        "    # width_shift_range=0.1,\r\n",
        "    # height_shift_range=0.1,\r\n",
        "    # brightness_range=(0.8,1.2),\r\n",
        "    # fill_mode='nearest'\r\n",
        "    )\r\n",
        "\r\n",
        "# debemos coger las imagenes originales, le doy la x, le doy la y \r\n",
        "# y el batch size = cuantas imagenes voy a generar por cada paquete, data generation (no podemos pasarnos, misma cantidad que le pasamos en eel data set)\r\n",
        "\r\n",
        "train_generator = train_datagen.flow( \r\n",
        "    x_train_scaled, \r\n",
        "    y_train_encoded, \r\n",
        "    batch_size=512          # hago esto para cada 30 imagenes\r\n",
        "    )\r\n",
        "'''"
      ],
      "execution_count": 104,
      "outputs": [
        {
          "output_type": "execute_result",
          "data": {
            "application/vnd.google.colaboratory.intrinsic+json": {
              "type": "string"
            },
            "text/plain": [
              "\"\\ntrain_datagen = ImageDataGenerator( \\n    # rescale=1./255,\\n    horizontal_flip=True,\\n    # rotation_range = 10,\\n    # shear_range = 0.1,\\n    # zoom_range= 0.1,\\n    # width_shift_range=0.1,\\n    # height_shift_range=0.1,\\n    # brightness_range=(0.8,1.2),\\n    # fill_mode='nearest'\\n    )\\n\\n# debemos coger las imagenes originales, le doy la x, le doy la y \\n# y el batch size = cuantas imagenes voy a generar por cada paquete, data generation (no podemos pasarnos, misma cantidad que le pasamos en eel data set)\\n\\ntrain_generator = train_datagen.flow( \\n    x_train_scaled, \\n    y_train_encoded, \\n    batch_size=512          # hago esto para cada 30 imagenes\\n    )\\n\""
            ]
          },
          "metadata": {
            "tags": []
          },
          "execution_count": 104
        }
      ]
    },
    {
      "cell_type": "code",
      "metadata": {
        "colab": {
          "base_uri": "https://localhost:8080/",
          "height": 52
        },
        "id": "a9g04hzzU-Dd",
        "outputId": "882df506-c69e-44e8-c50f-e387563ab4d2"
      },
      "source": [
        "'''\r\n",
        "sample = random.choice(range(0,1450))\r\n",
        "example_generator = train_datagen.flow(\r\n",
        "    x_train[sample:sample+1],\r\n",
        "    y_train[sample:sample+1],\r\n",
        "    batch_size=512\r\n",
        "    )\r\n",
        "\r\n",
        "plt.imshow(x_train[sample])\r\n",
        "'''"
      ],
      "execution_count": 105,
      "outputs": [
        {
          "output_type": "execute_result",
          "data": {
            "application/vnd.google.colaboratory.intrinsic+json": {
              "type": "string"
            },
            "text/plain": [
              "'\\nsample = random.choice(range(0,1450))\\nexample_generator = train_datagen.flow(\\n    x_train[sample:sample+1],\\n    y_train[sample:sample+1],\\n    batch_size=512\\n    )\\n\\nplt.imshow(x_train[sample])\\n'"
            ]
          },
          "metadata": {
            "tags": []
          },
          "execution_count": 105
        }
      ]
    },
    {
      "cell_type": "code",
      "metadata": {
        "colab": {
          "base_uri": "https://localhost:8080/",
          "height": 52
        },
        "id": "2ROTs5P0U-BL",
        "outputId": "19b0dc7a-9082-4bc5-ce3a-f95b85ff8af3"
      },
      "source": [
        "'''\r\n",
        "plt.figure(figsize=(12,12))\r\n",
        "for i in range(0,15):\r\n",
        "    plt.subplot(5,3,i+1)\r\n",
        "    for X, Y in example_generator:\r\n",
        "        image = X[0]\r\n",
        "        plt.imshow(image)\r\n",
        "        break\r\n",
        "\r\n",
        "plt.tight_layout()\r\n",
        "plt.show()\r\n",
        "'''"
      ],
      "execution_count": 106,
      "outputs": [
        {
          "output_type": "execute_result",
          "data": {
            "application/vnd.google.colaboratory.intrinsic+json": {
              "type": "string"
            },
            "text/plain": [
              "'\\nplt.figure(figsize=(12,12))\\nfor i in range(0,15):\\n    plt.subplot(5,3,i+1)\\n    for X, Y in example_generator:\\n        image = X[0]\\n        plt.imshow(image)\\n        break\\n\\nplt.tight_layout()\\nplt.show()\\n'"
            ]
          },
          "metadata": {
            "tags": []
          },
          "execution_count": 106
        }
      ]
    },
    {
      "cell_type": "code",
      "metadata": {
        "colab": {
          "base_uri": "https://localhost:8080/",
          "height": 52
        },
        "id": "9Q1UX-N7U99y",
        "outputId": "3ac017e1-fce1-4af6-b5a0-4e2b6b076b18"
      },
      "source": [
        "'''\r\n",
        "validation_datagen = ImageDataGenerator(\r\n",
        "    # rescale=1./255\r\n",
        "    )\r\n",
        "validation_generator = validation_datagen.flow(\r\n",
        "    x_val_scaled, \r\n",
        "    y_val_encoded, \r\n",
        "    batch_size=512\r\n",
        "    )\r\n",
        "\r\n",
        "test_datagen = ImageDataGenerator(\r\n",
        "    # rescale=1./255\r\n",
        "    )\r\n",
        "test_generator = test_datagen.flow(\r\n",
        "    x_test_scaled, \r\n",
        "    y_test_encoded,\r\n",
        "    batch_size=512\r\n",
        "    )\r\n",
        "'''"
      ],
      "execution_count": 107,
      "outputs": [
        {
          "output_type": "execute_result",
          "data": {
            "application/vnd.google.colaboratory.intrinsic+json": {
              "type": "string"
            },
            "text/plain": [
              "'\\nvalidation_datagen = ImageDataGenerator(\\n    # rescale=1./255\\n    )\\nvalidation_generator = validation_datagen.flow(\\n    x_val, \\n    y_val_encoded, \\n    batch_size=512\\n    )\\n\\ntest_datagen = ImageDataGenerator(\\n    # rescale=1./255\\n    )\\ntest_generator = test_datagen.flow(\\n    x_test, \\n    y_test_encoded,\\n    batch_size=512\\n    )\\n'"
            ]
          },
          "metadata": {
            "tags": []
          },
          "execution_count": 107
        }
      ]
    },
    {
      "cell_type": "markdown",
      "metadata": {
        "id": "Qo5RIs_MEAjx"
      },
      "source": [
        "## 5. Entrenamiento\n",
        "\n",
        "Ya podemos ponernos a entrenar el modelo!! Ojo, que hemos de entrenar contra los datos convertidos al formato que espera la Convolution.\n",
        "\n",
        "Empezaremos con 30 epocs, es decir, 30 pasadas completas del dataset (que a su vez sera con mini-batches internamente), fijando un batch de 64\n",
        "\n",
        "El metodo .fit() nos permite, definir además si disponemos de varias CPUs, GPUs, y si queremos ir validando datos a cada fin de epoch."
      ]
    },
    {
      "cell_type": "code",
      "metadata": {
        "id": "_zon_fW5EAjx"
      },
      "source": [
        "t = time.perf_counter()"
      ],
      "execution_count": 108,
      "outputs": []
    },
    {
      "cell_type": "code",
      "metadata": {
        "colab": {
          "base_uri": "https://localhost:8080/"
        },
        "id": "pZKlMBrAEAjx",
        "outputId": "4f4c8927-b8a3-45dc-83e4-68421b6ea65d"
      },
      "source": [
        "# VGG16\r\n",
        "history = model_ft_vgg.fit(x_train_scaled, y_train_encoded, epochs=100, callbacks=[callback_val_loss,callback_val_accy], batch_size= 512, validation_data=(x_val_scaled, y_val_encoded))\r\n"
      ],
      "execution_count": 109,
      "outputs": [
        {
          "output_type": "stream",
          "text": [
            "Epoch 1/100\n",
            "79/79 [==============================] - 30s 363ms/step - loss: 3.1932 - accuracy: 0.1280 - val_loss: 2.1854 - val_accuracy: 0.3643\n",
            "Epoch 2/100\n",
            "79/79 [==============================] - 28s 359ms/step - loss: 2.1966 - accuracy: 0.1782 - val_loss: 1.8783 - val_accuracy: 0.5511\n",
            "Epoch 3/100\n",
            "79/79 [==============================] - 28s 357ms/step - loss: 1.9821 - accuracy: 0.2793 - val_loss: 1.4173 - val_accuracy: 0.7201\n",
            "Epoch 4/100\n",
            "79/79 [==============================] - 28s 358ms/step - loss: 1.6824 - accuracy: 0.4000 - val_loss: 1.0688 - val_accuracy: 0.7494\n",
            "Epoch 5/100\n",
            "79/79 [==============================] - 28s 357ms/step - loss: 1.4123 - accuracy: 0.5036 - val_loss: 0.8392 - val_accuracy: 0.7873\n",
            "Epoch 6/100\n",
            "79/79 [==============================] - 28s 357ms/step - loss: 1.1686 - accuracy: 0.5943 - val_loss: 0.7206 - val_accuracy: 0.8305\n",
            "Epoch 7/100\n",
            "79/79 [==============================] - 28s 357ms/step - loss: 0.9615 - accuracy: 0.6694 - val_loss: 0.6267 - val_accuracy: 0.8474\n",
            "Epoch 8/100\n",
            "79/79 [==============================] - 28s 357ms/step - loss: 0.8053 - accuracy: 0.7286 - val_loss: 0.5440 - val_accuracy: 0.8491\n",
            "Epoch 9/100\n",
            "79/79 [==============================] - 28s 357ms/step - loss: 0.6432 - accuracy: 0.7864 - val_loss: 0.5174 - val_accuracy: 0.8568\n",
            "Epoch 10/100\n",
            "79/79 [==============================] - 28s 358ms/step - loss: 0.5218 - accuracy: 0.8279 - val_loss: 0.5376 - val_accuracy: 0.8549\n",
            "Epoch 11/100\n",
            "79/79 [==============================] - 28s 358ms/step - loss: 0.4471 - accuracy: 0.8539 - val_loss: 0.5448 - val_accuracy: 0.8597\n",
            "Epoch 12/100\n",
            "79/79 [==============================] - 28s 358ms/step - loss: 0.3716 - accuracy: 0.8824 - val_loss: 0.5605 - val_accuracy: 0.8590\n",
            "Epoch 13/100\n",
            "79/79 [==============================] - 28s 357ms/step - loss: 0.3163 - accuracy: 0.9002 - val_loss: 0.5795 - val_accuracy: 0.8553\n",
            "Epoch 14/100\n",
            "79/79 [==============================] - 28s 357ms/step - loss: 0.2903 - accuracy: 0.9099 - val_loss: 0.6235 - val_accuracy: 0.8560\n"
          ],
          "name": "stdout"
        }
      ]
    },
    {
      "cell_type": "markdown",
      "metadata": {
        "id": "r0vC4X-gj152"
      },
      "source": [
        "## 6. Evaluamos el Modelo"
      ]
    },
    {
      "cell_type": "code",
      "metadata": {
        "id": "lmyFJHDZEAjy",
        "colab": {
          "base_uri": "https://localhost:8080/"
        },
        "outputId": "cd98f4dc-5f5f-4fd1-a54e-9638815703d9"
      },
      "source": [
        "# VGG16\n",
        "_, acc = model_ft_vgg.evaluate(x_test_scaled, y_test_encoded, verbose=0)\n",
        "print('Accuracy:',' %.3f' % (acc))\n"
      ],
      "execution_count": 110,
      "outputs": [
        {
          "output_type": "stream",
          "text": [
            "Accuracy:  0.852\n"
          ],
          "name": "stdout"
        }
      ]
    },
    {
      "cell_type": "code",
      "metadata": {
        "id": "ABECMmnxEAjy",
        "colab": {
          "base_uri": "https://localhost:8080/"
        },
        "outputId": "d84df33b-b8d4-45c3-e77c-04897805caf4"
      },
      "source": [
        "elapsed_time = datetime.timedelta(seconds=(time.perf_counter() - t))\n",
        "\n",
        "print('Tiempo de entrenamiento:', elapsed_time)"
      ],
      "execution_count": 111,
      "outputs": [
        {
          "output_type": "stream",
          "text": [
            "Tiempo de entrenamiento: 0:06:42.079045\n"
          ],
          "name": "stdout"
        }
      ]
    },
    {
      "cell_type": "code",
      "metadata": {
        "id": "TmBDPUbvjrmd",
        "colab": {
          "base_uri": "https://localhost:8080/"
        },
        "outputId": "93c422f3-6a7a-4451-c076-1aa714743961"
      },
      "source": [
        "# for VGG16\r\n",
        "_, acc = model_ft_vgg.evaluate(x_test_scaled, y_test_encoded, verbose=0)\r\n",
        "print('Accuracy:',' %.3f' % (acc))"
      ],
      "execution_count": 112,
      "outputs": [
        {
          "output_type": "stream",
          "text": [
            "Accuracy:  0.852\n"
          ],
          "name": "stdout"
        }
      ]
    },
    {
      "cell_type": "code",
      "metadata": {
        "id": "tX3d-8DSEAjz",
        "colab": {
          "base_uri": "https://localhost:8080/",
          "height": 545
        },
        "outputId": "ab5d4fe2-e670-45b0-8510-58b22d82fcf1"
      },
      "source": [
        "plt.title('Cross Entropy Loss')\n",
        "plt.plot(history.history['loss'], color='blue', label='train')\n",
        "plt.plot(history.history['val_loss'], color='orange', label='test')\n",
        "plt.show()\n",
        "\n",
        "plt.title('Classification Accuracy')\n",
        "plt.plot(history.history['accuracy'], color='blue', label='train')\n",
        "plt.plot(history.history['val_accuracy'], color='orange', label='test')\n",
        "plt.show()"
      ],
      "execution_count": 113,
      "outputs": [
        {
          "output_type": "display_data",
          "data": {
            "image/png": "[encoded data removed]",
            "text/plain": [
              "<Figure size 432x288 with 1 Axes>"
            ]
          },
          "metadata": {
            "tags": [],
            "needs_background": "light"
          }
        },
        {
          "output_type": "display_data",
          "data": {
            "image/png": "[encoded data removed]",
            "text/plain": [
              "<Figure size 432x288 with 1 Axes>"
            ]
          },
          "metadata": {
            "tags": [],
            "needs_background": "light"
          }
        }
      ]
    },
    {
      "cell_type": "markdown",
      "metadata": {
        "id": "xxY4L8MWEAjz"
      },
      "source": [
        "El coste podemos ver que es estable y es en el epoch 15 que se fija en un valor. Además la accuracy baila alrededor de 0.10. No se puede decir que sea un modelo muy bueno.\n",
        "\n",
        "Veamos que tipo de predicciones estoy obteniendo sobre el conjunto de test (vamos a pintar las imagenes y sus clasificaciones)"
      ]
    },
    {
      "cell_type": "code",
      "metadata": {
        "id": "PLoz02mgEAj0"
      },
      "source": [
        "predictions = model_ft_vgg.predict(x_test_scaled)"
      ],
      "execution_count": 114,
      "outputs": []
    },
    {
      "cell_type": "markdown",
      "metadata": {
        "id": "Lpx-DsZvEAj0"
      },
      "source": [
        "Una de las ventajas de Python es que hay montones de funciones y código realizado por terceras personas. Aquí me he fusilado unas bonitas funciones (que he adaptado un poco a mis necesidades) para poder pintar las imagenes, su label (ground truth) y las clasificaciones que hemos realizado."
      ]
    },
    {
      "cell_type": "code",
      "metadata": {
        "id": "PXshk6eWEAj0"
      },
      "source": [
        "def plot_image(i, predictions_array, true_label, img):\n",
        "  predictions_array, true_label, img = predictions_array, true_label[i], img[i]\n",
        "  plt.grid(False)\n",
        "  plt.xticks([])\n",
        "  plt.yticks([])\n",
        "\n",
        "  plt.imshow(img, cmap=plt.cm.binary)\n",
        "\n",
        "  predicted_label = np.argmax(predictions_array)\n",
        "  if predicted_label == true_label:\n",
        "    color = 'blue'\n",
        "  else:\n",
        "    color = 'red'\n",
        "\n",
        "  plt.xlabel(\"{} {:2.0f}% ({})\".format(predicted_label,\n",
        "                                100*np.max(predictions_array),\n",
        "                                true_label[0]),\n",
        "                                color=color)\n",
        "\n",
        "def plot_value_array(i, predictions_array, true_label):\n",
        "  predictions_array, true_label = predictions_array, true_label[i]\n",
        "  plt.grid(False)\n",
        "  plt.xticks(range(10))\n",
        "  plt.yticks([])\n",
        "  thisplot = plt.bar(range(10), predictions_array, color=\"#777777\")\n",
        "  plt.ylim([0, 1])\n",
        "  predicted_label = np.argmax(predictions_array)\n",
        "\n",
        "  thisplot[predicted_label].set_color('red')\n",
        "  thisplot[true_label[0]].set_color('blue')"
      ],
      "execution_count": 115,
      "outputs": []
    },
    {
      "cell_type": "markdown",
      "metadata": {
        "id": "3jlp0uUXEAj1"
      },
      "source": [
        "Dibujamos las primeras imagenes, con las predicciones y sus valores reales (un total de 20 imagenes, para no abusar de vuestros laptops)\n",
        "\n",
        "Coloreamos las prediciones correctas en azul y los fallos en rojo. Aunque primero he impreso las etiquetas para que tengamos una referencia al grafico."
      ]
    },
    {
      "cell_type": "code",
      "metadata": {
        "id": "QVBtjzpaEAj2",
        "colab": {
          "base_uri": "https://localhost:8080/",
          "height": 899
        },
        "outputId": "2035dbb3-3a7e-4b39-dee4-3151c5a8dd58"
      },
      "source": [
        "\n",
        "i = 0\n",
        "for l in cifar10_labels:\n",
        "    print(i, l)\n",
        "    i += 1\n",
        "\n",
        "num_rows = 5\n",
        "num_cols = 4\n",
        "start = 1000\n",
        "num_images = num_rows*num_cols\n",
        "plt.figure(figsize=(2*2*num_cols, 2*num_rows))\n",
        "for i in range(num_images):\n",
        "  plt.subplot(num_rows, 2*num_cols, 2*i+1)\n",
        "  plot_image(i+start, predictions[i+start], y_test, x_test_scaled)\n",
        "  plt.subplot(num_rows, 2*num_cols, 2*i+2)\n",
        "  plot_value_array(i+start, predictions[i+start], y_test)\n",
        "plt.tight_layout()\n",
        "plt.show()"
      ],
      "execution_count": 116,
      "outputs": [
        {
          "output_type": "stream",
          "text": [
            "0 airplane\n",
            "1 automobile\n",
            "2 bird\n",
            "3 cat\n",
            "4 deer\n",
            "5 dog\n",
            "6 frog\n",
            "7 horse\n",
            "8 ship\n",
            "9 truck\n"
          ],
          "name": "stdout"
        },
        {
          "output_type": "display_data",
          "data": {
            "image/png": "[encoded data removed]",
            "text/plain": [
              "<Figure size 1152x720 with 40 Axes>"
            ]
          },
          "metadata": {
            "tags": [],
            "needs_background": "light"
          }
        }
      ]
    },
    {
      "cell_type": "code",
      "metadata": {
        "id": "6GyCLXC4EAj2"
      },
      "source": [
        ""
      ],
      "execution_count": 116,
      "outputs": []
    },
    {
      "cell_type": "code",
      "metadata": {
        "id": "fhw3q0O5EAj3"
      },
      "source": [
        ""
      ],
      "execution_count": 116,
      "outputs": []
    }
  ]
}