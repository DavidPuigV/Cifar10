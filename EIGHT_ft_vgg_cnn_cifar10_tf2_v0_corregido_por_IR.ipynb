{
  "nbformat": 4,
  "nbformat_minor": 0,
  "metadata": {
    "colab": {
      "name": "SEVEN_vgg_da_cnn_cifar10_tf2_v0_corregido_por_IR.ipynb",
      "provenance": [],
      "collapsed_sections": [],
      "toc_visible": true,
      "include_colab_link": true
    },
    "kernelspec": {
      "name": "python3",
      "display_name": "Python 3"
    },
    "accelerator": "GPU"
  },
  "cells": [
    {
      "cell_type": "markdown",
      "metadata": {
        "id": "view-in-github",
        "colab_type": "text"
      },
      "source": [
        "<a href=\"https://colab.research.google.com/github/DavidPuigV/Cifar10/blob/main/EIGHT_ft_vgg_cnn_cifar10_tf2_v0_corregido_por_IR.ipynb\" target=\"_parent\"><img src=\"https://colab.research.google.com/assets/colab-badge.svg\" alt=\"Open In Colab\"/></a>"
      ]
    },
    {
      "cell_type": "markdown",
      "metadata": {
        "id": "8ynUvxmxEAjb"
      },
      "source": [
        "![Nuclio logo](https://nuclio.school/wp-content/uploads/2018/12/nucleoDS-newBlack.png)"
      ]
    },
    {
      "cell_type": "markdown",
      "metadata": {
        "jupyter": {
          "source_hidden": true
        },
        "id": "CY25dM5WEAjm"
      },
      "source": [
        "## 1. Librerias\n",
        "\n",
        "Para empezar carguemos esas librerias que nos hacen falta"
      ]
    },
    {
      "cell_type": "code",
      "metadata": {
        "id": "7xk6r5hbEAjn"
      },
      "source": [
        "import numpy as np\n",
        "import time\n",
        "import datetime\n",
        "import random\n",
        "import pandas as pd\n",
        "import os\n",
        "\n",
        "from matplotlib import pyplot as plt\n",
        "from tensorflow import keras as ks\n",
        "from keras.utils import to_categorical\n",
        "from tensorflow.keras.callbacks import EarlyStopping\n",
        "from tensorflow.keras.regularizers import l2\n",
        "from tensorflow.keras.optimizers import Adam\n",
        "from tensorflow.keras.applications import vgg16\n",
        "from tensorflow.keras.models import Model\n",
        "from tensorflow.keras.preprocessing.image import ImageDataGenerator, load_img"
      ],
      "execution_count": 25,
      "outputs": []
    },
    {
      "cell_type": "markdown",
      "metadata": {
        "id": "6SuRYFWgEAjs"
      },
      "source": [
        "## 1.1. Preparamos los datos\n",
        "\n",
        "Cargamos los datos de CIFAR10 de los datasets directamente de las librerias de Keras. Estos ya estan dispuestos en train and test\n",
        "\n",
        "**Detalle importante:** \n",
        "> La red neuronal requiere que los inputs sean números reales, y lo haremos forzando la division de los valores de dentro de las matrices 28x28 (que tienen valoress del 0 al 255) por 255.0 (un real)"
      ]
    },
    {
      "cell_type": "code",
      "metadata": {
        "id": "ZPuXtF0uEAjt"
      },
      "source": [
        "cifar10 = ks.datasets.cifar10\n",
        "\n",
        "(x_train, y_train), (x_test, y_test) = cifar10.load_data()\n",
        "x_train_scaled, x_test_scaled = x_train / 255.0, x_test / 255.0           "
      ],
      "execution_count": 26,
      "outputs": []
    },
    {
      "cell_type": "code",
      "metadata": {
        "id": "F29oWrwCQh41",
        "colab": {
          "base_uri": "https://localhost:8080/"
        },
        "outputId": "5f7ed61a-4ea9-403e-d2f2-bcab98e21b0d"
      },
      "source": [
        "print(y_train)\r\n",
        "print(y_test)\r\n"
      ],
      "execution_count": 27,
      "outputs": [
        {
          "output_type": "stream",
          "text": [
            "[[6]\n",
            " [9]\n",
            " [9]\n",
            " ...\n",
            " [9]\n",
            " [1]\n",
            " [1]]\n",
            "[[3]\n",
            " [8]\n",
            " [8]\n",
            " ...\n",
            " [5]\n",
            " [1]\n",
            " [7]]\n"
          ],
          "name": "stdout"
        }
      ]
    },
    {
      "cell_type": "markdown",
      "metadata": {
        "id": "gLaoT4wOEAjt"
      },
      "source": [
        "Obtenemos un array con todas las labels de CIFAR10"
      ]
    },
    {
      "cell_type": "code",
      "metadata": {
        "colab": {
          "base_uri": "https://localhost:8080/"
        },
        "id": "SvqN2aEBEAju",
        "outputId": "2a799c54-2ee7-449c-a10c-4ac7b998caa7"
      },
      "source": [
        "cifar10_labels = ['airplane','automobile','bird','cat','deer','dog','frog','horse','ship','truck']\n",
        "print('labels: %s' % (cifar10_labels))"
      ],
      "execution_count": 28,
      "outputs": [
        {
          "output_type": "stream",
          "text": [
            "labels: ['airplane', 'automobile', 'bird', 'cat', 'deer', 'dog', 'frog', 'horse', 'ship', 'truck']\n"
          ],
          "name": "stdout"
        }
      ]
    },
    {
      "cell_type": "markdown",
      "metadata": {
        "id": "9-x2uJ0SXZ-C"
      },
      "source": [
        "Pintemos una muestra de las imagenes del dataset CIFAR10, a ver si se parece en algo a lo que esperamos.\r\n",
        "Primero, vemos que tipos de datos tengo, después mapeamos esas matrices en una escala de grises utilizando el método **.get_cmap()** de PlotLy con los nueve primeros números del dataset."
      ]
    },
    {
      "cell_type": "code",
      "metadata": {
        "id": "R0sMFv55XcqS",
        "colab": {
          "base_uri": "https://localhost:8080/",
          "height": 315
        },
        "outputId": "02eb944e-bd51-40a0-c908-8025bf133acb"
      },
      "source": [
        "print('Train: X=%s, y=%s' % (x_train_scaled.shape, y_train.shape))\r\n",
        "print('Test: X=%s, y=%s' % (x_test_scaled.shape, y_test.shape))\r\n",
        "\r\n",
        "for i in range(9):\r\n",
        "\r\n",
        "    plt.subplot(330 + 1 + i)\r\n",
        "    plt.imshow(x_train[i], cmap=plt.get_cmap('gray'))\r\n",
        "    plt.title(cifar10_labels[y_train[i,0]])\r\n",
        "\r\n",
        "plt.subplots_adjust(hspace = 1)\r\n",
        "plt.show()"
      ],
      "execution_count": 29,
      "outputs": [
        {
          "output_type": "stream",
          "text": [
            "Train: X=(50000, 32, 32, 3), y=(50000, 1)\n",
            "Test: X=(10000, 32, 32, 3), y=(10000, 1)\n"
          ],
          "name": "stdout"
        },
        {
          "output_type": "display_data",
          "data": {
            "image/png": "[encoded data removed]",
            "text/plain": [
              "<Figure size 432x288 with 9 Axes>"
            ]
          },
          "metadata": {
            "tags": [],
            "needs_background": "light"
          }
        }
      ]
    },
    {
      "cell_type": "markdown",
      "metadata": {
        "id": "HmLztaklEAjv"
      },
      "source": [
        "Como vamos a querer ir haciendo validación a la vez que entrenamos (muy practico)"
      ]
    },
    {
      "cell_type": "code",
      "metadata": {
        "id": "KisNc7s_EAjv"
      },
      "source": [
        "x_val_scaled= x_train_scaled[-10000:]\n",
        "y_val = y_train[-10000:]\n",
        "\n",
        "x_train_scaled= x_train_scaled[:-10000]\n",
        "y_train = y_train[:-10000]\n"
      ],
      "execution_count": 30,
      "outputs": []
    },
    {
      "cell_type": "code",
      "metadata": {
        "colab": {
          "base_uri": "https://localhost:8080/"
        },
        "id": "UbVmi_ISn6FG",
        "outputId": "b3b0e39c-97c9-4f61-aeaa-442be1605879"
      },
      "source": [
        "from sklearn.preprocessing import LabelEncoder\r\n",
        "\r\n",
        "le = LabelEncoder()\r\n",
        "le.fit(y_train)\r\n",
        "\r\n",
        "y_train_encoded = le.transform(y_train)\r\n",
        "y_val_encoded = le.transform(y_val)\r\n",
        "y_test_encoded = le.transform(y_test)"
      ],
      "execution_count": 31,
      "outputs": [
        {
          "output_type": "stream",
          "text": [
            "/usr/local/lib/python3.6/dist-packages/sklearn/preprocessing/_label.py:235: DataConversionWarning: A column-vector y was passed when a 1d array was expected. Please change the shape of y to (n_samples, ), for example using ravel().\n",
            "  y = column_or_1d(y, warn=True)\n",
            "/usr/local/lib/python3.6/dist-packages/sklearn/preprocessing/_label.py:268: DataConversionWarning: A column-vector y was passed when a 1d array was expected. Please change the shape of y to (n_samples, ), for example using ravel().\n",
            "  y = column_or_1d(y, warn=True)\n"
          ],
          "name": "stderr"
        }
      ]
    },
    {
      "cell_type": "code",
      "metadata": {
        "colab": {
          "base_uri": "https://localhost:8080/"
        },
        "id": "R0LAkWOxpCH6",
        "outputId": "50107a27-2845-4178-8371-d51d58267da3"
      },
      "source": [
        "y_train_encoded"
      ],
      "execution_count": 32,
      "outputs": [
        {
          "output_type": "execute_result",
          "data": {
            "text/plain": [
              "array([6, 9, 9, ..., 6, 2, 8])"
            ]
          },
          "metadata": {
            "tags": []
          },
          "execution_count": 32
        }
      ]
    },
    {
      "cell_type": "markdown",
      "metadata": {
        "id": "nw2HJLcWEAjw"
      },
      "source": [
        "Cuando añadimos convoluciones, necesitamos \"pre-tratar los datos\", porque **la convolución es pera una matriz de 4 campos** (más parecido a \"imagenes\"), no un array de 3 como son actualmente los data sets de train, test y validación. Así que toca darle al **.reshape()**\n",
        "\n",
        "Por eso, al salir de la Convolution, hay que hacer un Flatten, porque las capas FullDense esperan arrays, no matrices!!\n",
        "\n",
        "Luego lo imprimimos para ver que todo está correcto"
      ]
    },
    {
      "cell_type": "code",
      "metadata": {
        "colab": {
          "base_uri": "https://localhost:8080/"
        },
        "id": "dEhUfUYVEAjw",
        "outputId": "ed03eae1-e3a2-4d3c-8d12-df8284d0c310"
      },
      "source": [
        "print('Train: X=%s, y=%s' % (x_train_scaled.shape, y_train_encoded.shape))\n",
        "print('Test: X=%s, y=%s' % (x_test_scaled.shape, y_test_encoded.shape))\n",
        "print('Val: X=%s, y=%s' % (x_val_scaled.shape, y_val_encoded.shape))\n",
        "\n"
      ],
      "execution_count": 33,
      "outputs": [
        {
          "output_type": "stream",
          "text": [
            "Train: X=(40000, 32, 32, 3), y=(40000,)\n",
            "Test: X=(10000, 32, 32, 3), y=(10000,)\n",
            "Val: X=(10000, 32, 32, 3), y=(10000,)\n"
          ],
          "name": "stdout"
        }
      ]
    },
    {
      "cell_type": "markdown",
      "metadata": {
        "id": "1lgE15Cyhamj"
      },
      "source": [
        "# 2. VGG16 Carga de la parte de extraccion de features\r\n",
        "\r\n",
        "Dos aproximaciones distintas...\r\n",
        "\r\n",
        "\r\n",
        "Basic se hace en dos pasos:\r\n",
        "Se cargar VGG16, sin classifcacion hasta el flatten, se procesan las imagenes hasta el bottleneck (donde se estrecha VGG16)\r\n",
        "Se monta la red de clasificacion con un input_shape fijado a partir de la salida de VGG16 (su flatten) y se entrena con los datos pasados por VGG16\r\n",
        "Fine Tuning, como requiere entrenar una red completa, se carga VGG16, se \"descongelan capas\" y se empalma con una red de clasificacion.\r\n",
        "\r\n",
        "en FT se entrena TODA la red... en Basic solo la classificacion tras pasar los datos por \"preprocesado\""
      ]
    },
    {
      "cell_type": "code",
      "metadata": {
        "id": "cwDyiKEbhaOx",
        "colab": {
          "base_uri": "https://localhost:8080/"
        },
        "outputId": "33dee581-f797-4268-ce7d-e153d4745ca1"
      },
      "source": [
        "\r\n",
        "vgg = vgg16.VGG16(include_top=False, weights='imagenet', input_shape=(32,32,3))\r\n",
        "vgg.summary()\r\n"
      ],
      "execution_count": 34,
      "outputs": [
        {
          "output_type": "stream",
          "text": [
            "Model: \"vgg16\"\n",
            "_________________________________________________________________\n",
            "Layer (type)                 Output Shape              Param #   \n",
            "=================================================================\n",
            "input_2 (InputLayer)         [(None, 32, 32, 3)]       0         \n",
            "_________________________________________________________________\n",
            "block1_conv1 (Conv2D)        (None, 32, 32, 64)        1792      \n",
            "_________________________________________________________________\n",
            "block1_conv2 (Conv2D)        (None, 32, 32, 64)        36928     \n",
            "_________________________________________________________________\n",
            "block1_pool (MaxPooling2D)   (None, 16, 16, 64)        0         \n",
            "_________________________________________________________________\n",
            "block2_conv1 (Conv2D)        (None, 16, 16, 128)       73856     \n",
            "_________________________________________________________________\n",
            "block2_conv2 (Conv2D)        (None, 16, 16, 128)       147584    \n",
            "_________________________________________________________________\n",
            "block2_pool (MaxPooling2D)   (None, 8, 8, 128)         0         \n",
            "_________________________________________________________________\n",
            "block3_conv1 (Conv2D)        (None, 8, 8, 256)         295168    \n",
            "_________________________________________________________________\n",
            "block3_conv2 (Conv2D)        (None, 8, 8, 256)         590080    \n",
            "_________________________________________________________________\n",
            "block3_conv3 (Conv2D)        (None, 8, 8, 256)         590080    \n",
            "_________________________________________________________________\n",
            "block3_pool (MaxPooling2D)   (None, 4, 4, 256)         0         \n",
            "_________________________________________________________________\n",
            "block4_conv1 (Conv2D)        (None, 4, 4, 512)         1180160   \n",
            "_________________________________________________________________\n",
            "block4_conv2 (Conv2D)        (None, 4, 4, 512)         2359808   \n",
            "_________________________________________________________________\n",
            "block4_conv3 (Conv2D)        (None, 4, 4, 512)         2359808   \n",
            "_________________________________________________________________\n",
            "block4_pool (MaxPooling2D)   (None, 2, 2, 512)         0         \n",
            "_________________________________________________________________\n",
            "block5_conv1 (Conv2D)        (None, 2, 2, 512)         2359808   \n",
            "_________________________________________________________________\n",
            "block5_conv2 (Conv2D)        (None, 2, 2, 512)         2359808   \n",
            "_________________________________________________________________\n",
            "block5_conv3 (Conv2D)        (None, 2, 2, 512)         2359808   \n",
            "_________________________________________________________________\n",
            "block5_pool (MaxPooling2D)   (None, 1, 1, 512)         0         \n",
            "=================================================================\n",
            "Total params: 14,714,688\n",
            "Trainable params: 14,714,688\n",
            "Non-trainable params: 0\n",
            "_________________________________________________________________\n"
          ],
          "name": "stdout"
        }
      ]
    },
    {
      "cell_type": "code",
      "metadata": {
        "id": "YnomeawuhaMo",
        "colab": {
          "base_uri": "https://localhost:8080/"
        },
        "outputId": "663d2293-6636-43ce-cd8f-6a34fec290ad"
      },
      "source": [
        "_\r\n",
        "def_output = vgg.layers[-1].output\r\n",
        "new_output_layer = ks.layers.Flatten()(def_output)\r\n",
        "new_output_layer\r\n"
      ],
      "execution_count": 35,
      "outputs": [
        {
          "output_type": "execute_result",
          "data": {
            "text/plain": [
              "<KerasTensor: shape=(None, 512) dtype=float32 (created by layer 'flatten_1')>"
            ]
          },
          "metadata": {
            "tags": []
          },
          "execution_count": 35
        }
      ]
    },
    {
      "cell_type": "code",
      "metadata": {
        "id": "bS9OGPzdhaKW",
        "colab": {
          "base_uri": "https://localhost:8080/"
        },
        "outputId": "18ecbbc4-d65d-4590-884f-cde18c712ad3"
      },
      "source": [
        "\r\n",
        "vgg_model = Model(vgg.input, new_output_layer)\r\n",
        "vgg_model.summary()\r\n"
      ],
      "execution_count": 36,
      "outputs": [
        {
          "output_type": "stream",
          "text": [
            "Model: \"model_1\"\n",
            "_________________________________________________________________\n",
            "Layer (type)                 Output Shape              Param #   \n",
            "=================================================================\n",
            "input_2 (InputLayer)         [(None, 32, 32, 3)]       0         \n",
            "_________________________________________________________________\n",
            "block1_conv1 (Conv2D)        (None, 32, 32, 64)        1792      \n",
            "_________________________________________________________________\n",
            "block1_conv2 (Conv2D)        (None, 32, 32, 64)        36928     \n",
            "_________________________________________________________________\n",
            "block1_pool (MaxPooling2D)   (None, 16, 16, 64)        0         \n",
            "_________________________________________________________________\n",
            "block2_conv1 (Conv2D)        (None, 16, 16, 128)       73856     \n",
            "_________________________________________________________________\n",
            "block2_conv2 (Conv2D)        (None, 16, 16, 128)       147584    \n",
            "_________________________________________________________________\n",
            "block2_pool (MaxPooling2D)   (None, 8, 8, 128)         0         \n",
            "_________________________________________________________________\n",
            "block3_conv1 (Conv2D)        (None, 8, 8, 256)         295168    \n",
            "_________________________________________________________________\n",
            "block3_conv2 (Conv2D)        (None, 8, 8, 256)         590080    \n",
            "_________________________________________________________________\n",
            "block3_conv3 (Conv2D)        (None, 8, 8, 256)         590080    \n",
            "_________________________________________________________________\n",
            "block3_pool (MaxPooling2D)   (None, 4, 4, 256)         0         \n",
            "_________________________________________________________________\n",
            "block4_conv1 (Conv2D)        (None, 4, 4, 512)         1180160   \n",
            "_________________________________________________________________\n",
            "block4_conv2 (Conv2D)        (None, 4, 4, 512)         2359808   \n",
            "_________________________________________________________________\n",
            "block4_conv3 (Conv2D)        (None, 4, 4, 512)         2359808   \n",
            "_________________________________________________________________\n",
            "block4_pool (MaxPooling2D)   (None, 2, 2, 512)         0         \n",
            "_________________________________________________________________\n",
            "block5_conv1 (Conv2D)        (None, 2, 2, 512)         2359808   \n",
            "_________________________________________________________________\n",
            "block5_conv2 (Conv2D)        (None, 2, 2, 512)         2359808   \n",
            "_________________________________________________________________\n",
            "block5_conv3 (Conv2D)        (None, 2, 2, 512)         2359808   \n",
            "_________________________________________________________________\n",
            "block5_pool (MaxPooling2D)   (None, 1, 1, 512)         0         \n",
            "_________________________________________________________________\n",
            "flatten_1 (Flatten)          (None, 512)               0         \n",
            "=================================================================\n",
            "Total params: 14,714,688\n",
            "Trainable params: 14,714,688\n",
            "Non-trainable params: 0\n",
            "_________________________________________________________________\n"
          ],
          "name": "stdout"
        }
      ]
    },
    {
      "cell_type": "code",
      "metadata": {
        "id": "NxldiUy2haHb",
        "colab": {
          "base_uri": "https://localhost:8080/",
          "height": 669
        },
        "outputId": "81bc335b-cd7c-4a6d-9ae3-34298a34c4d1"
      },
      "source": [
        "# mirem com estan els pesos de la xarxa vgg16\r\n",
        "\r\n",
        "pd.set_option('max_colwidth', None)                                             \r\n",
        "layers = [(layer, layer.name, layer.trainable) for layer in vgg_model.layers]\r\n",
        "pd.DataFrame(layers, columns=['Layer Type', 'Layer Name', 'Trainable?'])\r\n"
      ],
      "execution_count": 37,
      "outputs": [
        {
          "output_type": "execute_result",
          "data": {
            "text/html": [
              "<div>\n",
              "<style scoped>\n",
              "    .dataframe tbody tr th:only-of-type {\n",
              "        vertical-align: middle;\n",
              "    }\n",
              "\n",
              "    .dataframe tbody tr th {\n",
              "        vertical-align: top;\n",
              "    }\n",
              "\n",
              "    .dataframe thead th {\n",
              "        text-align: right;\n",
              "    }\n",
              "</style>\n",
              "<table border=\"1\" class=\"dataframe\">\n",
              "  <thead>\n",
              "    <tr style=\"text-align: right;\">\n",
              "      <th></th>\n",
              "      <th>Layer Type</th>\n",
              "      <th>Layer Name</th>\n",
              "      <th>Trainable?</th>\n",
              "    </tr>\n",
              "  </thead>\n",
              "  <tbody>\n",
              "    <tr>\n",
              "      <th>0</th>\n",
              "      <td>&lt;tensorflow.python.keras.engine.input_layer.InputLayer object at 0x7f9837b162b0&gt;</td>\n",
              "      <td>input_2</td>\n",
              "      <td>True</td>\n",
              "    </tr>\n",
              "    <tr>\n",
              "      <th>1</th>\n",
              "      <td>&lt;tensorflow.python.keras.layers.convolutional.Conv2D object at 0x7f9837b167f0&gt;</td>\n",
              "      <td>block1_conv1</td>\n",
              "      <td>True</td>\n",
              "    </tr>\n",
              "    <tr>\n",
              "      <th>2</th>\n",
              "      <td>&lt;tensorflow.python.keras.layers.convolutional.Conv2D object at 0x7f9837b16c18&gt;</td>\n",
              "      <td>block1_conv2</td>\n",
              "      <td>True</td>\n",
              "    </tr>\n",
              "    <tr>\n",
              "      <th>3</th>\n",
              "      <td>&lt;tensorflow.python.keras.layers.pooling.MaxPooling2D object at 0x7f97d4074978&gt;</td>\n",
              "      <td>block1_pool</td>\n",
              "      <td>True</td>\n",
              "    </tr>\n",
              "    <tr>\n",
              "      <th>4</th>\n",
              "      <td>&lt;tensorflow.python.keras.layers.convolutional.Conv2D object at 0x7f98201089b0&gt;</td>\n",
              "      <td>block2_conv1</td>\n",
              "      <td>True</td>\n",
              "    </tr>\n",
              "    <tr>\n",
              "      <th>5</th>\n",
              "      <td>&lt;tensorflow.python.keras.layers.convolutional.Conv2D object at 0x7f97d406db00&gt;</td>\n",
              "      <td>block2_conv2</td>\n",
              "      <td>True</td>\n",
              "    </tr>\n",
              "    <tr>\n",
              "      <th>6</th>\n",
              "      <td>&lt;tensorflow.python.keras.layers.pooling.MaxPooling2D object at 0x7f97d40663c8&gt;</td>\n",
              "      <td>block2_pool</td>\n",
              "      <td>True</td>\n",
              "    </tr>\n",
              "    <tr>\n",
              "      <th>7</th>\n",
              "      <td>&lt;tensorflow.python.keras.layers.convolutional.Conv2D object at 0x7f97d4074198&gt;</td>\n",
              "      <td>block3_conv1</td>\n",
              "      <td>True</td>\n",
              "    </tr>\n",
              "    <tr>\n",
              "      <th>8</th>\n",
              "      <td>&lt;tensorflow.python.keras.layers.convolutional.Conv2D object at 0x7f97d404b208&gt;</td>\n",
              "      <td>block3_conv2</td>\n",
              "      <td>True</td>\n",
              "    </tr>\n",
              "    <tr>\n",
              "      <th>9</th>\n",
              "      <td>&lt;tensorflow.python.keras.layers.convolutional.Conv2D object at 0x7f97d40a15c0&gt;</td>\n",
              "      <td>block3_conv3</td>\n",
              "      <td>True</td>\n",
              "    </tr>\n",
              "    <tr>\n",
              "      <th>10</th>\n",
              "      <td>&lt;tensorflow.python.keras.layers.pooling.MaxPooling2D object at 0x7f97ce7ec828&gt;</td>\n",
              "      <td>block3_pool</td>\n",
              "      <td>True</td>\n",
              "    </tr>\n",
              "    <tr>\n",
              "      <th>11</th>\n",
              "      <td>&lt;tensorflow.python.keras.layers.convolutional.Conv2D object at 0x7f97d40b2198&gt;</td>\n",
              "      <td>block4_conv1</td>\n",
              "      <td>True</td>\n",
              "    </tr>\n",
              "    <tr>\n",
              "      <th>12</th>\n",
              "      <td>&lt;tensorflow.python.keras.layers.convolutional.Conv2D object at 0x7f97ce7ec080&gt;</td>\n",
              "      <td>block4_conv2</td>\n",
              "      <td>True</td>\n",
              "    </tr>\n",
              "    <tr>\n",
              "      <th>13</th>\n",
              "      <td>&lt;tensorflow.python.keras.layers.convolutional.Conv2D object at 0x7f97ce7ec7b8&gt;</td>\n",
              "      <td>block4_conv3</td>\n",
              "      <td>True</td>\n",
              "    </tr>\n",
              "    <tr>\n",
              "      <th>14</th>\n",
              "      <td>&lt;tensorflow.python.keras.layers.pooling.MaxPooling2D object at 0x7f97ce78a518&gt;</td>\n",
              "      <td>block4_pool</td>\n",
              "      <td>True</td>\n",
              "    </tr>\n",
              "    <tr>\n",
              "      <th>15</th>\n",
              "      <td>&lt;tensorflow.python.keras.layers.convolutional.Conv2D object at 0x7f97ce78a4e0&gt;</td>\n",
              "      <td>block5_conv1</td>\n",
              "      <td>True</td>\n",
              "    </tr>\n",
              "    <tr>\n",
              "      <th>16</th>\n",
              "      <td>&lt;tensorflow.python.keras.layers.convolutional.Conv2D object at 0x7f97d4053860&gt;</td>\n",
              "      <td>block5_conv2</td>\n",
              "      <td>True</td>\n",
              "    </tr>\n",
              "    <tr>\n",
              "      <th>17</th>\n",
              "      <td>&lt;tensorflow.python.keras.layers.convolutional.Conv2D object at 0x7f97ce78ad30&gt;</td>\n",
              "      <td>block5_conv3</td>\n",
              "      <td>True</td>\n",
              "    </tr>\n",
              "    <tr>\n",
              "      <th>18</th>\n",
              "      <td>&lt;tensorflow.python.keras.layers.pooling.MaxPooling2D object at 0x7f97ce78e710&gt;</td>\n",
              "      <td>block5_pool</td>\n",
              "      <td>True</td>\n",
              "    </tr>\n",
              "    <tr>\n",
              "      <th>19</th>\n",
              "      <td>&lt;tensorflow.python.keras.layers.core.Flatten object at 0x7f97ce7a0c88&gt;</td>\n",
              "      <td>flatten_1</td>\n",
              "      <td>True</td>\n",
              "    </tr>\n",
              "  </tbody>\n",
              "</table>\n",
              "</div>"
            ],
            "text/plain": [
              "                                                                          Layer Type  ... Trainable?\n",
              "0   <tensorflow.python.keras.engine.input_layer.InputLayer object at 0x7f9837b162b0>  ...       True\n",
              "1     <tensorflow.python.keras.layers.convolutional.Conv2D object at 0x7f9837b167f0>  ...       True\n",
              "2     <tensorflow.python.keras.layers.convolutional.Conv2D object at 0x7f9837b16c18>  ...       True\n",
              "3     <tensorflow.python.keras.layers.pooling.MaxPooling2D object at 0x7f97d4074978>  ...       True\n",
              "4     <tensorflow.python.keras.layers.convolutional.Conv2D object at 0x7f98201089b0>  ...       True\n",
              "5     <tensorflow.python.keras.layers.convolutional.Conv2D object at 0x7f97d406db00>  ...       True\n",
              "6     <tensorflow.python.keras.layers.pooling.MaxPooling2D object at 0x7f97d40663c8>  ...       True\n",
              "7     <tensorflow.python.keras.layers.convolutional.Conv2D object at 0x7f97d4074198>  ...       True\n",
              "8     <tensorflow.python.keras.layers.convolutional.Conv2D object at 0x7f97d404b208>  ...       True\n",
              "9     <tensorflow.python.keras.layers.convolutional.Conv2D object at 0x7f97d40a15c0>  ...       True\n",
              "10    <tensorflow.python.keras.layers.pooling.MaxPooling2D object at 0x7f97ce7ec828>  ...       True\n",
              "11    <tensorflow.python.keras.layers.convolutional.Conv2D object at 0x7f97d40b2198>  ...       True\n",
              "12    <tensorflow.python.keras.layers.convolutional.Conv2D object at 0x7f97ce7ec080>  ...       True\n",
              "13    <tensorflow.python.keras.layers.convolutional.Conv2D object at 0x7f97ce7ec7b8>  ...       True\n",
              "14    <tensorflow.python.keras.layers.pooling.MaxPooling2D object at 0x7f97ce78a518>  ...       True\n",
              "15    <tensorflow.python.keras.layers.convolutional.Conv2D object at 0x7f97ce78a4e0>  ...       True\n",
              "16    <tensorflow.python.keras.layers.convolutional.Conv2D object at 0x7f97d4053860>  ...       True\n",
              "17    <tensorflow.python.keras.layers.convolutional.Conv2D object at 0x7f97ce78ad30>  ...       True\n",
              "18    <tensorflow.python.keras.layers.pooling.MaxPooling2D object at 0x7f97ce78e710>  ...       True\n",
              "19            <tensorflow.python.keras.layers.core.Flatten object at 0x7f97ce7a0c88>  ...       True\n",
              "\n",
              "[20 rows x 3 columns]"
            ]
          },
          "metadata": {
            "tags": []
          },
          "execution_count": 37
        }
      ]
    },
    {
      "cell_type": "code",
      "metadata": {
        "id": "s01pGSR6haEf",
        "colab": {
          "base_uri": "https://localhost:8080/"
        },
        "outputId": "0c5a9f92-9a74-489b-c17e-25490488356f"
      },
      "source": [
        "\r\n",
        "print(vgg_model.trainable)\r\n"
      ],
      "execution_count": 38,
      "outputs": [
        {
          "output_type": "stream",
          "text": [
            "True\n"
          ],
          "name": "stdout"
        }
      ]
    },
    {
      "cell_type": "code",
      "metadata": {
        "id": "-c9RpDz-haCQ"
      },
      "source": [
        "# obrim la porta a poderlos modificar despres\r\n",
        "vgg_model.trainable = True    \r\n",
        "\r\n",
        "# pero els posem en false de moment\r\n",
        "for layer in vgg_model.layers:\r\n",
        "  layer.trainable = False\r\n"
      ],
      "execution_count": 39,
      "outputs": []
    },
    {
      "cell_type": "code",
      "metadata": {
        "id": "AoWcD4C_hZ_T",
        "colab": {
          "base_uri": "https://localhost:8080/",
          "height": 669
        },
        "outputId": "1629b818-5771-4fc8-c728-c5e0232dd433"
      },
      "source": [
        "# comprobem que estiguin en false\r\n",
        "pd.set_option('max_colwidth', None)                                             \r\n",
        "layers = [(layer, layer.name, layer.trainable) for layer in vgg_model.layers]\r\n",
        "pd.DataFrame(layers, columns=['Layer Type', 'Layer Name', 'Trainable?'])\r\n"
      ],
      "execution_count": 40,
      "outputs": [
        {
          "output_type": "execute_result",
          "data": {
            "text/html": [
              "<div>\n",
              "<style scoped>\n",
              "    .dataframe tbody tr th:only-of-type {\n",
              "        vertical-align: middle;\n",
              "    }\n",
              "\n",
              "    .dataframe tbody tr th {\n",
              "        vertical-align: top;\n",
              "    }\n",
              "\n",
              "    .dataframe thead th {\n",
              "        text-align: right;\n",
              "    }\n",
              "</style>\n",
              "<table border=\"1\" class=\"dataframe\">\n",
              "  <thead>\n",
              "    <tr style=\"text-align: right;\">\n",
              "      <th></th>\n",
              "      <th>Layer Type</th>\n",
              "      <th>Layer Name</th>\n",
              "      <th>Trainable?</th>\n",
              "    </tr>\n",
              "  </thead>\n",
              "  <tbody>\n",
              "    <tr>\n",
              "      <th>0</th>\n",
              "      <td>&lt;tensorflow.python.keras.engine.input_layer.InputLayer object at 0x7f9837b162b0&gt;</td>\n",
              "      <td>input_2</td>\n",
              "      <td>False</td>\n",
              "    </tr>\n",
              "    <tr>\n",
              "      <th>1</th>\n",
              "      <td>&lt;tensorflow.python.keras.layers.convolutional.Conv2D object at 0x7f9837b167f0&gt;</td>\n",
              "      <td>block1_conv1</td>\n",
              "      <td>False</td>\n",
              "    </tr>\n",
              "    <tr>\n",
              "      <th>2</th>\n",
              "      <td>&lt;tensorflow.python.keras.layers.convolutional.Conv2D object at 0x7f9837b16c18&gt;</td>\n",
              "      <td>block1_conv2</td>\n",
              "      <td>False</td>\n",
              "    </tr>\n",
              "    <tr>\n",
              "      <th>3</th>\n",
              "      <td>&lt;tensorflow.python.keras.layers.pooling.MaxPooling2D object at 0x7f97d4074978&gt;</td>\n",
              "      <td>block1_pool</td>\n",
              "      <td>False</td>\n",
              "    </tr>\n",
              "    <tr>\n",
              "      <th>4</th>\n",
              "      <td>&lt;tensorflow.python.keras.layers.convolutional.Conv2D object at 0x7f98201089b0&gt;</td>\n",
              "      <td>block2_conv1</td>\n",
              "      <td>False</td>\n",
              "    </tr>\n",
              "    <tr>\n",
              "      <th>5</th>\n",
              "      <td>&lt;tensorflow.python.keras.layers.convolutional.Conv2D object at 0x7f97d406db00&gt;</td>\n",
              "      <td>block2_conv2</td>\n",
              "      <td>False</td>\n",
              "    </tr>\n",
              "    <tr>\n",
              "      <th>6</th>\n",
              "      <td>&lt;tensorflow.python.keras.layers.pooling.MaxPooling2D object at 0x7f97d40663c8&gt;</td>\n",
              "      <td>block2_pool</td>\n",
              "      <td>False</td>\n",
              "    </tr>\n",
              "    <tr>\n",
              "      <th>7</th>\n",
              "      <td>&lt;tensorflow.python.keras.layers.convolutional.Conv2D object at 0x7f97d4074198&gt;</td>\n",
              "      <td>block3_conv1</td>\n",
              "      <td>False</td>\n",
              "    </tr>\n",
              "    <tr>\n",
              "      <th>8</th>\n",
              "      <td>&lt;tensorflow.python.keras.layers.convolutional.Conv2D object at 0x7f97d404b208&gt;</td>\n",
              "      <td>block3_conv2</td>\n",
              "      <td>False</td>\n",
              "    </tr>\n",
              "    <tr>\n",
              "      <th>9</th>\n",
              "      <td>&lt;tensorflow.python.keras.layers.convolutional.Conv2D object at 0x7f97d40a15c0&gt;</td>\n",
              "      <td>block3_conv3</td>\n",
              "      <td>False</td>\n",
              "    </tr>\n",
              "    <tr>\n",
              "      <th>10</th>\n",
              "      <td>&lt;tensorflow.python.keras.layers.pooling.MaxPooling2D object at 0x7f97ce7ec828&gt;</td>\n",
              "      <td>block3_pool</td>\n",
              "      <td>False</td>\n",
              "    </tr>\n",
              "    <tr>\n",
              "      <th>11</th>\n",
              "      <td>&lt;tensorflow.python.keras.layers.convolutional.Conv2D object at 0x7f97d40b2198&gt;</td>\n",
              "      <td>block4_conv1</td>\n",
              "      <td>False</td>\n",
              "    </tr>\n",
              "    <tr>\n",
              "      <th>12</th>\n",
              "      <td>&lt;tensorflow.python.keras.layers.convolutional.Conv2D object at 0x7f97ce7ec080&gt;</td>\n",
              "      <td>block4_conv2</td>\n",
              "      <td>False</td>\n",
              "    </tr>\n",
              "    <tr>\n",
              "      <th>13</th>\n",
              "      <td>&lt;tensorflow.python.keras.layers.convolutional.Conv2D object at 0x7f97ce7ec7b8&gt;</td>\n",
              "      <td>block4_conv3</td>\n",
              "      <td>False</td>\n",
              "    </tr>\n",
              "    <tr>\n",
              "      <th>14</th>\n",
              "      <td>&lt;tensorflow.python.keras.layers.pooling.MaxPooling2D object at 0x7f97ce78a518&gt;</td>\n",
              "      <td>block4_pool</td>\n",
              "      <td>False</td>\n",
              "    </tr>\n",
              "    <tr>\n",
              "      <th>15</th>\n",
              "      <td>&lt;tensorflow.python.keras.layers.convolutional.Conv2D object at 0x7f97ce78a4e0&gt;</td>\n",
              "      <td>block5_conv1</td>\n",
              "      <td>False</td>\n",
              "    </tr>\n",
              "    <tr>\n",
              "      <th>16</th>\n",
              "      <td>&lt;tensorflow.python.keras.layers.convolutional.Conv2D object at 0x7f97d4053860&gt;</td>\n",
              "      <td>block5_conv2</td>\n",
              "      <td>False</td>\n",
              "    </tr>\n",
              "    <tr>\n",
              "      <th>17</th>\n",
              "      <td>&lt;tensorflow.python.keras.layers.convolutional.Conv2D object at 0x7f97ce78ad30&gt;</td>\n",
              "      <td>block5_conv3</td>\n",
              "      <td>False</td>\n",
              "    </tr>\n",
              "    <tr>\n",
              "      <th>18</th>\n",
              "      <td>&lt;tensorflow.python.keras.layers.pooling.MaxPooling2D object at 0x7f97ce78e710&gt;</td>\n",
              "      <td>block5_pool</td>\n",
              "      <td>False</td>\n",
              "    </tr>\n",
              "    <tr>\n",
              "      <th>19</th>\n",
              "      <td>&lt;tensorflow.python.keras.layers.core.Flatten object at 0x7f97ce7a0c88&gt;</td>\n",
              "      <td>flatten_1</td>\n",
              "      <td>False</td>\n",
              "    </tr>\n",
              "  </tbody>\n",
              "</table>\n",
              "</div>"
            ],
            "text/plain": [
              "                                                                          Layer Type  ... Trainable?\n",
              "0   <tensorflow.python.keras.engine.input_layer.InputLayer object at 0x7f9837b162b0>  ...      False\n",
              "1     <tensorflow.python.keras.layers.convolutional.Conv2D object at 0x7f9837b167f0>  ...      False\n",
              "2     <tensorflow.python.keras.layers.convolutional.Conv2D object at 0x7f9837b16c18>  ...      False\n",
              "3     <tensorflow.python.keras.layers.pooling.MaxPooling2D object at 0x7f97d4074978>  ...      False\n",
              "4     <tensorflow.python.keras.layers.convolutional.Conv2D object at 0x7f98201089b0>  ...      False\n",
              "5     <tensorflow.python.keras.layers.convolutional.Conv2D object at 0x7f97d406db00>  ...      False\n",
              "6     <tensorflow.python.keras.layers.pooling.MaxPooling2D object at 0x7f97d40663c8>  ...      False\n",
              "7     <tensorflow.python.keras.layers.convolutional.Conv2D object at 0x7f97d4074198>  ...      False\n",
              "8     <tensorflow.python.keras.layers.convolutional.Conv2D object at 0x7f97d404b208>  ...      False\n",
              "9     <tensorflow.python.keras.layers.convolutional.Conv2D object at 0x7f97d40a15c0>  ...      False\n",
              "10    <tensorflow.python.keras.layers.pooling.MaxPooling2D object at 0x7f97ce7ec828>  ...      False\n",
              "11    <tensorflow.python.keras.layers.convolutional.Conv2D object at 0x7f97d40b2198>  ...      False\n",
              "12    <tensorflow.python.keras.layers.convolutional.Conv2D object at 0x7f97ce7ec080>  ...      False\n",
              "13    <tensorflow.python.keras.layers.convolutional.Conv2D object at 0x7f97ce7ec7b8>  ...      False\n",
              "14    <tensorflow.python.keras.layers.pooling.MaxPooling2D object at 0x7f97ce78a518>  ...      False\n",
              "15    <tensorflow.python.keras.layers.convolutional.Conv2D object at 0x7f97ce78a4e0>  ...      False\n",
              "16    <tensorflow.python.keras.layers.convolutional.Conv2D object at 0x7f97d4053860>  ...      False\n",
              "17    <tensorflow.python.keras.layers.convolutional.Conv2D object at 0x7f97ce78ad30>  ...      False\n",
              "18    <tensorflow.python.keras.layers.pooling.MaxPooling2D object at 0x7f97ce78e710>  ...      False\n",
              "19            <tensorflow.python.keras.layers.core.Flatten object at 0x7f97ce7a0c88>  ...      False\n",
              "\n",
              "[20 rows x 3 columns]"
            ]
          },
          "metadata": {
            "tags": []
          },
          "execution_count": 40
        }
      ]
    },
    {
      "cell_type": "code",
      "metadata": {
        "id": "3lmawsprbFyD"
      },
      "source": [
        "trainable = False\r\n",
        "\r\n",
        "for layer in vgg_model.layers:\r\n",
        "  if layer.name in ['block1_conv1']:\r\n",
        "    trainable = True\r\n",
        "  if trainable:\r\n",
        "    layer.trainable = True\r\n",
        "  else:\r\n",
        "    layer.trainable = False\r\n"
      ],
      "execution_count": 49,
      "outputs": []
    },
    {
      "cell_type": "code",
      "metadata": {
        "id": "-hIoi9-ZbFvJ",
        "outputId": "3d47992d-694c-42d8-f7f6-ada788d6ea7c",
        "colab": {
          "base_uri": "https://localhost:8080/",
          "height": 669
        }
      },
      "source": [
        "# comprobem que estiguin en false\r\n",
        "pd.set_option('max_colwidth', None)                                             \r\n",
        "layers = [(layer, layer.name, layer.trainable) for layer in vgg_model.layers]\r\n",
        "pd.DataFrame(layers, columns=['Layer Type', 'Layer Name', 'Trainable?'])"
      ],
      "execution_count": 50,
      "outputs": [
        {
          "output_type": "execute_result",
          "data": {
            "text/html": [
              "<div>\n",
              "<style scoped>\n",
              "    .dataframe tbody tr th:only-of-type {\n",
              "        vertical-align: middle;\n",
              "    }\n",
              "\n",
              "    .dataframe tbody tr th {\n",
              "        vertical-align: top;\n",
              "    }\n",
              "\n",
              "    .dataframe thead th {\n",
              "        text-align: right;\n",
              "    }\n",
              "</style>\n",
              "<table border=\"1\" class=\"dataframe\">\n",
              "  <thead>\n",
              "    <tr style=\"text-align: right;\">\n",
              "      <th></th>\n",
              "      <th>Layer Type</th>\n",
              "      <th>Layer Name</th>\n",
              "      <th>Trainable?</th>\n",
              "    </tr>\n",
              "  </thead>\n",
              "  <tbody>\n",
              "    <tr>\n",
              "      <th>0</th>\n",
              "      <td>&lt;tensorflow.python.keras.engine.input_layer.InputLayer object at 0x7f9837b162b0&gt;</td>\n",
              "      <td>input_2</td>\n",
              "      <td>False</td>\n",
              "    </tr>\n",
              "    <tr>\n",
              "      <th>1</th>\n",
              "      <td>&lt;tensorflow.python.keras.layers.convolutional.Conv2D object at 0x7f9837b167f0&gt;</td>\n",
              "      <td>block1_conv1</td>\n",
              "      <td>True</td>\n",
              "    </tr>\n",
              "    <tr>\n",
              "      <th>2</th>\n",
              "      <td>&lt;tensorflow.python.keras.layers.convolutional.Conv2D object at 0x7f9837b16c18&gt;</td>\n",
              "      <td>block1_conv2</td>\n",
              "      <td>True</td>\n",
              "    </tr>\n",
              "    <tr>\n",
              "      <th>3</th>\n",
              "      <td>&lt;tensorflow.python.keras.layers.pooling.MaxPooling2D object at 0x7f97d4074978&gt;</td>\n",
              "      <td>block1_pool</td>\n",
              "      <td>True</td>\n",
              "    </tr>\n",
              "    <tr>\n",
              "      <th>4</th>\n",
              "      <td>&lt;tensorflow.python.keras.layers.convolutional.Conv2D object at 0x7f98201089b0&gt;</td>\n",
              "      <td>block2_conv1</td>\n",
              "      <td>True</td>\n",
              "    </tr>\n",
              "    <tr>\n",
              "      <th>5</th>\n",
              "      <td>&lt;tensorflow.python.keras.layers.convolutional.Conv2D object at 0x7f97d406db00&gt;</td>\n",
              "      <td>block2_conv2</td>\n",
              "      <td>True</td>\n",
              "    </tr>\n",
              "    <tr>\n",
              "      <th>6</th>\n",
              "      <td>&lt;tensorflow.python.keras.layers.pooling.MaxPooling2D object at 0x7f97d40663c8&gt;</td>\n",
              "      <td>block2_pool</td>\n",
              "      <td>True</td>\n",
              "    </tr>\n",
              "    <tr>\n",
              "      <th>7</th>\n",
              "      <td>&lt;tensorflow.python.keras.layers.convolutional.Conv2D object at 0x7f97d4074198&gt;</td>\n",
              "      <td>block3_conv1</td>\n",
              "      <td>True</td>\n",
              "    </tr>\n",
              "    <tr>\n",
              "      <th>8</th>\n",
              "      <td>&lt;tensorflow.python.keras.layers.convolutional.Conv2D object at 0x7f97d404b208&gt;</td>\n",
              "      <td>block3_conv2</td>\n",
              "      <td>True</td>\n",
              "    </tr>\n",
              "    <tr>\n",
              "      <th>9</th>\n",
              "      <td>&lt;tensorflow.python.keras.layers.convolutional.Conv2D object at 0x7f97d40a15c0&gt;</td>\n",
              "      <td>block3_conv3</td>\n",
              "      <td>True</td>\n",
              "    </tr>\n",
              "    <tr>\n",
              "      <th>10</th>\n",
              "      <td>&lt;tensorflow.python.keras.layers.pooling.MaxPooling2D object at 0x7f97ce7ec828&gt;</td>\n",
              "      <td>block3_pool</td>\n",
              "      <td>True</td>\n",
              "    </tr>\n",
              "    <tr>\n",
              "      <th>11</th>\n",
              "      <td>&lt;tensorflow.python.keras.layers.convolutional.Conv2D object at 0x7f97d40b2198&gt;</td>\n",
              "      <td>block4_conv1</td>\n",
              "      <td>True</td>\n",
              "    </tr>\n",
              "    <tr>\n",
              "      <th>12</th>\n",
              "      <td>&lt;tensorflow.python.keras.layers.convolutional.Conv2D object at 0x7f97ce7ec080&gt;</td>\n",
              "      <td>block4_conv2</td>\n",
              "      <td>True</td>\n",
              "    </tr>\n",
              "    <tr>\n",
              "      <th>13</th>\n",
              "      <td>&lt;tensorflow.python.keras.layers.convolutional.Conv2D object at 0x7f97ce7ec7b8&gt;</td>\n",
              "      <td>block4_conv3</td>\n",
              "      <td>True</td>\n",
              "    </tr>\n",
              "    <tr>\n",
              "      <th>14</th>\n",
              "      <td>&lt;tensorflow.python.keras.layers.pooling.MaxPooling2D object at 0x7f97ce78a518&gt;</td>\n",
              "      <td>block4_pool</td>\n",
              "      <td>True</td>\n",
              "    </tr>\n",
              "    <tr>\n",
              "      <th>15</th>\n",
              "      <td>&lt;tensorflow.python.keras.layers.convolutional.Conv2D object at 0x7f97ce78a4e0&gt;</td>\n",
              "      <td>block5_conv1</td>\n",
              "      <td>True</td>\n",
              "    </tr>\n",
              "    <tr>\n",
              "      <th>16</th>\n",
              "      <td>&lt;tensorflow.python.keras.layers.convolutional.Conv2D object at 0x7f97d4053860&gt;</td>\n",
              "      <td>block5_conv2</td>\n",
              "      <td>True</td>\n",
              "    </tr>\n",
              "    <tr>\n",
              "      <th>17</th>\n",
              "      <td>&lt;tensorflow.python.keras.layers.convolutional.Conv2D object at 0x7f97ce78ad30&gt;</td>\n",
              "      <td>block5_conv3</td>\n",
              "      <td>True</td>\n",
              "    </tr>\n",
              "    <tr>\n",
              "      <th>18</th>\n",
              "      <td>&lt;tensorflow.python.keras.layers.pooling.MaxPooling2D object at 0x7f97ce78e710&gt;</td>\n",
              "      <td>block5_pool</td>\n",
              "      <td>True</td>\n",
              "    </tr>\n",
              "    <tr>\n",
              "      <th>19</th>\n",
              "      <td>&lt;tensorflow.python.keras.layers.core.Flatten object at 0x7f97ce7a0c88&gt;</td>\n",
              "      <td>flatten_1</td>\n",
              "      <td>True</td>\n",
              "    </tr>\n",
              "  </tbody>\n",
              "</table>\n",
              "</div>"
            ],
            "text/plain": [
              "                                                                          Layer Type  ... Trainable?\n",
              "0   <tensorflow.python.keras.engine.input_layer.InputLayer object at 0x7f9837b162b0>  ...      False\n",
              "1     <tensorflow.python.keras.layers.convolutional.Conv2D object at 0x7f9837b167f0>  ...       True\n",
              "2     <tensorflow.python.keras.layers.convolutional.Conv2D object at 0x7f9837b16c18>  ...       True\n",
              "3     <tensorflow.python.keras.layers.pooling.MaxPooling2D object at 0x7f97d4074978>  ...       True\n",
              "4     <tensorflow.python.keras.layers.convolutional.Conv2D object at 0x7f98201089b0>  ...       True\n",
              "5     <tensorflow.python.keras.layers.convolutional.Conv2D object at 0x7f97d406db00>  ...       True\n",
              "6     <tensorflow.python.keras.layers.pooling.MaxPooling2D object at 0x7f97d40663c8>  ...       True\n",
              "7     <tensorflow.python.keras.layers.convolutional.Conv2D object at 0x7f97d4074198>  ...       True\n",
              "8     <tensorflow.python.keras.layers.convolutional.Conv2D object at 0x7f97d404b208>  ...       True\n",
              "9     <tensorflow.python.keras.layers.convolutional.Conv2D object at 0x7f97d40a15c0>  ...       True\n",
              "10    <tensorflow.python.keras.layers.pooling.MaxPooling2D object at 0x7f97ce7ec828>  ...       True\n",
              "11    <tensorflow.python.keras.layers.convolutional.Conv2D object at 0x7f97d40b2198>  ...       True\n",
              "12    <tensorflow.python.keras.layers.convolutional.Conv2D object at 0x7f97ce7ec080>  ...       True\n",
              "13    <tensorflow.python.keras.layers.convolutional.Conv2D object at 0x7f97ce7ec7b8>  ...       True\n",
              "14    <tensorflow.python.keras.layers.pooling.MaxPooling2D object at 0x7f97ce78a518>  ...       True\n",
              "15    <tensorflow.python.keras.layers.convolutional.Conv2D object at 0x7f97ce78a4e0>  ...       True\n",
              "16    <tensorflow.python.keras.layers.convolutional.Conv2D object at 0x7f97d4053860>  ...       True\n",
              "17    <tensorflow.python.keras.layers.convolutional.Conv2D object at 0x7f97ce78ad30>  ...       True\n",
              "18    <tensorflow.python.keras.layers.pooling.MaxPooling2D object at 0x7f97ce78e710>  ...       True\n",
              "19            <tensorflow.python.keras.layers.core.Flatten object at 0x7f97ce7a0c88>  ...       True\n",
              "\n",
              "[20 rows x 3 columns]"
            ]
          },
          "metadata": {
            "tags": []
          },
          "execution_count": 50
        }
      ]
    },
    {
      "cell_type": "code",
      "metadata": {
        "id": "pPLTjW3ph3Tc",
        "colab": {
          "base_uri": "https://localhost:8080/"
        },
        "outputId": "45fddc1c-62e1-4fa0-cce8-7b8ab99758b2"
      },
      "source": [
        "\r\n",
        "# MONTAMOS RED DE CLASIFICACION\r\n",
        "\r\n",
        "input_shape = vgg_model.output_shape[1]\r\n",
        "print(input_shape)\r\n"
      ],
      "execution_count": 51,
      "outputs": [
        {
          "output_type": "stream",
          "text": [
            "512\n"
          ],
          "name": "stdout"
        }
      ]
    },
    {
      "cell_type": "code",
      "metadata": {
        "id": "SyXxe5RQh3Qx",
        "colab": {
          "base_uri": "https://localhost:8080/"
        },
        "outputId": "3e777ec1-51e2-4621-fce5-14ff0abc551f"
      },
      "source": [
        "\r\n",
        "# ARQUITECTURA CON  VGG16\r\n",
        "\r\n",
        "model_ft_vgg = ks.Sequential()\r\n",
        "\r\n",
        "model_ft_vgg.add(vgg_model)\r\n",
        "model_ft_vgg.add(ks.layers.Dense(512, activation='relu', input_shape=(input_shape,)))\r\n",
        "# model_ft_vgg.add(ks.layers.BatchNormalization())\r\n",
        "model_ft_vgg.add(ks.layers.Dropout(0.6))  \r\n",
        "\r\n",
        "# model_ft_vgg.add(ks.layers.Dense(256, activation='relu'))\r\n",
        "# model_ft_vgg.add(ks.layers.BatchNormalization())\r\n",
        "# model_ft_vgg.add(ks.layers.Dropout(0.6))  \r\n",
        "\r\n",
        "model_ft_vgg.add(ks.layers.Dense(10, activation='softmax'))\r\n",
        "model_ft_vgg.summary()\r\n"
      ],
      "execution_count": 52,
      "outputs": [
        {
          "output_type": "stream",
          "text": [
            "Model: \"sequential_2\"\n",
            "_________________________________________________________________\n",
            "Layer (type)                 Output Shape              Param #   \n",
            "=================================================================\n",
            "model_1 (Functional)         (None, 512)               14714688  \n",
            "_________________________________________________________________\n",
            "dense_5 (Dense)              (None, 512)               262656    \n",
            "_________________________________________________________________\n",
            "batch_normalization_3 (Batch (None, 512)               2048      \n",
            "_________________________________________________________________\n",
            "dropout_3 (Dropout)          (None, 512)               0         \n",
            "_________________________________________________________________\n",
            "dense_6 (Dense)              (None, 10)                5130      \n",
            "=================================================================\n",
            "Total params: 14,984,522\n",
            "Trainable params: 14,983,498\n",
            "Non-trainable params: 1,024\n",
            "_________________________________________________________________\n"
          ],
          "name": "stdout"
        }
      ]
    },
    {
      "cell_type": "markdown",
      "metadata": {
        "id": "E8rr3w-REAjq"
      },
      "source": [
        "Para revisar un modelo, nos basta con llamar al método **.summary()** del modelo"
      ]
    },
    {
      "cell_type": "markdown",
      "metadata": {
        "id": "TIDaX59ZEAjr"
      },
      "source": [
        "## 3. Optimizador, función error\n"
      ]
    },
    {
      "cell_type": "code",
      "metadata": {
        "id": "9d5cloXtEAjs"
      },
      "source": [
        "# OPTIMIZADOR DEL VGG\n",
        "new_adam = Adam(learning_rate=0.00002)\n",
        "model_ft_vgg.compile(optimizer=new_adam, loss='sparse_categorical_crossentropy', metrics=['accuracy'])\n",
        "\n"
      ],
      "execution_count": 53,
      "outputs": []
    },
    {
      "cell_type": "markdown",
      "metadata": {
        "id": "473OfIrNqrVN"
      },
      "source": [
        "# 3.1 Definimos la tecnica de Early stopping mediante callbacks"
      ]
    },
    {
      "cell_type": "code",
      "metadata": {
        "id": "jdy7Fwjtq1_C"
      },
      "source": [
        "callback_val_loss = EarlyStopping(monitor=\"val_loss\", patience=5)\r\n",
        "callback_val_accy = EarlyStopping(monitor=\"val_accuracy\", patience=10)\r\n"
      ],
      "execution_count": 54,
      "outputs": []
    },
    {
      "cell_type": "markdown",
      "metadata": {
        "id": "Qo5RIs_MEAjx"
      },
      "source": [
        "## 5. Entrenamiento\n",
        "\n",
        "Ya podemos ponernos a entrenar el modelo!! Ojo, que hemos de entrenar contra los datos convertidos al formato que espera la Convolution.\n",
        "\n",
        "Empezaremos con 30 epocs, es decir, 30 pasadas completas del dataset (que a su vez sera con mini-batches internamente), fijando un batch de 64\n",
        "\n",
        "El metodo .fit() nos permite, definir además si disponemos de varias CPUs, GPUs, y si queremos ir validando datos a cada fin de epoch."
      ]
    },
    {
      "cell_type": "code",
      "metadata": {
        "id": "_zon_fW5EAjx"
      },
      "source": [
        "t = time.perf_counter()"
      ],
      "execution_count": 55,
      "outputs": []
    },
    {
      "cell_type": "code",
      "metadata": {
        "colab": {
          "base_uri": "https://localhost:8080/"
        },
        "id": "pZKlMBrAEAjx",
        "outputId": "3ebfca2f-d223-434b-bec9-075067759242"
      },
      "source": [
        "# VGG16\r\n",
        "history = model_ft_vgg.fit(x_train_scaled, y_train_encoded, epochs=200, callbacks=[callback_val_loss,callback_val_accy], batch_size= 512, validation_data=(x_val_scaled, y_val_encoded))\r\n"
      ],
      "execution_count": 56,
      "outputs": [
        {
          "output_type": "stream",
          "text": [
            "Epoch 1/200\n",
            "79/79 [==============================] - 15s 172ms/step - loss: 1.6116 - accuracy: 0.4761 - val_loss: 1.7008 - val_accuracy: 0.5201\n",
            "Epoch 2/200\n",
            "79/79 [==============================] - 13s 170ms/step - loss: 0.6457 - accuracy: 0.7860 - val_loss: 1.3165 - val_accuracy: 0.7603\n",
            "Epoch 3/200\n",
            "79/79 [==============================] - 14s 172ms/step - loss: 0.5229 - accuracy: 0.8219 - val_loss: 1.0132 - val_accuracy: 0.7907\n",
            "Epoch 4/200\n",
            "79/79 [==============================] - 14s 171ms/step - loss: 0.4493 - accuracy: 0.8432 - val_loss: 0.7524 - val_accuracy: 0.8081\n",
            "Epoch 5/200\n",
            "79/79 [==============================] - 13s 169ms/step - loss: 0.3791 - accuracy: 0.8708 - val_loss: 0.6123 - val_accuracy: 0.8053\n",
            "Epoch 6/200\n",
            "79/79 [==============================] - 13s 168ms/step - loss: 0.3282 - accuracy: 0.8899 - val_loss: 0.5947 - val_accuracy: 0.7994\n",
            "Epoch 7/200\n",
            "79/79 [==============================] - 13s 168ms/step - loss: 0.2736 - accuracy: 0.9107 - val_loss: 0.5936 - val_accuracy: 0.8075\n",
            "Epoch 8/200\n",
            "79/79 [==============================] - 13s 170ms/step - loss: 0.2269 - accuracy: 0.9248 - val_loss: 0.5826 - val_accuracy: 0.8165\n",
            "Epoch 9/200\n",
            "79/79 [==============================] - 13s 171ms/step - loss: 0.1787 - accuracy: 0.9434 - val_loss: 0.6271 - val_accuracy: 0.8149\n",
            "Epoch 10/200\n",
            "79/79 [==============================] - 13s 170ms/step - loss: 0.1599 - accuracy: 0.9493 - val_loss: 0.6193 - val_accuracy: 0.8198\n",
            "Epoch 11/200\n",
            "79/79 [==============================] - 13s 169ms/step - loss: 0.1086 - accuracy: 0.9697 - val_loss: 0.6572 - val_accuracy: 0.8139\n",
            "Epoch 12/200\n",
            "79/79 [==============================] - 13s 169ms/step - loss: 0.0967 - accuracy: 0.9731 - val_loss: 0.6718 - val_accuracy: 0.8172\n",
            "Epoch 13/200\n",
            "79/79 [==============================] - 13s 169ms/step - loss: 0.0677 - accuracy: 0.9847 - val_loss: 0.6821 - val_accuracy: 0.8173\n"
          ],
          "name": "stdout"
        }
      ]
    },
    {
      "cell_type": "code",
      "metadata": {
        "id": "ABECMmnxEAjy",
        "outputId": "cab3f107-0d9a-432b-eb21-4cefbe59f2fd",
        "colab": {
          "base_uri": "https://localhost:8080/"
        }
      },
      "source": [
        "elapsed_time = datetime.timedelta(seconds=(time.perf_counter() - t))\n",
        "\n",
        "print('Tiempo de entrenamiento:', elapsed_time)"
      ],
      "execution_count": 57,
      "outputs": [
        {
          "output_type": "stream",
          "text": [
            "Tiempo de entrenamiento: 0:02:56.455587\n"
          ],
          "name": "stdout"
        }
      ]
    },
    {
      "cell_type": "markdown",
      "metadata": {
        "id": "r0vC4X-gj152"
      },
      "source": [
        "## 6. Evaluamos el Modelo"
      ]
    },
    {
      "cell_type": "code",
      "metadata": {
        "id": "lmyFJHDZEAjy",
        "outputId": "2b180dd8-d6cb-4500-a040-79288f9ee80c",
        "colab": {
          "base_uri": "https://localhost:8080/"
        }
      },
      "source": [
        "# VGG16\n",
        "_, acc = model_ft_vgg.evaluate(x_test_scaled, y_test_encoded, verbose=0)\n",
        "print('Accuracy:',' %.3f' % (acc))\n"
      ],
      "execution_count": 58,
      "outputs": [
        {
          "output_type": "stream",
          "text": [
            "Accuracy:  0.817\n"
          ],
          "name": "stdout"
        }
      ]
    },
    {
      "cell_type": "code",
      "metadata": {
        "id": "TmBDPUbvjrmd",
        "outputId": "ac58bc9b-f1e2-4401-8bbd-d6d41762dc0c",
        "colab": {
          "base_uri": "https://localhost:8080/"
        }
      },
      "source": [
        "# for VGG16\r\n",
        "_, acc = model_ft_vgg.evaluate(x_test_scaled, y_test_encoded, verbose=0)\r\n",
        "print('Accuracy:',' %.3f' % (acc))"
      ],
      "execution_count": 59,
      "outputs": [
        {
          "output_type": "stream",
          "text": [
            "Accuracy:  0.817\n"
          ],
          "name": "stdout"
        }
      ]
    },
    {
      "cell_type": "code",
      "metadata": {
        "id": "tX3d-8DSEAjz",
        "outputId": "3b669384-3033-4d57-8093-0b0f8a202cec",
        "colab": {
          "base_uri": "https://localhost:8080/",
          "height": 545
        }
      },
      "source": [
        "plt.title('Cross Entropy Loss')\n",
        "plt.plot(history.history['loss'], color='blue', label='train')\n",
        "plt.plot(history.history['val_loss'], color='orange', label='test')\n",
        "plt.show()\n",
        "\n",
        "plt.title('Classification Accuracy')\n",
        "plt.plot(history.history['accuracy'], color='blue', label='train')\n",
        "plt.plot(history.history['val_accuracy'], color='orange', label='test')\n",
        "plt.show()"
      ],
      "execution_count": 60,
      "outputs": [
        {
          "output_type": "display_data",
          "data": {
            "image/png": "[encoded data removed]",
            "text/plain": [
              "<Figure size 432x288 with 1 Axes>"
            ]
          },
          "metadata": {
            "tags": [],
            "needs_background": "light"
          }
        },
        {
          "output_type": "display_data",
          "data": {
            "image/png": "[encoded data removed]",
            "text/plain": [
              "<Figure size 432x288 with 1 Axes>"
            ]
          },
          "metadata": {
            "tags": [],
            "needs_background": "light"
          }
        }
      ]
    },
    {
      "cell_type": "markdown",
      "metadata": {
        "id": "xxY4L8MWEAjz"
      },
      "source": [
        "El coste podemos ver que es estable y es en el epoch 15 que se fija en un valor. Además la accuracy baila alrededor de 0.10. No se puede decir que sea un modelo muy bueno.\n",
        "\n",
        "Veamos que tipo de predicciones estoy obteniendo sobre el conjunto de test (vamos a pintar las imagenes y sus clasificaciones)"
      ]
    },
    {
      "cell_type": "code",
      "metadata": {
        "id": "PLoz02mgEAj0"
      },
      "source": [
        "predictions = model_ft_vgg.predict(x_test_scaled)"
      ],
      "execution_count": 61,
      "outputs": []
    },
    {
      "cell_type": "markdown",
      "metadata": {
        "id": "Lpx-DsZvEAj0"
      },
      "source": [
        "Una de las ventajas de Python es que hay montones de funciones y código realizado por terceras personas. Aquí me he fusilado unas bonitas funciones (que he adaptado un poco a mis necesidades) para poder pintar las imagenes, su label (ground truth) y las clasificaciones que hemos realizado."
      ]
    },
    {
      "cell_type": "code",
      "metadata": {
        "id": "PXshk6eWEAj0"
      },
      "source": [
        "def plot_image(i, predictions_array, true_label, img):\n",
        "  predictions_array, true_label, img = predictions_array, true_label[i], img[i]\n",
        "  plt.grid(False)\n",
        "  plt.xticks([])\n",
        "  plt.yticks([])\n",
        "\n",
        "  plt.imshow(img, cmap=plt.cm.binary)\n",
        "\n",
        "  predicted_label = np.argmax(predictions_array)\n",
        "  if predicted_label == true_label:\n",
        "    color = 'blue'\n",
        "  else:\n",
        "    color = 'red'\n",
        "\n",
        "  plt.xlabel(\"{} {:2.0f}% ({})\".format(predicted_label,\n",
        "                                100*np.max(predictions_array),\n",
        "                                true_label[0]),\n",
        "                                color=color)\n",
        "\n",
        "def plot_value_array(i, predictions_array, true_label):\n",
        "  predictions_array, true_label = predictions_array, true_label[i]\n",
        "  plt.grid(False)\n",
        "  plt.xticks(range(10))\n",
        "  plt.yticks([])\n",
        "  thisplot = plt.bar(range(10), predictions_array, color=\"#777777\")\n",
        "  plt.ylim([0, 1])\n",
        "  predicted_label = np.argmax(predictions_array)\n",
        "\n",
        "  thisplot[predicted_label].set_color('red')\n",
        "  thisplot[true_label[0]].set_color('blue')"
      ],
      "execution_count": 62,
      "outputs": []
    },
    {
      "cell_type": "markdown",
      "metadata": {
        "id": "3jlp0uUXEAj1"
      },
      "source": [
        "Dibujamos las primeras imagenes, con las predicciones y sus valores reales (un total de 20 imagenes, para no abusar de vuestros laptops)\n",
        "\n",
        "Coloreamos las prediciones correctas en azul y los fallos en rojo. Aunque primero he impreso las etiquetas para que tengamos una referencia al grafico."
      ]
    },
    {
      "cell_type": "code",
      "metadata": {
        "id": "QVBtjzpaEAj2",
        "outputId": "6d4cecaf-fcb4-4bd9-9ddb-af7c7d6e3049",
        "colab": {
          "base_uri": "https://localhost:8080/",
          "height": 899
        }
      },
      "source": [
        "\n",
        "i = 0\n",
        "for l in cifar10_labels:\n",
        "    print(i, l)\n",
        "    i += 1\n",
        "\n",
        "num_rows = 5\n",
        "num_cols = 4\n",
        "start = 1000\n",
        "num_images = num_rows*num_cols\n",
        "plt.figure(figsize=(2*2*num_cols, 2*num_rows))\n",
        "for i in range(num_images):\n",
        "  plt.subplot(num_rows, 2*num_cols, 2*i+1)\n",
        "  plot_image(i+start, predictions[i+start], y_test, x_test_scaled)\n",
        "  plt.subplot(num_rows, 2*num_cols, 2*i+2)\n",
        "  plot_value_array(i+start, predictions[i+start], y_test)\n",
        "plt.tight_layout()\n",
        "plt.show()"
      ],
      "execution_count": 63,
      "outputs": [
        {
          "output_type": "stream",
          "text": [
            "0 airplane\n",
            "1 automobile\n",
            "2 bird\n",
            "3 cat\n",
            "4 deer\n",
            "5 dog\n",
            "6 frog\n",
            "7 horse\n",
            "8 ship\n",
            "9 truck\n"
          ],
          "name": "stdout"
        },
        {
          "output_type": "display_data",
          "data": {
            "image/png": "[encoded data removed]",
            "text/plain": [
              "<Figure size 1152x720 with 40 Axes>"
            ]
          },
          "metadata": {
            "tags": [],
            "needs_background": "light"
          }
        }
      ]
    },
    {
      "cell_type": "code",
      "metadata": {
        "id": "6GyCLXC4EAj2"
      },
      "source": [
        ""
      ],
      "execution_count": 63,
      "outputs": []
    },
    {
      "cell_type": "code",
      "metadata": {
        "id": "fhw3q0O5EAj3"
      },
      "source": [
        ""
      ],
      "execution_count": 63,
      "outputs": []
    }
  ]
}