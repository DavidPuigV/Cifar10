{
  "nbformat": 4,
  "nbformat_minor": 0,
  "metadata": {
    "colab": {
      "name": "THREE-cnn-cifar10-tf2-v0.ipynb",
      "provenance": [],
      "collapsed_sections": [],
      "authorship_tag": "ABX9TyNYrly5IOux9et/jIP/1qO4",
      "include_colab_link": true
    },
    "kernelspec": {
      "name": "python3",
      "display_name": "Python 3"
    },
    "accelerator": "GPU"
  },
  "cells": [
    {
      "cell_type": "markdown",
      "metadata": {
        "id": "view-in-github",
        "colab_type": "text"
      },
      "source": [
        "<a href=\"https://colab.research.google.com/github/DavidPuigV/Cifar10/blob/main/FIVE_cnn_cifar10_tf2_v0.ipynb\" target=\"_parent\"><img src=\"https://colab.research.google.com/assets/colab-badge.svg\" alt=\"Open In Colab\"/></a>"
      ]
    },
    {
      "cell_type": "code",
      "metadata": {
        "id": "61D-Wx1g_FZ7"
      },
      "source": [
        ""
      ],
      "execution_count": null,
      "outputs": []
    },
    {
      "cell_type": "markdown",
      "metadata": {
        "id": "8ynUvxmxEAjb"
      },
      "source": [
        "![Nuclio logo](https://nuclio.school/wp-content/uploads/2018/12/nucleoDS-newBlack.png)"
      ]
    },
    {
      "cell_type": "markdown",
      "metadata": {
        "jupyter": {
          "source_hidden": true
        },
        "id": "CY25dM5WEAjm"
      },
      "source": [
        "## 1. Librerias\n",
        "\n",
        "Para empezar carguemos esas librerias que nos hacen falta"
      ]
    },
    {
      "cell_type": "code",
      "metadata": {
        "id": "7xk6r5hbEAjn"
      },
      "source": [
        "import numpy as np\n",
        "import time\n",
        "import datetime\n",
        "import random\n",
        "import pandas as pd\n",
        "import os\n",
        "\n",
        "from matplotlib import pyplot as plt\n",
        "from tensorflow import keras as ks\n",
        "from tensorflow.keras.preprocessing.image import ImageDataGenerator, load_img\n",
        "from keras.utils import to_categorical\n",
        "from tensorflow.keras.callbacks import EarlyStopping\n",
        "from tensorflow.keras.regularizers import l2\n",
        "from tensorflow.keras.optimizers import Adam"
      ],
      "execution_count": 1,
      "outputs": []
    },
    {
      "cell_type": "markdown",
      "metadata": {
        "id": "RMHlzbNKEAjo"
      },
      "source": [
        "## 2. Arquitectura de red del modelo\n"
      ]
    },
    {
      "cell_type": "code",
      "metadata": {
        "colab": {
          "base_uri": "https://localhost:8080/"
        },
        "id": "UaulKhKGEAjp",
        "outputId": "cf7f37fd-96ca-4ee7-80ea-ce4641b51800"
      },
      "source": [
        "model = ks.Sequential()\n",
        "\n",
        "model.add(ks.layers.Conv2D(256, (3, 3), strides=1, activation='relu', padding='same', input_shape=(32,32,3)))\n",
        "model.add(ks.layers.Conv2D(256, (3, 3), strides=1, activation='relu', padding='same'))\n",
        "model.add(ks.layers.MaxPooling2D((2, 2)))\n",
        "model.add(ks.layers.Dropout(0.5))\n",
        "\n",
        "\n",
        "model.add(ks.layers.Conv2D(512, (3, 3), strides=1, activation='relu', padding='same', input_shape=(32,32,3)))\n",
        "model.add(ks.layers.Conv2D(512, (3, 3), strides=1, activation='relu', padding='same'))\n",
        "model.add(ks.layers.MaxPooling2D((2, 2)))\n",
        "model.add(ks.layers.Dropout(0.5))\n",
        "\n",
        "model.add(ks.layers.Flatten())\n",
        "model.add(ks.layers.Dense(512, activation='relu'))\n",
        "model.add(ks.layers.Dropout(0.3))\n",
        "model.add(ks.layers.Dense(512, activation='relu'))\n",
        "model.add(ks.layers.Dropout(0.5))\n",
        "\n",
        "model.add(ks.layers.Dense(10, activation='softmax'))\n",
        "model.summary()"
      ],
      "execution_count": 2,
      "outputs": [
        {
          "output_type": "stream",
          "text": [
            "Model: \"sequential\"\n",
            "_________________________________________________________________\n",
            "Layer (type)                 Output Shape              Param #   \n",
            "=================================================================\n",
            "conv2d (Conv2D)              (None, 32, 32, 256)       7168      \n",
            "_________________________________________________________________\n",
            "conv2d_1 (Conv2D)            (None, 32, 32, 256)       590080    \n",
            "_________________________________________________________________\n",
            "max_pooling2d (MaxPooling2D) (None, 16, 16, 256)       0         \n",
            "_________________________________________________________________\n",
            "dropout (Dropout)            (None, 16, 16, 256)       0         \n",
            "_________________________________________________________________\n",
            "conv2d_2 (Conv2D)            (None, 16, 16, 512)       1180160   \n",
            "_________________________________________________________________\n",
            "conv2d_3 (Conv2D)            (None, 16, 16, 512)       2359808   \n",
            "_________________________________________________________________\n",
            "max_pooling2d_1 (MaxPooling2 (None, 8, 8, 512)         0         \n",
            "_________________________________________________________________\n",
            "dropout_1 (Dropout)          (None, 8, 8, 512)         0         \n",
            "_________________________________________________________________\n",
            "flatten (Flatten)            (None, 32768)             0         \n",
            "_________________________________________________________________\n",
            "dense (Dense)                (None, 512)               16777728  \n",
            "_________________________________________________________________\n",
            "dropout_2 (Dropout)          (None, 512)               0         \n",
            "_________________________________________________________________\n",
            "dense_1 (Dense)              (None, 512)               262656    \n",
            "_________________________________________________________________\n",
            "dropout_3 (Dropout)          (None, 512)               0         \n",
            "_________________________________________________________________\n",
            "dense_2 (Dense)              (None, 10)                5130      \n",
            "=================================================================\n",
            "Total params: 21,182,730\n",
            "Trainable params: 21,182,730\n",
            "Non-trainable params: 0\n",
            "_________________________________________________________________\n"
          ],
          "name": "stdout"
        }
      ]
    },
    {
      "cell_type": "markdown",
      "metadata": {
        "id": "E8rr3w-REAjq"
      },
      "source": [
        "Para revisar un modelo, nos basta con llamar al método **.summary()** del modelo"
      ]
    },
    {
      "cell_type": "markdown",
      "metadata": {
        "id": "TIDaX59ZEAjr"
      },
      "source": [
        "## 3. Optimizador, función error\n"
      ]
    },
    {
      "cell_type": "code",
      "metadata": {
        "id": "9d5cloXtEAjs"
      },
      "source": [
        "model.compile(optimizer='Adam',\n",
        "              loss='sparse_categorical_crossentropy',\n",
        "              metrics=['accuracy'])"
      ],
      "execution_count": 3,
      "outputs": []
    },
    {
      "cell_type": "markdown",
      "metadata": {
        "id": "473OfIrNqrVN"
      },
      "source": [
        "# 3.1 Definimos la tecnica de Early stopping mediante callbacks"
      ]
    },
    {
      "cell_type": "code",
      "metadata": {
        "id": "jdy7Fwjtq1_C"
      },
      "source": [
        "\r\n",
        "callback_val_loss = EarlyStopping(monitor=\"val_loss\", patience=20)\r\n",
        "callback_val_acc = EarlyStopping(monitor=\"val_accuracy\", patience=20)"
      ],
      "execution_count": 4,
      "outputs": []
    },
    {
      "cell_type": "markdown",
      "metadata": {
        "id": "6SuRYFWgEAjs"
      },
      "source": [
        "## 4. Preparamos los datos\n",
        "\n",
        "Cargamos los datos de CIFAR10 de los datasets directamente de las librerias de Keras. Estos ya estan dispuestos en train and test\n",
        "\n",
        "**Detalle importante:** \n",
        "> La red neuronal requiere que los inputs sean números reales, y lo haremos forzando la division de los valores de dentro de las matrices 28x28 (que tienen valoress del 0 al 255) por 255.0 (un real)"
      ]
    },
    {
      "cell_type": "code",
      "metadata": {
        "id": "ZPuXtF0uEAjt"
      },
      "source": [
        "cifar10 = ks.datasets.cifar10\n",
        "\n",
        "(x_train_img, y_train_img), (x_test_img, y_test_img) = cifar10.load_data()\n",
        "\n",
        "x_train = x_train_img / 255.0\n",
        "x_test = x_test_img / 255.0"
      ],
      "execution_count": 5,
      "outputs": []
    },
    {
      "cell_type": "code",
      "metadata": {
        "colab": {
          "base_uri": "https://localhost:8080/"
        },
        "id": "F29oWrwCQh41",
        "outputId": "14aacbb3-1bed-4343-bd74-e9b8a7ebe927"
      },
      "source": [
        "y_train_img = y_train_img.ravel()\r\n",
        "y_test_img = y_test_img.ravel()\r\n",
        "print(y_train_img)\r\n",
        "print(y_test_img)\r\n"
      ],
      "execution_count": 6,
      "outputs": [
        {
          "output_type": "stream",
          "text": [
            "[6 9 9 ... 9 1 1]\n",
            "[3 8 8 ... 5 1 7]\n"
          ],
          "name": "stdout"
        }
      ]
    },
    {
      "cell_type": "code",
      "metadata": {
        "colab": {
          "base_uri": "https://localhost:8080/"
        },
        "id": "7zD1QNXlpNHT",
        "outputId": "171c3213-5db6-4fa1-f190-e57e2fc54a09"
      },
      "source": [
        "print(x_train_img.shape)\r\n",
        "print(x_test_img.shape)\r\n",
        "print(y_train_img.shape)\r\n",
        "print(y_test_img.shape)"
      ],
      "execution_count": 7,
      "outputs": [
        {
          "output_type": "stream",
          "text": [
            "(50000, 32, 32, 3)\n",
            "(10000, 32, 32, 3)\n",
            "(50000,)\n",
            "(10000,)\n"
          ],
          "name": "stdout"
        }
      ]
    },
    {
      "cell_type": "markdown",
      "metadata": {
        "id": "gLaoT4wOEAjt"
      },
      "source": [
        "Obtenemos un array con todas las labels de CIFAR10"
      ]
    },
    {
      "cell_type": "code",
      "metadata": {
        "colab": {
          "base_uri": "https://localhost:8080/"
        },
        "id": "SvqN2aEBEAju",
        "outputId": "dcc25759-9129-4dfe-81c7-049ae995faf3"
      },
      "source": [
        "cifar10_labels = ['airplane','automobile','bird','cat','deer','dog','frog','horse','ship','truck']\n",
        "print('labels: %s' % (cifar10_labels))"
      ],
      "execution_count": 8,
      "outputs": [
        {
          "output_type": "stream",
          "text": [
            "labels: ['airplane', 'automobile', 'bird', 'cat', 'deer', 'dog', 'frog', 'horse', 'ship', 'truck']\n"
          ],
          "name": "stdout"
        }
      ]
    },
    {
      "cell_type": "markdown",
      "metadata": {
        "id": "HmLztaklEAjv"
      },
      "source": [
        "Como vamos a querer ir haciendo validación a la vez que entrenamos (muy practico)"
      ]
    },
    {
      "cell_type": "code",
      "metadata": {
        "id": "KisNc7s_EAjv"
      },
      "source": [
        "x_val_img = x_train_img[-10000:]\n",
        "y_val_img = y_train_img[-10000:]\n",
        "\n",
        "x_train_img = x_train_img[:-10000]\n",
        "y_train_img = y_train_img[:-10000]\n"
      ],
      "execution_count": 9,
      "outputs": []
    },
    {
      "cell_type": "markdown",
      "metadata": {
        "id": "nw2HJLcWEAjw"
      },
      "source": [
        "Cuando añadimos convoluciones, necesitamos \"pre-tratar los datos\", porque **la convolución es pera una matriz de 4 campos** (más parecido a \"imagenes\"), no un array de 3 como son actualmente los data sets de train, test y validación. Así que toca darle al **.reshape()**\n",
        "\n",
        "Por eso, al salir de la Convolution, hay que hacer un Flatten, porque las capas FullDense esperan arrays, no matrices!!\n",
        "\n",
        "Luego lo imprimimos para ver que todo está correcto"
      ]
    },
    {
      "cell_type": "code",
      "metadata": {
        "colab": {
          "base_uri": "https://localhost:8080/"
        },
        "id": "dEhUfUYVEAjw",
        "outputId": "0afb9dba-9c86-452e-d489-1903e685c8c5"
      },
      "source": [
        "# Validamos el resultado\n",
        "print('Train: X=%s, y=%s' % (x_train_img.shape, y_train_img.shape))\n",
        "print('Test: X=%s, y=%s' % (x_test_img.shape, y_test_img.shape))\n"
      ],
      "execution_count": 10,
      "outputs": [
        {
          "output_type": "stream",
          "text": [
            "Train: X=(40000, 32, 32, 3), y=(40000,)\n",
            "Test: X=(10000, 32, 32, 3), y=(10000,)\n"
          ],
          "name": "stdout"
        }
      ]
    },
    {
      "cell_type": "markdown",
      "metadata": {
        "id": "myZ8NYoXi0yS"
      },
      "source": [
        "## Transformador de imagenes a datos consumibles por la red neuronal\r\n"
      ]
    },
    {
      "cell_type": "code",
      "metadata": {
        "id": "V03oA0Zoi1-C"
      },
      "source": [
        "train_datagen = ImageDataGenerator(\r\n",
        "    rescale=1./255,\r\n",
        "    rotation_range = 5,\r\n",
        "    shear_range = 0.05,\r\n",
        "    zoom_range=0.05,\r\n",
        "    horizontal_flip=True,\r\n",
        "    vertical_flip=False,\r\n",
        "    width_shift_range=0.05,\r\n",
        "    height_shift_range=0.05,\r\n",
        "    brightness_range=(0.5,1.5),\r\n",
        "    fill_mode='nearest'\r\n",
        "    )\r\n",
        "\r\n",
        "train_generator = train_datagen.flow( \r\n",
        "    x_train_img, \r\n",
        "    y_train_img, \r\n",
        "    batch_size=512          # hago esto para cada 30 imagenes\r\n",
        "    )  "
      ],
      "execution_count": 11,
      "outputs": []
    },
    {
      "cell_type": "code",
      "metadata": {
        "colab": {
          "base_uri": "https://localhost:8080/"
        },
        "id": "Ivtit1fqCixm",
        "outputId": "943a2e28-ba7e-431e-fa63-6a4498397527"
      },
      "source": [
        "from google.colab import drive\n",
        "drive.mount('/content/drive')"
      ],
      "execution_count": 12,
      "outputs": [
        {
          "output_type": "stream",
          "text": [
            "Drive already mounted at /content/drive; to attempt to forcibly remount, call drive.mount(\"/content/drive\", force_remount=True).\n"
          ],
          "name": "stdout"
        }
      ]
    },
    {
      "cell_type": "markdown",
      "metadata": {
        "id": "1Dfw0kcsjBGy"
      },
      "source": [
        "**De validacion y de testeo**\r\n",
        "\r\n",
        "Fijaos que aquí la única modificación es un re-escalado, nada de modificaciones"
      ]
    },
    {
      "cell_type": "code",
      "metadata": {
        "id": "k4BjJYhli16q"
      },
      "source": [
        "validation_datagen = ImageDataGenerator(\r\n",
        "    rescale=1./255\r\n",
        "    )\r\n",
        "validation_generator = validation_datagen.flow(\r\n",
        "    x_val_img, \r\n",
        "    y_val_img, \r\n",
        "    batch_size=256\r\n",
        "    )\r\n",
        "\r\n",
        "test_datagen = ImageDataGenerator(\r\n",
        "    rescale=1./255\r\n",
        "    )\r\n",
        "test_generator = test_datagen.flow(\r\n",
        "    x_test_img, \r\n",
        "    y_test_img,\r\n",
        "    batch_size=256\r\n",
        "    )"
      ],
      "execution_count": 13,
      "outputs": []
    },
    {
      "cell_type": "markdown",
      "metadata": {
        "id": "MHt9Y9Upk4-H"
      },
      "source": [
        "## vamos a pintarnos un ejemplo de lo que hace el train data generator"
      ]
    },
    {
      "cell_type": "code",
      "metadata": {
        "colab": {
          "base_uri": "https://localhost:8080/",
          "height": 283
        },
        "id": "Gbd7N4jgkqxC",
        "outputId": "d1dc8469-6cdb-435b-f061-ccd363666063"
      },
      "source": [
        "\r\n",
        "sample = random.choice(range(0,1450))\r\n",
        "example_generator = train_datagen.flow(\r\n",
        "    x_train_img[sample:sample+1],\r\n",
        "    y_train_img[sample:sample+1],\r\n",
        "    batch_size=20\r\n",
        "    )\r\n",
        "\r\n",
        "plt.imshow(x_train_img[sample]/255.)"
      ],
      "execution_count": 14,
      "outputs": [
        {
          "output_type": "execute_result",
          "data": {
            "text/plain": [
              "<matplotlib.image.AxesImage at 0x7f0246be1f28>"
            ]
          },
          "metadata": {
            "tags": []
          },
          "execution_count": 14
        },
        {
          "output_type": "display_data",
          "data": {
            "image/png": "[encoded data removed]",
            "text/plain": [
              "<Figure size 432x288 with 1 Axes>"
            ]
          },
          "metadata": {
            "tags": [],
            "needs_background": "light"
          }
        }
      ]
    },
    {
      "cell_type": "markdown",
      "metadata": {
        "id": "Qo5RIs_MEAjx"
      },
      "source": [
        "## 5. Entrenamiento\n",
        "\n",
        "Ya podemos ponernos a entrenar el modelo!! Ojo, que hemos de entrenar contra los datos convertidos al formato que espera la Convolution.\n",
        "\n",
        "Empezaremos con 30 epocs, es decir, 30 pasadas completas del dataset (que a su vez sera con mini-batches internamente), fijando un batch de 64\n",
        "\n",
        "El metodo .fit() nos permite, definir además si disponemos de varias CPUs, GPUs, y si queremos ir validando datos a cada fin de epoch."
      ]
    },
    {
      "cell_type": "code",
      "metadata": {
        "id": "_zon_fW5EAjx"
      },
      "source": [
        "t = time.perf_counter()"
      ],
      "execution_count": 15,
      "outputs": []
    },
    {
      "cell_type": "code",
      "metadata": {
        "colab": {
          "base_uri": "https://localhost:8080/"
        },
        "id": "pZKlMBrAEAjx",
        "outputId": "c9320d47-ee30-46bc-f0ec-3c828a3c8c0b"
      },
      "source": [
        "history = model.fit(train_generator, epochs=50, steps_per_epoch=78 , callbacks=[callback_val_loss, callback_val_acc], validation_data = validation_generator, validation_steps=20)"
      ],
      "execution_count": 16,
      "outputs": [
        {
          "output_type": "stream",
          "text": [
            "Epoch 1/50\n",
            "78/78 [==============================] - 51s 546ms/step - loss: 2.2463 - accuracy: 0.1532 - val_loss: 1.7603 - val_accuracy: 0.3602\n",
            "Epoch 2/50\n",
            "78/78 [==============================] - 40s 513ms/step - loss: 1.7486 - accuracy: 0.3527 - val_loss: 1.4647 - val_accuracy: 0.4611\n",
            "Epoch 3/50\n",
            "78/78 [==============================] - 41s 519ms/step - loss: 1.5293 - accuracy: 0.4376 - val_loss: 1.2827 - val_accuracy: 0.5328\n",
            "Epoch 4/50\n",
            "78/78 [==============================] - 40s 514ms/step - loss: 1.3764 - accuracy: 0.5049 - val_loss: 1.1825 - val_accuracy: 0.5723\n",
            "Epoch 5/50\n",
            "78/78 [==============================] - 40s 515ms/step - loss: 1.2641 - accuracy: 0.5434 - val_loss: 1.0737 - val_accuracy: 0.6158\n",
            "Epoch 6/50\n",
            "78/78 [==============================] - 41s 516ms/step - loss: 1.1896 - accuracy: 0.5756 - val_loss: 1.0426 - val_accuracy: 0.6262\n",
            "Epoch 7/50\n",
            "78/78 [==============================] - 41s 518ms/step - loss: 1.1409 - accuracy: 0.5982 - val_loss: 0.9776 - val_accuracy: 0.6484\n",
            "Epoch 8/50\n",
            "78/78 [==============================] - 40s 515ms/step - loss: 1.0956 - accuracy: 0.6107 - val_loss: 0.9909 - val_accuracy: 0.6465\n",
            "Epoch 9/50\n",
            "78/78 [==============================] - 40s 515ms/step - loss: 1.0388 - accuracy: 0.6300 - val_loss: 0.9164 - val_accuracy: 0.6814\n",
            "Epoch 10/50\n",
            "78/78 [==============================] - 41s 517ms/step - loss: 1.0292 - accuracy: 0.6365 - val_loss: 0.8798 - val_accuracy: 0.6877\n",
            "Epoch 11/50\n",
            "78/78 [==============================] - 40s 514ms/step - loss: 0.9635 - accuracy: 0.6621 - val_loss: 0.8580 - val_accuracy: 0.6982\n",
            "Epoch 12/50\n",
            "78/78 [==============================] - 40s 515ms/step - loss: 0.9604 - accuracy: 0.6602 - val_loss: 0.8926 - val_accuracy: 0.6828\n",
            "Epoch 13/50\n",
            "78/78 [==============================] - 40s 514ms/step - loss: 0.9168 - accuracy: 0.6785 - val_loss: 0.7744 - val_accuracy: 0.7236\n",
            "Epoch 14/50\n",
            "78/78 [==============================] - 40s 513ms/step - loss: 0.8909 - accuracy: 0.6889 - val_loss: 0.7697 - val_accuracy: 0.7250\n",
            "Epoch 15/50\n",
            "78/78 [==============================] - 40s 511ms/step - loss: 0.8791 - accuracy: 0.6916 - val_loss: 0.7525 - val_accuracy: 0.7305\n",
            "Epoch 16/50\n",
            "78/78 [==============================] - 40s 512ms/step - loss: 0.8559 - accuracy: 0.6958 - val_loss: 0.7831 - val_accuracy: 0.7283\n",
            "Epoch 17/50\n",
            "78/78 [==============================] - 40s 509ms/step - loss: 0.8388 - accuracy: 0.7042 - val_loss: 0.8124 - val_accuracy: 0.7129\n",
            "Epoch 18/50\n",
            "78/78 [==============================] - 40s 506ms/step - loss: 0.8093 - accuracy: 0.7164 - val_loss: 0.7199 - val_accuracy: 0.7490\n",
            "Epoch 19/50\n",
            "78/78 [==============================] - 40s 506ms/step - loss: 0.7972 - accuracy: 0.7196 - val_loss: 0.7584 - val_accuracy: 0.7330\n",
            "Epoch 20/50\n",
            "78/78 [==============================] - 40s 505ms/step - loss: 0.7983 - accuracy: 0.7205 - val_loss: 0.6600 - val_accuracy: 0.7742\n",
            "Epoch 21/50\n",
            "78/78 [==============================] - 40s 509ms/step - loss: 0.7813 - accuracy: 0.7264 - val_loss: 0.7374 - val_accuracy: 0.7395\n",
            "Epoch 22/50\n",
            "78/78 [==============================] - 40s 506ms/step - loss: 0.7617 - accuracy: 0.7354 - val_loss: 0.7428 - val_accuracy: 0.7422\n",
            "Epoch 23/50\n",
            "78/78 [==============================] - 40s 513ms/step - loss: 0.7465 - accuracy: 0.7397 - val_loss: 0.6813 - val_accuracy: 0.7568\n",
            "Epoch 24/50\n",
            "78/78 [==============================] - 40s 508ms/step - loss: 0.7467 - accuracy: 0.7399 - val_loss: 0.8279 - val_accuracy: 0.7201\n",
            "Epoch 25/50\n",
            "78/78 [==============================] - 40s 512ms/step - loss: 0.7397 - accuracy: 0.7404 - val_loss: 0.6354 - val_accuracy: 0.7775\n",
            "Epoch 26/50\n",
            "78/78 [==============================] - 40s 510ms/step - loss: 0.7264 - accuracy: 0.7446 - val_loss: 0.6671 - val_accuracy: 0.7650\n",
            "Epoch 27/50\n",
            "78/78 [==============================] - 40s 510ms/step - loss: 0.7079 - accuracy: 0.7508 - val_loss: 0.6781 - val_accuracy: 0.7662\n",
            "Epoch 28/50\n",
            "78/78 [==============================] - 40s 512ms/step - loss: 0.7080 - accuracy: 0.7528 - val_loss: 0.6199 - val_accuracy: 0.7799\n",
            "Epoch 29/50\n",
            "78/78 [==============================] - 40s 507ms/step - loss: 0.6977 - accuracy: 0.7588 - val_loss: 0.6164 - val_accuracy: 0.7816\n",
            "Epoch 30/50\n",
            "78/78 [==============================] - 40s 508ms/step - loss: 0.6862 - accuracy: 0.7582 - val_loss: 0.6466 - val_accuracy: 0.7760\n",
            "Epoch 31/50\n",
            "78/78 [==============================] - 40s 509ms/step - loss: 0.6843 - accuracy: 0.7563 - val_loss: 0.6328 - val_accuracy: 0.7721\n",
            "Epoch 32/50\n",
            "78/78 [==============================] - 40s 510ms/step - loss: 0.6798 - accuracy: 0.7606 - val_loss: 0.6600 - val_accuracy: 0.7711\n",
            "Epoch 33/50\n",
            "78/78 [==============================] - 40s 511ms/step - loss: 0.6685 - accuracy: 0.7662 - val_loss: 0.7048 - val_accuracy: 0.7563\n",
            "Epoch 34/50\n",
            "78/78 [==============================] - 40s 506ms/step - loss: 0.6672 - accuracy: 0.7678 - val_loss: 0.6994 - val_accuracy: 0.7617\n",
            "Epoch 35/50\n",
            "78/78 [==============================] - 40s 508ms/step - loss: 0.6668 - accuracy: 0.7688 - val_loss: 0.6091 - val_accuracy: 0.7926\n",
            "Epoch 36/50\n",
            "78/78 [==============================] - 40s 510ms/step - loss: 0.6525 - accuracy: 0.7722 - val_loss: 0.6343 - val_accuracy: 0.7764\n",
            "Epoch 37/50\n",
            "78/78 [==============================] - 40s 509ms/step - loss: 0.6476 - accuracy: 0.7726 - val_loss: 0.5993 - val_accuracy: 0.7867\n",
            "Epoch 38/50\n",
            "78/78 [==============================] - 40s 508ms/step - loss: 0.6462 - accuracy: 0.7757 - val_loss: 0.6257 - val_accuracy: 0.7799\n",
            "Epoch 39/50\n",
            "78/78 [==============================] - 40s 511ms/step - loss: 0.6306 - accuracy: 0.7799 - val_loss: 0.6490 - val_accuracy: 0.7746\n",
            "Epoch 40/50\n",
            "78/78 [==============================] - 40s 511ms/step - loss: 0.6236 - accuracy: 0.7813 - val_loss: 0.6076 - val_accuracy: 0.7895\n",
            "Epoch 41/50\n",
            "78/78 [==============================] - 40s 511ms/step - loss: 0.6437 - accuracy: 0.7789 - val_loss: 0.6416 - val_accuracy: 0.7791\n",
            "Epoch 42/50\n",
            "78/78 [==============================] - 40s 509ms/step - loss: 0.6287 - accuracy: 0.7793 - val_loss: 0.5734 - val_accuracy: 0.7953\n",
            "Epoch 43/50\n",
            "78/78 [==============================] - 40s 511ms/step - loss: 0.6280 - accuracy: 0.7781 - val_loss: 0.6682 - val_accuracy: 0.7678\n",
            "Epoch 44/50\n",
            "78/78 [==============================] - 40s 510ms/step - loss: 0.6147 - accuracy: 0.7865 - val_loss: 0.6362 - val_accuracy: 0.7881\n",
            "Epoch 45/50\n",
            "78/78 [==============================] - 40s 509ms/step - loss: 0.5918 - accuracy: 0.7921 - val_loss: 0.6117 - val_accuracy: 0.7914\n",
            "Epoch 46/50\n",
            "78/78 [==============================] - 40s 507ms/step - loss: 0.6048 - accuracy: 0.7903 - val_loss: 0.6765 - val_accuracy: 0.7689\n",
            "Epoch 47/50\n",
            "78/78 [==============================] - 40s 509ms/step - loss: 0.5969 - accuracy: 0.7922 - val_loss: 0.5737 - val_accuracy: 0.7973\n",
            "Epoch 48/50\n",
            "78/78 [==============================] - 40s 508ms/step - loss: 0.6100 - accuracy: 0.7860 - val_loss: 0.5797 - val_accuracy: 0.7996\n",
            "Epoch 49/50\n",
            "78/78 [==============================] - 40s 513ms/step - loss: 0.5918 - accuracy: 0.7937 - val_loss: 0.5345 - val_accuracy: 0.8170\n",
            "Epoch 50/50\n",
            "78/78 [==============================] - 40s 513ms/step - loss: 0.5886 - accuracy: 0.7966 - val_loss: 0.5755 - val_accuracy: 0.7984\n"
          ],
          "name": "stdout"
        }
      ]
    },
    {
      "cell_type": "code",
      "metadata": {
        "colab": {
          "base_uri": "https://localhost:8080/"
        },
        "id": "ABECMmnxEAjy",
        "outputId": "1c8d3aab-47ec-4d08-ee2e-28af113fe705"
      },
      "source": [
        "elapsed_time = datetime.timedelta(seconds=(time.perf_counter() - t))\n",
        "\n",
        "print('Tiempo de entrenamiento:', elapsed_time)"
      ],
      "execution_count": 17,
      "outputs": [
        {
          "output_type": "stream",
          "text": [
            "Tiempo de entrenamiento: 0:33:36.272394\n"
          ],
          "name": "stdout"
        }
      ]
    },
    {
      "cell_type": "markdown",
      "metadata": {
        "id": "81bfDkXdEAjy"
      },
      "source": [
        "## 6. Evaluamos los resultados"
      ]
    },
    {
      "cell_type": "code",
      "metadata": {
        "colab": {
          "base_uri": "https://localhost:8080/"
        },
        "id": "lmyFJHDZEAjy",
        "outputId": "695db2e5-5d23-4577-bb69-d138f94c6f0e"
      },
      "source": [
        "_, acc = model.evaluate(x_test_img, y_test_img, verbose=0)\n",
        "print('Accuracy:',' %.3f' % (acc))"
      ],
      "execution_count": 18,
      "outputs": [
        {
          "output_type": "stream",
          "text": [
            "Accuracy:  0.765\n"
          ],
          "name": "stdout"
        }
      ]
    },
    {
      "cell_type": "code",
      "metadata": {
        "colab": {
          "base_uri": "https://localhost:8080/",
          "height": 545
        },
        "id": "tX3d-8DSEAjz",
        "outputId": "0c3acb2e-96c1-4c89-d215-b6d6c21ba538"
      },
      "source": [
        "plt.title('Cross Entropy Loss')\n",
        "plt.plot(history.history['loss'], color='blue', label='train')\n",
        "plt.plot(history.history['val_loss'], color='orange', label='test')\n",
        "plt.show()\n",
        "\n",
        "plt.title('Classification Accuracy')\n",
        "plt.plot(history.history['accuracy'], color='blue', label='train')\n",
        "plt.plot(history.history['val_accuracy'], color='orange', label='test')\n",
        "plt.show()"
      ],
      "execution_count": 19,
      "outputs": [
        {
          "output_type": "display_data",
          "data": {
            "image/png": "[encoded data removed]",
            "text/plain": [
              "<Figure size 432x288 with 1 Axes>"
            ]
          },
          "metadata": {
            "tags": [],
            "needs_background": "light"
          }
        },
        {
          "output_type": "display_data",
          "data": {
            "image/png": "[encoded data removed]",
            "text/plain": [
              "<Figure size 432x288 with 1 Axes>"
            ]
          },
          "metadata": {
            "tags": [],
            "needs_background": "light"
          }
        }
      ]
    },
    {
      "cell_type": "markdown",
      "metadata": {
        "id": "xxY4L8MWEAjz"
      },
      "source": [
        "El coste podemos ver que es estable y es en el epoch 15 que se fija en un valor. Además la accuracy baila alrededor de 0.10. No se puede decir que sea un modelo muy bueno.\n",
        "\n",
        "Veamos que tipo de predicciones estoy obteniendo sobre el conjunto de test (vamos a pintar las imagenes y sus clasificaciones)"
      ]
    },
    {
      "cell_type": "code",
      "metadata": {
        "id": "PLoz02mgEAj0"
      },
      "source": [
        "predictions = model.predict(x_test_img)"
      ],
      "execution_count": 20,
      "outputs": []
    },
    {
      "cell_type": "markdown",
      "metadata": {
        "id": "Lpx-DsZvEAj0"
      },
      "source": [
        "Una de las ventajas de Python es que hay montones de funciones y código realizado por terceras personas. Aquí me he fusilado unas bonitas funciones (que he adaptado un poco a mis necesidades) para poder pintar las imagenes, su label (ground truth) y las clasificaciones que hemos realizado."
      ]
    },
    {
      "cell_type": "code",
      "metadata": {
        "id": "PXshk6eWEAj0"
      },
      "source": [
        "def plot_image(i, predictions_array, true_label, img):\n",
        "  predictions_array, true_label, img = predictions_array, true_label[i], img[i]\n",
        "  plt.grid(False)\n",
        "  plt.xticks([])\n",
        "  plt.yticks([])\n",
        "\n",
        "  plt.imshow(img, cmap=plt.cm.binary)\n",
        "\n",
        "  predicted_label = np.argmax(predictions_array)\n",
        "  if predicted_label == true_label:\n",
        "    color = 'blue'\n",
        "  else:\n",
        "    color = 'red'\n",
        "\n",
        "  plt.xlabel(\"{} {:2.0f}% ({})\".format(predicted_label,\n",
        "                                100*np.max(predictions_array),\n",
        "                                true_label[0]),\n",
        "                                color=color)\n",
        "\n",
        "def plot_value_array(i, predictions_array, true_label):\n",
        "  predictions_array, true_label = predictions_array, true_label[i]\n",
        "  plt.grid(False)\n",
        "  plt.xticks(range(10))\n",
        "  plt.yticks([])\n",
        "  thisplot = plt.bar(range(10), predictions_array, color=\"#777777\")\n",
        "  plt.ylim([0, 1])\n",
        "  predicted_label = np.argmax(predictions_array)\n",
        "\n",
        "  thisplot[predicted_label].set_color('red')\n",
        "  thisplot[true_label[0]].set_color('blue')"
      ],
      "execution_count": 21,
      "outputs": []
    },
    {
      "cell_type": "markdown",
      "metadata": {
        "id": "3jlp0uUXEAj1"
      },
      "source": [
        "Dibujamos las primeras imagenes, con las predicciones y sus valores reales (un total de 20 imagenes, para no abusar de vuestros laptops)\n",
        "\n",
        "Coloreamos las prediciones correctas en azul y los fallos en rojo. Aunque primero he impreso las etiquetas para que tengamos una referencia al grafico."
      ]
    },
    {
      "cell_type": "code",
      "metadata": {
        "colab": {
          "base_uri": "https://localhost:8080/",
          "height": 631
        },
        "id": "QVBtjzpaEAj2",
        "outputId": "2c6bdc40-4e6c-4d2b-8a26-1a47ab3dcf92"
      },
      "source": [
        "i = 0\n",
        "for l in cifar10_labels:\n",
        "    print(i, l)\n",
        "    i += 1\n",
        "\n",
        "num_rows = 5\n",
        "num_cols = 4\n",
        "start = 650\n",
        "num_images = num_rows*num_cols\n",
        "plt.figure(figsize=(2*2*num_cols, 2*num_rows))\n",
        "for i in range(num_images):\n",
        "  plt.subplot(num_rows, 2*num_cols, 2*i+1)\n",
        "  plot_image(i+start, predictions[i+start], y_test_img, x_test_img)\n",
        "  plt.subplot(num_rows, 2*num_cols, 2*i+2)\n",
        "  plot_value_array(i+start, predictions[i+start], y_test_img)\n",
        "plt.tight_layout()\n",
        "plt.show()"
      ],
      "execution_count": 22,
      "outputs": [
        {
          "output_type": "stream",
          "text": [
            "0 airplane\n",
            "1 automobile\n",
            "2 bird\n",
            "3 cat\n",
            "4 deer\n",
            "5 dog\n",
            "6 frog\n",
            "7 horse\n",
            "8 ship\n",
            "9 truck\n"
          ],
          "name": "stdout"
        },
        {
          "output_type": "error",
          "ename": "IndexError",
          "evalue": "ignored",
          "traceback": [
            "\u001b[0;31m---------------------------------------------------------------------------\u001b[0m",
            "\u001b[0;31mIndexError\u001b[0m                                Traceback (most recent call last)",
            "\u001b[0;32m<ipython-input-22-6046944c4ccc>\u001b[0m in \u001b[0;36m<module>\u001b[0;34m()\u001b[0m\n\u001b[1;32m     11\u001b[0m \u001b[0;32mfor\u001b[0m \u001b[0mi\u001b[0m \u001b[0;32min\u001b[0m \u001b[0mrange\u001b[0m\u001b[0;34m(\u001b[0m\u001b[0mnum_images\u001b[0m\u001b[0;34m)\u001b[0m\u001b[0;34m:\u001b[0m\u001b[0;34m\u001b[0m\u001b[0;34m\u001b[0m\u001b[0m\n\u001b[1;32m     12\u001b[0m   \u001b[0mplt\u001b[0m\u001b[0;34m.\u001b[0m\u001b[0msubplot\u001b[0m\u001b[0;34m(\u001b[0m\u001b[0mnum_rows\u001b[0m\u001b[0;34m,\u001b[0m \u001b[0;36m2\u001b[0m\u001b[0;34m*\u001b[0m\u001b[0mnum_cols\u001b[0m\u001b[0;34m,\u001b[0m \u001b[0;36m2\u001b[0m\u001b[0;34m*\u001b[0m\u001b[0mi\u001b[0m\u001b[0;34m+\u001b[0m\u001b[0;36m1\u001b[0m\u001b[0;34m)\u001b[0m\u001b[0;34m\u001b[0m\u001b[0;34m\u001b[0m\u001b[0m\n\u001b[0;32m---> 13\u001b[0;31m   \u001b[0mplot_image\u001b[0m\u001b[0;34m(\u001b[0m\u001b[0mi\u001b[0m\u001b[0;34m+\u001b[0m\u001b[0mstart\u001b[0m\u001b[0;34m,\u001b[0m \u001b[0mpredictions\u001b[0m\u001b[0;34m[\u001b[0m\u001b[0mi\u001b[0m\u001b[0;34m+\u001b[0m\u001b[0mstart\u001b[0m\u001b[0;34m]\u001b[0m\u001b[0;34m,\u001b[0m \u001b[0my_test_img\u001b[0m\u001b[0;34m,\u001b[0m \u001b[0mx_test_img\u001b[0m\u001b[0;34m)\u001b[0m\u001b[0;34m\u001b[0m\u001b[0;34m\u001b[0m\u001b[0m\n\u001b[0m\u001b[1;32m     14\u001b[0m   \u001b[0mplt\u001b[0m\u001b[0;34m.\u001b[0m\u001b[0msubplot\u001b[0m\u001b[0;34m(\u001b[0m\u001b[0mnum_rows\u001b[0m\u001b[0;34m,\u001b[0m \u001b[0;36m2\u001b[0m\u001b[0;34m*\u001b[0m\u001b[0mnum_cols\u001b[0m\u001b[0;34m,\u001b[0m \u001b[0;36m2\u001b[0m\u001b[0;34m*\u001b[0m\u001b[0mi\u001b[0m\u001b[0;34m+\u001b[0m\u001b[0;36m2\u001b[0m\u001b[0;34m)\u001b[0m\u001b[0;34m\u001b[0m\u001b[0;34m\u001b[0m\u001b[0m\n\u001b[1;32m     15\u001b[0m   \u001b[0mplot_value_array\u001b[0m\u001b[0;34m(\u001b[0m\u001b[0mi\u001b[0m\u001b[0;34m+\u001b[0m\u001b[0mstart\u001b[0m\u001b[0;34m,\u001b[0m \u001b[0mpredictions\u001b[0m\u001b[0;34m[\u001b[0m\u001b[0mi\u001b[0m\u001b[0;34m+\u001b[0m\u001b[0mstart\u001b[0m\u001b[0;34m]\u001b[0m\u001b[0;34m,\u001b[0m \u001b[0my_test_img\u001b[0m\u001b[0;34m)\u001b[0m\u001b[0;34m\u001b[0m\u001b[0;34m\u001b[0m\u001b[0m\n",
            "\u001b[0;32m<ipython-input-21-ecc912323b35>\u001b[0m in \u001b[0;36mplot_image\u001b[0;34m(i, predictions_array, true_label, img)\u001b[0m\n\u001b[1;32m     15\u001b[0m   plt.xlabel(\"{} {:2.0f}% ({})\".format(predicted_label,\n\u001b[1;32m     16\u001b[0m                                 \u001b[0;36m100\u001b[0m\u001b[0;34m*\u001b[0m\u001b[0mnp\u001b[0m\u001b[0;34m.\u001b[0m\u001b[0mmax\u001b[0m\u001b[0;34m(\u001b[0m\u001b[0mpredictions_array\u001b[0m\u001b[0;34m)\u001b[0m\u001b[0;34m,\u001b[0m\u001b[0;34m\u001b[0m\u001b[0;34m\u001b[0m\u001b[0m\n\u001b[0;32m---> 17\u001b[0;31m                                 true_label[0]),\n\u001b[0m\u001b[1;32m     18\u001b[0m                                 color=color)\n\u001b[1;32m     19\u001b[0m \u001b[0;34m\u001b[0m\u001b[0m\n",
            "\u001b[0;31mIndexError\u001b[0m: invalid index to scalar variable."
          ]
        },
        {
          "output_type": "display_data",
          "data": {
            "image/png": "[encoded data removed]",
            "text/plain": [
              "<Figure size 1152x720 with 1 Axes>"
            ]
          },
          "metadata": {
            "tags": []
          }
        }
      ]
    }
  ]
}