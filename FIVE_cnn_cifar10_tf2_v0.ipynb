{
  "nbformat": 4,
  "nbformat_minor": 0,
  "metadata": {
    "colab": {
      "name": "THREE-cnn-cifar10-tf2-v0.ipynb",
      "provenance": [],
      "collapsed_sections": [],
      "authorship_tag": "ABX9TyNBwjgvy7zPyiv9okY3w6bJ",
      "include_colab_link": true
    },
    "kernelspec": {
      "name": "python3",
      "display_name": "Python 3"
    },
    "accelerator": "GPU"
  },
  "cells": [
    {
      "cell_type": "markdown",
      "metadata": {
        "id": "view-in-github",
        "colab_type": "text"
      },
      "source": [
        "<a href=\"https://colab.research.google.com/github/DavidPuigV/Cifar10/blob/main/FIVE_cnn_cifar10_tf2_v0.ipynb\" target=\"_parent\"><img src=\"https://colab.research.google.com/assets/colab-badge.svg\" alt=\"Open In Colab\"/></a>"
      ]
    },
    {
      "cell_type": "code",
      "metadata": {
        "id": "61D-Wx1g_FZ7"
      },
      "source": [
        ""
      ],
      "execution_count": null,
      "outputs": []
    },
    {
      "cell_type": "markdown",
      "metadata": {
        "id": "8ynUvxmxEAjb"
      },
      "source": [
        "![Nuclio logo](https://nuclio.school/wp-content/uploads/2018/12/nucleoDS-newBlack.png)"
      ]
    },
    {
      "cell_type": "markdown",
      "metadata": {
        "jupyter": {
          "source_hidden": true
        },
        "id": "CY25dM5WEAjm"
      },
      "source": [
        "## 1. Librerias\n",
        "\n",
        "Para empezar carguemos esas librerias que nos hacen falta"
      ]
    },
    {
      "cell_type": "code",
      "metadata": {
        "id": "7xk6r5hbEAjn"
      },
      "source": [
        "import numpy as np\n",
        "import time\n",
        "import datetime\n",
        "import random\n",
        "import pandas as pd\n",
        "import os\n",
        "\n",
        "from matplotlib import pyplot as plt\n",
        "from tensorflow import keras as ks\n",
        "from tensorflow.keras.preprocessing.image import ImageDataGenerator, load_img\n",
        "from keras.utils import to_categorical\n",
        "from tensorflow.keras.callbacks import EarlyStopping\n",
        "from tensorflow.keras.regularizers import l2\n",
        "from tensorflow.keras.optimizers import Adam"
      ],
      "execution_count": 1,
      "outputs": []
    },
    {
      "cell_type": "markdown",
      "metadata": {
        "id": "RMHlzbNKEAjo"
      },
      "source": [
        "## 2. Arquitectura de red del modelo\n"
      ]
    },
    {
      "cell_type": "code",
      "metadata": {
        "colab": {
          "base_uri": "https://localhost:8080/"
        },
        "id": "UaulKhKGEAjp",
        "outputId": "421a4c1e-ee5b-4217-f8dd-cc5ea3ad279e"
      },
      "source": [
        "model = ks.Sequential()\n",
        "\n",
        "model.add(ks.layers.Conv2D(32, (3, 3), strides=1, activation='relu', padding='same', input_shape=(32,32,3)))\n",
        "model.add(ks.layers.Conv2D(32, (3, 3), strides=1, activation='relu', padding='same'))\n",
        "model.add(ks.layers.MaxPooling2D((2, 2)))\n",
        "model.add(ks.layers.Dropout(0.3))\n",
        "\n",
        "\n",
        "model.add(ks.layers.Conv2D(64, (3, 3), strides=1, activation='relu', padding='same', input_shape=(32,32,3)))\n",
        "model.add(ks.layers.Conv2D(64, (3, 3), strides=1, activation='relu', padding='same'))\n",
        "model.add(ks.layers.MaxPooling2D((2, 2)))\n",
        "model.add(ks.layers.Dropout(0.3))\n",
        "\n",
        "model.add(ks.layers.Flatten())\n",
        "model.add(ks.layers.Dense(32, activation='relu'))\n",
        "model.add(ks.layers.Dropout(0.3))\n",
        "\n",
        "model.add(ks.layers.Dense(10, activation='softmax'))\n",
        "model.summary()"
      ],
      "execution_count": 2,
      "outputs": [
        {
          "output_type": "stream",
          "text": [
            "Model: \"sequential\"\n",
            "_________________________________________________________________\n",
            "Layer (type)                 Output Shape              Param #   \n",
            "=================================================================\n",
            "conv2d (Conv2D)              (None, 32, 32, 32)        896       \n",
            "_________________________________________________________________\n",
            "conv2d_1 (Conv2D)            (None, 32, 32, 32)        9248      \n",
            "_________________________________________________________________\n",
            "max_pooling2d (MaxPooling2D) (None, 16, 16, 32)        0         \n",
            "_________________________________________________________________\n",
            "dropout (Dropout)            (None, 16, 16, 32)        0         \n",
            "_________________________________________________________________\n",
            "conv2d_2 (Conv2D)            (None, 16, 16, 64)        18496     \n",
            "_________________________________________________________________\n",
            "conv2d_3 (Conv2D)            (None, 16, 16, 64)        36928     \n",
            "_________________________________________________________________\n",
            "max_pooling2d_1 (MaxPooling2 (None, 8, 8, 64)          0         \n",
            "_________________________________________________________________\n",
            "dropout_1 (Dropout)          (None, 8, 8, 64)          0         \n",
            "_________________________________________________________________\n",
            "flatten (Flatten)            (None, 4096)              0         \n",
            "_________________________________________________________________\n",
            "dense (Dense)                (None, 32)                131104    \n",
            "_________________________________________________________________\n",
            "dropout_2 (Dropout)          (None, 32)                0         \n",
            "_________________________________________________________________\n",
            "dense_1 (Dense)              (None, 10)                330       \n",
            "=================================================================\n",
            "Total params: 197,002\n",
            "Trainable params: 197,002\n",
            "Non-trainable params: 0\n",
            "_________________________________________________________________\n"
          ],
          "name": "stdout"
        }
      ]
    },
    {
      "cell_type": "markdown",
      "metadata": {
        "id": "E8rr3w-REAjq"
      },
      "source": [
        "Para revisar un modelo, nos basta con llamar al método **.summary()** del modelo"
      ]
    },
    {
      "cell_type": "markdown",
      "metadata": {
        "id": "TIDaX59ZEAjr"
      },
      "source": [
        "## 3. Optimizador, función error\n"
      ]
    },
    {
      "cell_type": "code",
      "metadata": {
        "id": "9d5cloXtEAjs"
      },
      "source": [
        "model.compile(optimizer='Adam',\n",
        "              loss='sparse_categorical_crossentropy',\n",
        "              metrics=['accuracy'])"
      ],
      "execution_count": 3,
      "outputs": []
    },
    {
      "cell_type": "markdown",
      "metadata": {
        "id": "473OfIrNqrVN"
      },
      "source": [
        "# 3.1 Definimos la tecnica de Early stopping mediante callbacks"
      ]
    },
    {
      "cell_type": "code",
      "metadata": {
        "id": "jdy7Fwjtq1_C"
      },
      "source": [
        "\r\n",
        "callback_val_loss = EarlyStopping(monitor=\"val_loss\", patience=20)\r\n",
        "callback_val_acc = EarlyStopping(monitor=\"val_accuracy\", patience=20)"
      ],
      "execution_count": 4,
      "outputs": []
    },
    {
      "cell_type": "markdown",
      "metadata": {
        "id": "6SuRYFWgEAjs"
      },
      "source": [
        "## 4. Preparamos los datos\n",
        "\n",
        "Cargamos los datos de CIFAR10 de los datasets directamente de las librerias de Keras. Estos ya estan dispuestos en train and test\n",
        "\n",
        "**Detalle importante:** \n",
        "> La red neuronal requiere que los inputs sean números reales, y lo haremos forzando la division de los valores de dentro de las matrices 28x28 (que tienen valoress del 0 al 255) por 255.0 (un real)"
      ]
    },
    {
      "cell_type": "code",
      "metadata": {
        "id": "ZPuXtF0uEAjt"
      },
      "source": [
        "cifar10 = ks.datasets.cifar10\n",
        "\n",
        "(x_train_img, y_train_img), (x_test_img, y_test_img) = cifar10.load_data()\n",
        "\n",
        "x_train = x_train_img / 255.0\n",
        "x_test = x_test_img / 255.0"
      ],
      "execution_count": 5,
      "outputs": []
    },
    {
      "cell_type": "code",
      "metadata": {
        "colab": {
          "base_uri": "https://localhost:8080/"
        },
        "id": "F29oWrwCQh41",
        "outputId": "1a846772-c08e-45e4-cb30-6660fa95d338"
      },
      "source": [
        "y_train_img = y_train_img.ravel()\r\n",
        "y_test_img = y_test_img.ravel()\r\n",
        "print(y_train_img)\r\n",
        "print(y_test_img)\r\n"
      ],
      "execution_count": 6,
      "outputs": [
        {
          "output_type": "stream",
          "text": [
            "[6 9 9 ... 9 1 1]\n",
            "[3 8 8 ... 5 1 7]\n"
          ],
          "name": "stdout"
        }
      ]
    },
    {
      "cell_type": "code",
      "metadata": {
        "id": "7zD1QNXlpNHT",
        "outputId": "05554439-0fe0-4ca2-a6c9-e37a587771be",
        "colab": {
          "base_uri": "https://localhost:8080/"
        }
      },
      "source": [
        "print(x_train_img.shape)\r\n",
        "print(x_test_img.shape)\r\n"
      ],
      "execution_count": 7,
      "outputs": [
        {
          "output_type": "stream",
          "text": [
            "(50000, 32, 32, 3)\n",
            "(10000, 32, 32, 3)\n"
          ],
          "name": "stdout"
        }
      ]
    },
    {
      "cell_type": "markdown",
      "metadata": {
        "id": "gLaoT4wOEAjt"
      },
      "source": [
        "Obtenemos un array con todas las labels de CIFAR10"
      ]
    },
    {
      "cell_type": "code",
      "metadata": {
        "colab": {
          "base_uri": "https://localhost:8080/"
        },
        "id": "SvqN2aEBEAju",
        "outputId": "b84790cf-0025-4e97-96d8-bf40b48754ed"
      },
      "source": [
        "cifar10_labels = ['airplane','automobile','bird','cat','deer','dog','frog','horse','ship','truck']\n",
        "print('labels: %s' % (cifar10_labels))"
      ],
      "execution_count": 8,
      "outputs": [
        {
          "output_type": "stream",
          "text": [
            "labels: ['airplane', 'automobile', 'bird', 'cat', 'deer', 'dog', 'frog', 'horse', 'ship', 'truck']\n"
          ],
          "name": "stdout"
        }
      ]
    },
    {
      "cell_type": "markdown",
      "metadata": {
        "id": "HmLztaklEAjv"
      },
      "source": [
        "Como vamos a querer ir haciendo validación a la vez que entrenamos (muy practico)"
      ]
    },
    {
      "cell_type": "code",
      "metadata": {
        "id": "KisNc7s_EAjv"
      },
      "source": [
        "x_val_img = x_train_img[-10000:]\n",
        "y_val_img = y_train_img[-10000:]\n",
        "\n",
        "x_train_img = x_train_img[:-10000]\n",
        "y_train_img = y_train_img[:-10000]\n"
      ],
      "execution_count": 9,
      "outputs": []
    },
    {
      "cell_type": "markdown",
      "metadata": {
        "id": "nw2HJLcWEAjw"
      },
      "source": [
        "Cuando añadimos convoluciones, necesitamos \"pre-tratar los datos\", porque **la convolución es pera una matriz de 4 campos** (más parecido a \"imagenes\"), no un array de 3 como son actualmente los data sets de train, test y validación. Así que toca darle al **.reshape()**\n",
        "\n",
        "Por eso, al salir de la Convolution, hay que hacer un Flatten, porque las capas FullDense esperan arrays, no matrices!!\n",
        "\n",
        "Luego lo imprimimos para ver que todo está correcto"
      ]
    },
    {
      "cell_type": "code",
      "metadata": {
        "colab": {
          "base_uri": "https://localhost:8080/"
        },
        "id": "dEhUfUYVEAjw",
        "outputId": "60c40044-5203-425c-eb96-759a98ff003e"
      },
      "source": [
        "# Validamos el resultado\n",
        "print('Train: X=%s, y=%s' % (x_train_img.shape, y_train_img.shape))\n",
        "print('Test: X=%s, y=%s' % (x_test_img.shape, y_test_img.shape))\n"
      ],
      "execution_count": 10,
      "outputs": [
        {
          "output_type": "stream",
          "text": [
            "Train: X=(40000, 32, 32, 3), y=(40000,)\n",
            "Test: X=(10000, 32, 32, 3), y=(10000,)\n"
          ],
          "name": "stdout"
        }
      ]
    },
    {
      "cell_type": "markdown",
      "metadata": {
        "id": "myZ8NYoXi0yS"
      },
      "source": [
        "## Transformador de imagenes a datos consumibles por la red neuronal\r\n"
      ]
    },
    {
      "cell_type": "code",
      "metadata": {
        "id": "V03oA0Zoi1-C"
      },
      "source": [
        "train_datagen = ImageDataGenerator(\r\n",
        "    rescale=1./255,\r\n",
        "    rotation_range = 10,\r\n",
        "    shear_range = 0.1,\r\n",
        "    zoom_range=0.1,\r\n",
        "    horizontal_flip=True,\r\n",
        "    vertical_flip=False,\r\n",
        "    brightness_range=(0.7,0.9),\r\n",
        "    )\r\n",
        "\r\n",
        "train_generator = train_datagen.flow( \r\n",
        "    x_train_img, \r\n",
        "    y_train_img, \r\n",
        "    batch_size=128          # hago esto para cada 30 imagenes\r\n",
        "    )  "
      ],
      "execution_count": 11,
      "outputs": []
    },
    {
      "cell_type": "code",
      "metadata": {
        "id": "Ivtit1fqCixm",
        "outputId": "7e652617-cc7f-4a59-c895-45244d7bec7c",
        "colab": {
          "base_uri": "https://localhost:8080/"
        }
      },
      "source": [
        "from google.colab import drive\n",
        "drive.mount('/content/drive')"
      ],
      "execution_count": 12,
      "outputs": [
        {
          "output_type": "stream",
          "text": [
            "Drive already mounted at /content/drive; to attempt to forcibly remount, call drive.mount(\"/content/drive\", force_remount=True).\n"
          ],
          "name": "stdout"
        }
      ]
    },
    {
      "cell_type": "markdown",
      "metadata": {
        "id": "1Dfw0kcsjBGy"
      },
      "source": [
        "**De validacion y de testeo**\r\n",
        "\r\n",
        "Fijaos que aquí la única modificación es un re-escalado, nada de modificaciones"
      ]
    },
    {
      "cell_type": "code",
      "metadata": {
        "id": "k4BjJYhli16q"
      },
      "source": [
        "validation_datagen = ImageDataGenerator(\r\n",
        "    rescale=1./255\r\n",
        "    )\r\n",
        "validation_generator = validation_datagen.flow(\r\n",
        "    x_val_img, \r\n",
        "    y_val_img, \r\n",
        "    batch_size=20\r\n",
        "    )\r\n",
        "\r\n",
        "test_datagen = ImageDataGenerator(\r\n",
        "    rescale=1./255\r\n",
        "    )\r\n",
        "test_generator = test_datagen.flow(\r\n",
        "    x_test_img, \r\n",
        "    y_test_img,\r\n",
        "    batch_size=20\r\n",
        "    )"
      ],
      "execution_count": 13,
      "outputs": []
    },
    {
      "cell_type": "markdown",
      "metadata": {
        "id": "MHt9Y9Upk4-H"
      },
      "source": [
        "## vamos a pintarnos un ejemplo de lo que hace el train data generator"
      ]
    },
    {
      "cell_type": "code",
      "metadata": {
        "colab": {
          "base_uri": "https://localhost:8080/",
          "height": 283
        },
        "id": "Gbd7N4jgkqxC",
        "outputId": "ee4478f2-2c0f-4833-94b2-78d8f6302d3d"
      },
      "source": [
        "\r\n",
        "sample = random.choice(range(0,1450))\r\n",
        "example_generator = train_datagen.flow(\r\n",
        "    x_train_img[sample:sample+1],\r\n",
        "    y_train_img[sample:sample+1],\r\n",
        "    batch_size=20\r\n",
        "    )\r\n",
        "\r\n",
        "plt.imshow(x_train_img[sample]/255.)"
      ],
      "execution_count": 14,
      "outputs": [
        {
          "output_type": "execute_result",
          "data": {
            "text/plain": [
              "<matplotlib.image.AxesImage at 0x7fd51d3678d0>"
            ]
          },
          "metadata": {
            "tags": []
          },
          "execution_count": 14
        },
        {
          "output_type": "display_data",
          "data": {
            "image/png": "[encoded data removed]",
            "text/plain": [
              "<Figure size 432x288 with 1 Axes>"
            ]
          },
          "metadata": {
            "tags": [],
            "needs_background": "light"
          }
        }
      ]
    },
    {
      "cell_type": "markdown",
      "metadata": {
        "id": "Qo5RIs_MEAjx"
      },
      "source": [
        "## 5. Entrenamiento\n",
        "\n",
        "Ya podemos ponernos a entrenar el modelo!! Ojo, que hemos de entrenar contra los datos convertidos al formato que espera la Convolution.\n",
        "\n",
        "Empezaremos con 30 epocs, es decir, 30 pasadas completas del dataset (que a su vez sera con mini-batches internamente), fijando un batch de 64\n",
        "\n",
        "El metodo .fit() nos permite, definir además si disponemos de varias CPUs, GPUs, y si queremos ir validando datos a cada fin de epoch."
      ]
    },
    {
      "cell_type": "code",
      "metadata": {
        "id": "_zon_fW5EAjx"
      },
      "source": [
        "t = time.perf_counter()"
      ],
      "execution_count": 15,
      "outputs": []
    },
    {
      "cell_type": "code",
      "metadata": {
        "colab": {
          "base_uri": "https://localhost:8080/"
        },
        "id": "pZKlMBrAEAjx",
        "outputId": "5f6e3165-2e25-48d0-818e-bcacc6e89537"
      },
      "source": [
        "history = model.fit(train_generator, epochs=200, steps_per_epoch=312 , callbacks=[callback_val_loss, callback_val_acc], validation_data = validation_generator, validation_steps=78)"
      ],
      "execution_count": 16,
      "outputs": [
        {
          "output_type": "stream",
          "text": [
            "Epoch 1/200\n",
            "312/312 [==============================] - 33s 97ms/step - loss: 2.0198 - accuracy: 0.2485 - val_loss: 1.4859 - val_accuracy: 0.4615\n",
            "Epoch 2/200\n",
            "312/312 [==============================] - 29s 95ms/step - loss: 1.5793 - accuracy: 0.4223 - val_loss: 1.3045 - val_accuracy: 0.5308\n",
            "Epoch 3/200\n",
            "312/312 [==============================] - 30s 95ms/step - loss: 1.4330 - accuracy: 0.4799 - val_loss: 1.1896 - val_accuracy: 0.5756\n",
            "Epoch 4/200\n",
            "312/312 [==============================] - 29s 94ms/step - loss: 1.3366 - accuracy: 0.5205 - val_loss: 1.1240 - val_accuracy: 0.6032\n",
            "Epoch 5/200\n",
            "312/312 [==============================] - 30s 97ms/step - loss: 1.2510 - accuracy: 0.5526 - val_loss: 1.0621 - val_accuracy: 0.6205\n",
            "Epoch 6/200\n",
            "312/312 [==============================] - 30s 96ms/step - loss: 1.1939 - accuracy: 0.5735 - val_loss: 0.9342 - val_accuracy: 0.6654\n",
            "Epoch 7/200\n",
            "312/312 [==============================] - 30s 95ms/step - loss: 1.1531 - accuracy: 0.5902 - val_loss: 0.9911 - val_accuracy: 0.6538\n",
            "Epoch 8/200\n",
            "312/312 [==============================] - 30s 95ms/step - loss: 1.0971 - accuracy: 0.6094 - val_loss: 0.9205 - val_accuracy: 0.6660\n",
            "Epoch 9/200\n",
            "312/312 [==============================] - 30s 96ms/step - loss: 1.0685 - accuracy: 0.6203 - val_loss: 0.9407 - val_accuracy: 0.6526\n",
            "Epoch 10/200\n",
            "312/312 [==============================] - 29s 94ms/step - loss: 1.0507 - accuracy: 0.6290 - val_loss: 0.8898 - val_accuracy: 0.6962\n",
            "Epoch 11/200\n",
            "312/312 [==============================] - 30s 96ms/step - loss: 1.0265 - accuracy: 0.6384 - val_loss: 0.8492 - val_accuracy: 0.7167\n",
            "Epoch 12/200\n",
            "312/312 [==============================] - 30s 95ms/step - loss: 0.9935 - accuracy: 0.6495 - val_loss: 0.8671 - val_accuracy: 0.6910\n",
            "Epoch 13/200\n",
            "312/312 [==============================] - 30s 97ms/step - loss: 0.9848 - accuracy: 0.6559 - val_loss: 0.8842 - val_accuracy: 0.7026\n",
            "Epoch 14/200\n",
            "312/312 [==============================] - 29s 94ms/step - loss: 0.9709 - accuracy: 0.6603 - val_loss: 0.7980 - val_accuracy: 0.7199\n",
            "Epoch 15/200\n",
            "312/312 [==============================] - 30s 95ms/step - loss: 0.9382 - accuracy: 0.6716 - val_loss: 0.8229 - val_accuracy: 0.7244\n",
            "Epoch 16/200\n",
            "312/312 [==============================] - 30s 95ms/step - loss: 0.9376 - accuracy: 0.6704 - val_loss: 0.7636 - val_accuracy: 0.7340\n",
            "Epoch 17/200\n",
            "312/312 [==============================] - 30s 96ms/step - loss: 0.9225 - accuracy: 0.6772 - val_loss: 0.7609 - val_accuracy: 0.7321\n",
            "Epoch 18/200\n",
            "312/312 [==============================] - 30s 96ms/step - loss: 0.9034 - accuracy: 0.6814 - val_loss: 0.7054 - val_accuracy: 0.7571\n",
            "Epoch 19/200\n",
            "312/312 [==============================] - 29s 94ms/step - loss: 0.8814 - accuracy: 0.6892 - val_loss: 0.8072 - val_accuracy: 0.7179\n",
            "Epoch 20/200\n",
            "312/312 [==============================] - 29s 94ms/step - loss: 0.8887 - accuracy: 0.6884 - val_loss: 0.8533 - val_accuracy: 0.7115\n",
            "Epoch 21/200\n",
            "312/312 [==============================] - 29s 94ms/step - loss: 0.8743 - accuracy: 0.6983 - val_loss: 0.7088 - val_accuracy: 0.7609\n",
            "Epoch 22/200\n",
            "312/312 [==============================] - 30s 95ms/step - loss: 0.8772 - accuracy: 0.6947 - val_loss: 0.7033 - val_accuracy: 0.7545\n",
            "Epoch 23/200\n",
            "312/312 [==============================] - 30s 96ms/step - loss: 0.8548 - accuracy: 0.6991 - val_loss: 0.6932 - val_accuracy: 0.7532\n",
            "Epoch 24/200\n",
            "312/312 [==============================] - 30s 96ms/step - loss: 0.8584 - accuracy: 0.6987 - val_loss: 0.7359 - val_accuracy: 0.7340\n",
            "Epoch 25/200\n",
            "312/312 [==============================] - 30s 95ms/step - loss: 0.8429 - accuracy: 0.7071 - val_loss: 0.7725 - val_accuracy: 0.7404\n",
            "Epoch 26/200\n",
            "312/312 [==============================] - 29s 94ms/step - loss: 0.8361 - accuracy: 0.7087 - val_loss: 0.7097 - val_accuracy: 0.7622\n",
            "Epoch 27/200\n",
            "312/312 [==============================] - 29s 94ms/step - loss: 0.8142 - accuracy: 0.7191 - val_loss: 0.6719 - val_accuracy: 0.7801\n",
            "Epoch 28/200\n",
            "312/312 [==============================] - 30s 95ms/step - loss: 0.8246 - accuracy: 0.7107 - val_loss: 0.7338 - val_accuracy: 0.7641\n",
            "Epoch 29/200\n",
            "312/312 [==============================] - 30s 98ms/step - loss: 0.8154 - accuracy: 0.7140 - val_loss: 0.7684 - val_accuracy: 0.7462\n",
            "Epoch 30/200\n",
            "312/312 [==============================] - 31s 98ms/step - loss: 0.8037 - accuracy: 0.7139 - val_loss: 0.6269 - val_accuracy: 0.7904\n",
            "Epoch 31/200\n",
            "312/312 [==============================] - 30s 97ms/step - loss: 0.7935 - accuracy: 0.7262 - val_loss: 0.6777 - val_accuracy: 0.7641\n",
            "Epoch 32/200\n",
            "312/312 [==============================] - 31s 98ms/step - loss: 0.8007 - accuracy: 0.7222 - val_loss: 0.7605 - val_accuracy: 0.7526\n",
            "Epoch 33/200\n",
            "312/312 [==============================] - 30s 97ms/step - loss: 0.7930 - accuracy: 0.7239 - val_loss: 0.7514 - val_accuracy: 0.7474\n",
            "Epoch 34/200\n",
            "312/312 [==============================] - 31s 98ms/step - loss: 0.7803 - accuracy: 0.7296 - val_loss: 0.7195 - val_accuracy: 0.7590\n",
            "Epoch 35/200\n",
            "312/312 [==============================] - 31s 98ms/step - loss: 0.7825 - accuracy: 0.7299 - val_loss: 0.7024 - val_accuracy: 0.7596\n",
            "Epoch 36/200\n",
            "312/312 [==============================] - 31s 99ms/step - loss: 0.7769 - accuracy: 0.7301 - val_loss: 0.6919 - val_accuracy: 0.7609\n",
            "Epoch 37/200\n",
            "312/312 [==============================] - 30s 97ms/step - loss: 0.7675 - accuracy: 0.7320 - val_loss: 0.6951 - val_accuracy: 0.7647\n",
            "Epoch 38/200\n",
            "312/312 [==============================] - 30s 98ms/step - loss: 0.7688 - accuracy: 0.7341 - val_loss: 0.6520 - val_accuracy: 0.7885\n",
            "Epoch 39/200\n",
            "312/312 [==============================] - 30s 96ms/step - loss: 0.7641 - accuracy: 0.7331 - val_loss: 0.6747 - val_accuracy: 0.7628\n",
            "Epoch 40/200\n",
            "312/312 [==============================] - 30s 97ms/step - loss: 0.7482 - accuracy: 0.7403 - val_loss: 0.7017 - val_accuracy: 0.7628\n",
            "Epoch 41/200\n",
            "312/312 [==============================] - 30s 95ms/step - loss: 0.7540 - accuracy: 0.7402 - val_loss: 0.7114 - val_accuracy: 0.7545\n",
            "Epoch 42/200\n",
            "312/312 [==============================] - 30s 95ms/step - loss: 0.7359 - accuracy: 0.7445 - val_loss: 0.6325 - val_accuracy: 0.7872\n",
            "Epoch 43/200\n",
            "312/312 [==============================] - 30s 96ms/step - loss: 0.7515 - accuracy: 0.7420 - val_loss: 0.7170 - val_accuracy: 0.7596\n",
            "Epoch 44/200\n",
            "312/312 [==============================] - 30s 96ms/step - loss: 0.7359 - accuracy: 0.7434 - val_loss: 0.6253 - val_accuracy: 0.7878\n",
            "Epoch 45/200\n",
            "312/312 [==============================] - 30s 96ms/step - loss: 0.7341 - accuracy: 0.7463 - val_loss: 0.7403 - val_accuracy: 0.7442\n",
            "Epoch 46/200\n",
            "312/312 [==============================] - 30s 97ms/step - loss: 0.7314 - accuracy: 0.7478 - val_loss: 0.6643 - val_accuracy: 0.7776\n",
            "Epoch 47/200\n",
            "312/312 [==============================] - 30s 98ms/step - loss: 0.7300 - accuracy: 0.7468 - val_loss: 0.7282 - val_accuracy: 0.7513\n",
            "Epoch 48/200\n",
            "312/312 [==============================] - 31s 98ms/step - loss: 0.7247 - accuracy: 0.7481 - val_loss: 0.6631 - val_accuracy: 0.7782\n",
            "Epoch 49/200\n",
            "312/312 [==============================] - 31s 98ms/step - loss: 0.7216 - accuracy: 0.7477 - val_loss: 0.6576 - val_accuracy: 0.7744\n",
            "Epoch 50/200\n",
            "312/312 [==============================] - 30s 96ms/step - loss: 0.7248 - accuracy: 0.7530 - val_loss: 0.6553 - val_accuracy: 0.7808\n"
          ],
          "name": "stdout"
        }
      ]
    },
    {
      "cell_type": "code",
      "metadata": {
        "colab": {
          "base_uri": "https://localhost:8080/"
        },
        "id": "ABECMmnxEAjy",
        "outputId": "200d9ac3-0cac-4777-d572-caf61e8f40db"
      },
      "source": [
        "elapsed_time = datetime.timedelta(seconds=(time.perf_counter() - t))\n",
        "\n",
        "print('Tiempo de entrenamiento:', elapsed_time)"
      ],
      "execution_count": 17,
      "outputs": [
        {
          "output_type": "stream",
          "text": [
            "Tiempo de entrenamiento: 0:25:01.772816\n"
          ],
          "name": "stdout"
        }
      ]
    },
    {
      "cell_type": "markdown",
      "metadata": {
        "id": "81bfDkXdEAjy"
      },
      "source": [
        "## 6. Evaluamos los resultados"
      ]
    },
    {
      "cell_type": "code",
      "metadata": {
        "colab": {
          "base_uri": "https://localhost:8080/"
        },
        "id": "lmyFJHDZEAjy",
        "outputId": "3ad17ca4-e09c-4ef7-9fc6-e2ef9676f898"
      },
      "source": [
        "_, acc = model.evaluate(train_generator, verbose=0)\n",
        "print('Accuracy:',' %.3f' % (acc))"
      ],
      "execution_count": 18,
      "outputs": [
        {
          "output_type": "stream",
          "text": [
            "Accuracy:  0.830\n"
          ],
          "name": "stdout"
        }
      ]
    },
    {
      "cell_type": "code",
      "metadata": {
        "colab": {
          "base_uri": "https://localhost:8080/",
          "height": 545
        },
        "id": "tX3d-8DSEAjz",
        "outputId": "bcfd92d9-b476-415e-c14b-00a47f0b5c94"
      },
      "source": [
        "plt.title('Cross Entropy Loss')\n",
        "plt.plot(history.history['loss'], color='blue', label='train')\n",
        "plt.plot(history.history['val_loss'], color='orange', label='test')\n",
        "plt.show()\n",
        "\n",
        "plt.title('Classification Accuracy')\n",
        "plt.plot(history.history['accuracy'], color='blue', label='train')\n",
        "plt.plot(history.history['val_accuracy'], color='orange', label='test')\n",
        "plt.show()"
      ],
      "execution_count": 19,
      "outputs": [
        {
          "output_type": "display_data",
          "data": {
            "image/png": "[encoded data removed]",
            "text/plain": [
              "<Figure size 432x288 with 1 Axes>"
            ]
          },
          "metadata": {
            "tags": [],
            "needs_background": "light"
          }
        },
        {
          "output_type": "display_data",
          "data": {
            "image/png": "[encoded data removed]",
            "text/plain": [
              "<Figure size 432x288 with 1 Axes>"
            ]
          },
          "metadata": {
            "tags": [],
            "needs_background": "light"
          }
        }
      ]
    },
    {
      "cell_type": "markdown",
      "metadata": {
        "id": "xxY4L8MWEAjz"
      },
      "source": [
        "El coste podemos ver que es estable y es en el epoch 15 que se fija en un valor. Además la accuracy baila alrededor de 0.10. No se puede decir que sea un modelo muy bueno.\n",
        "\n",
        "Veamos que tipo de predicciones estoy obteniendo sobre el conjunto de test (vamos a pintar las imagenes y sus clasificaciones)"
      ]
    },
    {
      "cell_type": "code",
      "metadata": {
        "id": "PLoz02mgEAj0"
      },
      "source": [
        "predictions = model.predict(x_test_img)"
      ],
      "execution_count": 20,
      "outputs": []
    },
    {
      "cell_type": "markdown",
      "metadata": {
        "id": "Lpx-DsZvEAj0"
      },
      "source": [
        "Una de las ventajas de Python es que hay montones de funciones y código realizado por terceras personas. Aquí me he fusilado unas bonitas funciones (que he adaptado un poco a mis necesidades) para poder pintar las imagenes, su label (ground truth) y las clasificaciones que hemos realizado."
      ]
    },
    {
      "cell_type": "code",
      "metadata": {
        "id": "PXshk6eWEAj0"
      },
      "source": [
        "def plot_image(i, predictions_array, true_label, img):\n",
        "  predictions_array, true_label, img = predictions_array, true_label[i], img[i]\n",
        "  plt.grid(False)\n",
        "  plt.xticks([])\n",
        "  plt.yticks([])\n",
        "\n",
        "  plt.imshow(img, cmap=plt.cm.binary)\n",
        "\n",
        "  predicted_label = np.argmax(predictions_array)\n",
        "  if predicted_label == true_label:\n",
        "    color = 'blue'\n",
        "  else:\n",
        "    color = 'red'\n",
        "\n",
        "  plt.xlabel(\"{} {:2.0f}% ({})\".format(predicted_label,\n",
        "                                100*np.max(predictions_array),\n",
        "                                true_label[0]),\n",
        "                                color=color)\n",
        "\n",
        "def plot_value_array(i, predictions_array, true_label):\n",
        "  predictions_array, true_label = predictions_array, true_label[i]\n",
        "  plt.grid(False)\n",
        "  plt.xticks(range(10))\n",
        "  plt.yticks([])\n",
        "  thisplot = plt.bar(range(10), predictions_array, color=\"#777777\")\n",
        "  plt.ylim([0, 1])\n",
        "  predicted_label = np.argmax(predictions_array)\n",
        "\n",
        "  thisplot[predicted_label].set_color('red')\n",
        "  thisplot[true_label[0]].set_color('blue')"
      ],
      "execution_count": 21,
      "outputs": []
    },
    {
      "cell_type": "markdown",
      "metadata": {
        "id": "3jlp0uUXEAj1"
      },
      "source": [
        "Dibujamos las primeras imagenes, con las predicciones y sus valores reales (un total de 20 imagenes, para no abusar de vuestros laptops)\n",
        "\n",
        "Coloreamos las prediciones correctas en azul y los fallos en rojo. Aunque primero he impreso las etiquetas para que tengamos una referencia al grafico."
      ]
    },
    {
      "cell_type": "code",
      "metadata": {
        "colab": {
          "base_uri": "https://localhost:8080/",
          "height": 631
        },
        "id": "QVBtjzpaEAj2",
        "outputId": "64b71b89-f2fe-4e28-c299-8edc0e060055"
      },
      "source": [
        "i = 0\n",
        "for l in cifar10_labels:\n",
        "    print(i, l)\n",
        "    i += 1\n",
        "\n",
        "num_rows = 5\n",
        "num_cols = 4\n",
        "start = 650\n",
        "num_images = num_rows*num_cols\n",
        "plt.figure(figsize=(2*2*num_cols, 2*num_rows))\n",
        "for i in range(num_images):\n",
        "  plt.subplot(num_rows, 2*num_cols, 2*i+1)\n",
        "  plot_image(i+start, predictions[i+start], y_test_img, x_test_img)\n",
        "  plt.subplot(num_rows, 2*num_cols, 2*i+2)\n",
        "  plot_value_array(i+start, predictions[i+start], y_test_img)\n",
        "plt.tight_layout()\n",
        "plt.show()"
      ],
      "execution_count": 22,
      "outputs": [
        {
          "output_type": "stream",
          "text": [
            "0 airplane\n",
            "1 automobile\n",
            "2 bird\n",
            "3 cat\n",
            "4 deer\n",
            "5 dog\n",
            "6 frog\n",
            "7 horse\n",
            "8 ship\n",
            "9 truck\n"
          ],
          "name": "stdout"
        },
        {
          "output_type": "error",
          "ename": "IndexError",
          "evalue": "ignored",
          "traceback": [
            "\u001b[0;31m---------------------------------------------------------------------------\u001b[0m",
            "\u001b[0;31mIndexError\u001b[0m                                Traceback (most recent call last)",
            "\u001b[0;32m<ipython-input-22-6046944c4ccc>\u001b[0m in \u001b[0;36m<module>\u001b[0;34m()\u001b[0m\n\u001b[1;32m     11\u001b[0m \u001b[0;32mfor\u001b[0m \u001b[0mi\u001b[0m \u001b[0;32min\u001b[0m \u001b[0mrange\u001b[0m\u001b[0;34m(\u001b[0m\u001b[0mnum_images\u001b[0m\u001b[0;34m)\u001b[0m\u001b[0;34m:\u001b[0m\u001b[0;34m\u001b[0m\u001b[0;34m\u001b[0m\u001b[0m\n\u001b[1;32m     12\u001b[0m   \u001b[0mplt\u001b[0m\u001b[0;34m.\u001b[0m\u001b[0msubplot\u001b[0m\u001b[0;34m(\u001b[0m\u001b[0mnum_rows\u001b[0m\u001b[0;34m,\u001b[0m \u001b[0;36m2\u001b[0m\u001b[0;34m*\u001b[0m\u001b[0mnum_cols\u001b[0m\u001b[0;34m,\u001b[0m \u001b[0;36m2\u001b[0m\u001b[0;34m*\u001b[0m\u001b[0mi\u001b[0m\u001b[0;34m+\u001b[0m\u001b[0;36m1\u001b[0m\u001b[0;34m)\u001b[0m\u001b[0;34m\u001b[0m\u001b[0;34m\u001b[0m\u001b[0m\n\u001b[0;32m---> 13\u001b[0;31m   \u001b[0mplot_image\u001b[0m\u001b[0;34m(\u001b[0m\u001b[0mi\u001b[0m\u001b[0;34m+\u001b[0m\u001b[0mstart\u001b[0m\u001b[0;34m,\u001b[0m \u001b[0mpredictions\u001b[0m\u001b[0;34m[\u001b[0m\u001b[0mi\u001b[0m\u001b[0;34m+\u001b[0m\u001b[0mstart\u001b[0m\u001b[0;34m]\u001b[0m\u001b[0;34m,\u001b[0m \u001b[0my_test_img\u001b[0m\u001b[0;34m,\u001b[0m \u001b[0mx_test_img\u001b[0m\u001b[0;34m)\u001b[0m\u001b[0;34m\u001b[0m\u001b[0;34m\u001b[0m\u001b[0m\n\u001b[0m\u001b[1;32m     14\u001b[0m   \u001b[0mplt\u001b[0m\u001b[0;34m.\u001b[0m\u001b[0msubplot\u001b[0m\u001b[0;34m(\u001b[0m\u001b[0mnum_rows\u001b[0m\u001b[0;34m,\u001b[0m \u001b[0;36m2\u001b[0m\u001b[0;34m*\u001b[0m\u001b[0mnum_cols\u001b[0m\u001b[0;34m,\u001b[0m \u001b[0;36m2\u001b[0m\u001b[0;34m*\u001b[0m\u001b[0mi\u001b[0m\u001b[0;34m+\u001b[0m\u001b[0;36m2\u001b[0m\u001b[0;34m)\u001b[0m\u001b[0;34m\u001b[0m\u001b[0;34m\u001b[0m\u001b[0m\n\u001b[1;32m     15\u001b[0m   \u001b[0mplot_value_array\u001b[0m\u001b[0;34m(\u001b[0m\u001b[0mi\u001b[0m\u001b[0;34m+\u001b[0m\u001b[0mstart\u001b[0m\u001b[0;34m,\u001b[0m \u001b[0mpredictions\u001b[0m\u001b[0;34m[\u001b[0m\u001b[0mi\u001b[0m\u001b[0;34m+\u001b[0m\u001b[0mstart\u001b[0m\u001b[0;34m]\u001b[0m\u001b[0;34m,\u001b[0m \u001b[0my_test_img\u001b[0m\u001b[0;34m)\u001b[0m\u001b[0;34m\u001b[0m\u001b[0;34m\u001b[0m\u001b[0m\n",
            "\u001b[0;32m<ipython-input-21-ecc912323b35>\u001b[0m in \u001b[0;36mplot_image\u001b[0;34m(i, predictions_array, true_label, img)\u001b[0m\n\u001b[1;32m     15\u001b[0m   plt.xlabel(\"{} {:2.0f}% ({})\".format(predicted_label,\n\u001b[1;32m     16\u001b[0m                                 \u001b[0;36m100\u001b[0m\u001b[0;34m*\u001b[0m\u001b[0mnp\u001b[0m\u001b[0;34m.\u001b[0m\u001b[0mmax\u001b[0m\u001b[0;34m(\u001b[0m\u001b[0mpredictions_array\u001b[0m\u001b[0;34m)\u001b[0m\u001b[0;34m,\u001b[0m\u001b[0;34m\u001b[0m\u001b[0;34m\u001b[0m\u001b[0m\n\u001b[0;32m---> 17\u001b[0;31m                                 true_label[0]),\n\u001b[0m\u001b[1;32m     18\u001b[0m                                 color=color)\n\u001b[1;32m     19\u001b[0m \u001b[0;34m\u001b[0m\u001b[0m\n",
            "\u001b[0;31mIndexError\u001b[0m: invalid index to scalar variable."
          ]
        },
        {
          "output_type": "display_data",
          "data": {
            "image/png": "[encoded data removed]",
            "text/plain": [
              "<Figure size 1152x720 with 1 Axes>"
            ]
          },
          "metadata": {
            "tags": []
          }
        }
      ]
    },
    {
      "cell_type": "code",
      "metadata": {
        "id": "6GyCLXC4EAj2"
      },
      "source": [
        ""
      ],
      "execution_count": null,
      "outputs": []
    },
    {
      "cell_type": "code",
      "metadata": {
        "id": "fhw3q0O5EAj3"
      },
      "source": [
        ""
      ],
      "execution_count": null,
      "outputs": []
    }
  ]
}