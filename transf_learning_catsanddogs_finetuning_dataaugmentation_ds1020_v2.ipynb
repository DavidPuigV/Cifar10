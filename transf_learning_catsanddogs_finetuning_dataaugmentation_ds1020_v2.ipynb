{
  "nbformat": 4,
  "nbformat_minor": 0,
  "metadata": {
    "accelerator": "GPU",
    "colab": {
      "name": "transf_learning_catsanddogs_finetuning_ds1020_v2.ipynb",
      "provenance": []
    },
    "kernelspec": {
      "display_name": "Python 3",
      "language": "python",
      "name": "python3"
    },
    "language_info": {
      "codemirror_mode": {
        "name": "ipython",
        "version": 3
      },
      "file_extension": ".py",
      "mimetype": "text/x-python",
      "name": "python",
      "nbconvert_exporter": "python",
      "pygments_lexer": "ipython3",
      "version": "3.7.4"
    }
  },
  "cells": [
    {
      "cell_type": "markdown",
      "metadata": {
        "id": "WrS_ZVRj4Hrb"
      },
      "source": [
        "![Nuclio logo](https://nuclio.school/wp-content/uploads/2018/12/nucleoDS-newBlack.png)\r\n",
        "\r\n",
        "#Transfer Learning con la técnica de Fine Tuning"
      ]
    },
    {
      "cell_type": "markdown",
      "metadata": {
        "id": "XsWCs2GtMPAw"
      },
      "source": [
        "# Connectar a Drive"
      ]
    },
    {
      "cell_type": "code",
      "metadata": {
        "id": "E6Jk6GTVMDW_",
        "outputId": "1b567ee8-3319-43d3-f957-e17aef00ec11",
        "colab": {
          "base_uri": "https://localhost:8080/"
        }
      },
      "source": [
        "from google.colab import drive\n",
        "drive.mount('/content/drive')"
      ],
      "execution_count": 1,
      "outputs": [
        {
          "output_type": "stream",
          "text": [
            "Drive already mounted at /content/drive; to attempt to forcibly remount, call drive.mount(\"/content/drive\", force_remount=True).\n"
          ],
          "name": "stdout"
        }
      ]
    },
    {
      "cell_type": "markdown",
      "metadata": {
        "id": "N5FTXWKIM1Dx"
      },
      "source": [
        "# Librerias"
      ]
    },
    {
      "cell_type": "code",
      "metadata": {
        "id": "7YO-qvTSM3kX"
      },
      "source": [
        "from tensorflow import keras as ks\n",
        "from tensorflow.keras.preprocessing.image import load_img\n",
        "from tensorflow.keras.callbacks import EarlyStopping\n",
        "from tensorflow.keras.regularizers import l2\n",
        "\n",
        "import numpy as np\n",
        "import pandas as pd\n",
        "import matplotlib.pyplot as plt\n",
        "import random\n",
        "import os\n",
        "\n",
        "from tensorflow.keras.applications import vgg16\n",
        "from tensorflow.keras.models import Model, load_model"
      ],
      "execution_count": 2,
      "outputs": []
    },
    {
      "cell_type": "markdown",
      "metadata": {
        "id": "IuGCNtaSOEPV"
      },
      "source": [
        "# Variables de entorno\n",
        "\n",
        "<font color=\"#FF0000\">Aquí definireis vuestra ruta del proyecto de perros y Gatos</font>"
      ]
    },
    {
      "cell_type": "code",
      "metadata": {
        "id": "7K7GC8BQOHV9"
      },
      "source": [
        "ANCHO_IMAGEN = 150\n",
        "ALTURA_IMAGEN=150\n",
        "IMAGE_SIZE = (ANCHO_IMAGEN, ALTURA_IMAGEN)\n",
        "CANALES_IMAGENES = 3\n",
        "\n",
        "ruta_archivos = '/content/drive/My Drive/Nuclio_DS_Master/Dogs-vs-cats/'"
      ],
      "execution_count": 3,
      "outputs": []
    },
    {
      "cell_type": "markdown",
      "metadata": {
        "id": "CavLXOtgOTyb"
      },
      "source": [
        "# Cargaremos datos en NPZ\n"
      ]
    },
    {
      "cell_type": "code",
      "metadata": {
        "id": "dzVhzbmqOZ7i"
      },
      "source": [
        "dict_npz = np.load(ruta_archivos+'xy_train_img.npz')\n",
        "x_train_img = dict_npz['x']\n",
        "y_train_img = dict_npz['y']\n",
        "\n",
        "dict_npz = np.load(ruta_archivos+'xy_test_img.npz')\n",
        "x_test_img = dict_npz['x']\n",
        "y_test_img = dict_npz['y']\n",
        "\n",
        "dict_npz = np.load(ruta_archivos+'xy_val_img.npz')\n",
        "x_val_img = dict_npz['x']\n",
        "y_val_img = dict_npz['y']"
      ],
      "execution_count": 4,
      "outputs": []
    },
    {
      "cell_type": "code",
      "metadata": {
        "id": "VsjYQW0OPCFL"
      },
      "source": [
        "x_train_scaled = x_train_img / 255.\n",
        "x_test_scaled = x_test_img / 255.\n",
        "x_val_scaled = x_val_img / 255."
      ],
      "execution_count": 5,
      "outputs": []
    },
    {
      "cell_type": "markdown",
      "metadata": {
        "id": "WF_SnUJNPtZ5"
      },
      "source": [
        "# Montamos la Red Neuronal\n",
        "\n",
        "## Cargar la parte de extraccion de features de VGG16"
      ]
    },
    {
      "cell_type": "code",
      "metadata": {
        "id": "sBi8HNOBP1V2"
      },
      "source": [
        "vgg = vgg16.VGG16(include_top=False, weights='imagenet', input_shape=(ANCHO_IMAGEN, ALTURA_IMAGEN, CANALES_IMAGENES))"
      ],
      "execution_count": 6,
      "outputs": []
    },
    {
      "cell_type": "code",
      "metadata": {
        "id": "FMTMdgQ9QvfS",
        "outputId": "69cbfcb4-02a9-46b2-9616-4ca27e15af0d",
        "colab": {
          "base_uri": "https://localhost:8080/"
        }
      },
      "source": [
        "vgg.summary()"
      ],
      "execution_count": 7,
      "outputs": [
        {
          "output_type": "stream",
          "text": [
            "Model: \"vgg16\"\n",
            "_________________________________________________________________\n",
            "Layer (type)                 Output Shape              Param #   \n",
            "=================================================================\n",
            "input_1 (InputLayer)         [(None, 150, 150, 3)]     0         \n",
            "_________________________________________________________________\n",
            "block1_conv1 (Conv2D)        (None, 150, 150, 64)      1792      \n",
            "_________________________________________________________________\n",
            "block1_conv2 (Conv2D)        (None, 150, 150, 64)      36928     \n",
            "_________________________________________________________________\n",
            "block1_pool (MaxPooling2D)   (None, 75, 75, 64)        0         \n",
            "_________________________________________________________________\n",
            "block2_conv1 (Conv2D)        (None, 75, 75, 128)       73856     \n",
            "_________________________________________________________________\n",
            "block2_conv2 (Conv2D)        (None, 75, 75, 128)       147584    \n",
            "_________________________________________________________________\n",
            "block2_pool (MaxPooling2D)   (None, 37, 37, 128)       0         \n",
            "_________________________________________________________________\n",
            "block3_conv1 (Conv2D)        (None, 37, 37, 256)       295168    \n",
            "_________________________________________________________________\n",
            "block3_conv2 (Conv2D)        (None, 37, 37, 256)       590080    \n",
            "_________________________________________________________________\n",
            "block3_conv3 (Conv2D)        (None, 37, 37, 256)       590080    \n",
            "_________________________________________________________________\n",
            "block3_pool (MaxPooling2D)   (None, 18, 18, 256)       0         \n",
            "_________________________________________________________________\n",
            "block4_conv1 (Conv2D)        (None, 18, 18, 512)       1180160   \n",
            "_________________________________________________________________\n",
            "block4_conv2 (Conv2D)        (None, 18, 18, 512)       2359808   \n",
            "_________________________________________________________________\n",
            "block4_conv3 (Conv2D)        (None, 18, 18, 512)       2359808   \n",
            "_________________________________________________________________\n",
            "block4_pool (MaxPooling2D)   (None, 9, 9, 512)         0         \n",
            "_________________________________________________________________\n",
            "block5_conv1 (Conv2D)        (None, 9, 9, 512)         2359808   \n",
            "_________________________________________________________________\n",
            "block5_conv2 (Conv2D)        (None, 9, 9, 512)         2359808   \n",
            "_________________________________________________________________\n",
            "block5_conv3 (Conv2D)        (None, 9, 9, 512)         2359808   \n",
            "_________________________________________________________________\n",
            "block5_pool (MaxPooling2D)   (None, 4, 4, 512)         0         \n",
            "=================================================================\n",
            "Total params: 14,714,688\n",
            "Trainable params: 14,714,688\n",
            "Non-trainable params: 0\n",
            "_________________________________________________________________\n"
          ],
          "name": "stdout"
        }
      ]
    },
    {
      "cell_type": "code",
      "metadata": {
        "id": "jm6mjIf8RD6z"
      },
      "source": [
        "output = vgg.layers[-1].output\n",
        "new_output_layer = ks.layers.Flatten()(output)\n",
        "vgg_model = Model(vgg.input, new_output_layer)"
      ],
      "execution_count": 8,
      "outputs": []
    },
    {
      "cell_type": "code",
      "metadata": {
        "id": "WYrm_LhjR3e_",
        "outputId": "e8c86c71-a98b-49b2-c70d-b236549041e0",
        "colab": {
          "base_uri": "https://localhost:8080/"
        }
      },
      "source": [
        "vgg_model.summary()"
      ],
      "execution_count": 9,
      "outputs": [
        {
          "output_type": "stream",
          "text": [
            "Model: \"model\"\n",
            "_________________________________________________________________\n",
            "Layer (type)                 Output Shape              Param #   \n",
            "=================================================================\n",
            "input_1 (InputLayer)         [(None, 150, 150, 3)]     0         \n",
            "_________________________________________________________________\n",
            "block1_conv1 (Conv2D)        (None, 150, 150, 64)      1792      \n",
            "_________________________________________________________________\n",
            "block1_conv2 (Conv2D)        (None, 150, 150, 64)      36928     \n",
            "_________________________________________________________________\n",
            "block1_pool (MaxPooling2D)   (None, 75, 75, 64)        0         \n",
            "_________________________________________________________________\n",
            "block2_conv1 (Conv2D)        (None, 75, 75, 128)       73856     \n",
            "_________________________________________________________________\n",
            "block2_conv2 (Conv2D)        (None, 75, 75, 128)       147584    \n",
            "_________________________________________________________________\n",
            "block2_pool (MaxPooling2D)   (None, 37, 37, 128)       0         \n",
            "_________________________________________________________________\n",
            "block3_conv1 (Conv2D)        (None, 37, 37, 256)       295168    \n",
            "_________________________________________________________________\n",
            "block3_conv2 (Conv2D)        (None, 37, 37, 256)       590080    \n",
            "_________________________________________________________________\n",
            "block3_conv3 (Conv2D)        (None, 37, 37, 256)       590080    \n",
            "_________________________________________________________________\n",
            "block3_pool (MaxPooling2D)   (None, 18, 18, 256)       0         \n",
            "_________________________________________________________________\n",
            "block4_conv1 (Conv2D)        (None, 18, 18, 512)       1180160   \n",
            "_________________________________________________________________\n",
            "block4_conv2 (Conv2D)        (None, 18, 18, 512)       2359808   \n",
            "_________________________________________________________________\n",
            "block4_conv3 (Conv2D)        (None, 18, 18, 512)       2359808   \n",
            "_________________________________________________________________\n",
            "block4_pool (MaxPooling2D)   (None, 9, 9, 512)         0         \n",
            "_________________________________________________________________\n",
            "block5_conv1 (Conv2D)        (None, 9, 9, 512)         2359808   \n",
            "_________________________________________________________________\n",
            "block5_conv2 (Conv2D)        (None, 9, 9, 512)         2359808   \n",
            "_________________________________________________________________\n",
            "block5_conv3 (Conv2D)        (None, 9, 9, 512)         2359808   \n",
            "_________________________________________________________________\n",
            "block5_pool (MaxPooling2D)   (None, 4, 4, 512)         0         \n",
            "_________________________________________________________________\n",
            "flatten (Flatten)            (None, 8192)              0         \n",
            "=================================================================\n",
            "Total params: 14,714,688\n",
            "Trainable params: 14,714,688\n",
            "Non-trainable params: 0\n",
            "_________________________________________________________________\n"
          ],
          "name": "stdout"
        }
      ]
    },
    {
      "cell_type": "code",
      "metadata": {
        "id": "qmSzCmK1SK7c"
      },
      "source": [
        "vgg_model.trainable = True #Abrimos la opción a que se puedan modificar pesos del modelo\n",
        "\n",
        "for layer in vgg_model.layers:\n",
        "  layer.trainable = False"
      ],
      "execution_count": 10,
      "outputs": []
    },
    {
      "cell_type": "code",
      "metadata": {
        "id": "1Xr76uANSfx7",
        "outputId": "a575d259-489f-4b92-f1a5-e9fb59b1d404",
        "colab": {
          "base_uri": "https://localhost:8080/",
          "height": 639
        }
      },
      "source": [
        "pd.set_option('max_colwidth', None)\n",
        "layers = [(layer, layer.name, layer.trainable) for layer in vgg_model.layers]\n",
        "pd.DataFrame(layers, columns=['Layer Type', 'Layer Name', 'Layer Trainable'])"
      ],
      "execution_count": 11,
      "outputs": [
        {
          "output_type": "execute_result",
          "data": {
            "text/html": [
              "<div>\n",
              "<style scoped>\n",
              "    .dataframe tbody tr th:only-of-type {\n",
              "        vertical-align: middle;\n",
              "    }\n",
              "\n",
              "    .dataframe tbody tr th {\n",
              "        vertical-align: top;\n",
              "    }\n",
              "\n",
              "    .dataframe thead th {\n",
              "        text-align: right;\n",
              "    }\n",
              "</style>\n",
              "<table border=\"1\" class=\"dataframe\">\n",
              "  <thead>\n",
              "    <tr style=\"text-align: right;\">\n",
              "      <th></th>\n",
              "      <th>Layer Type</th>\n",
              "      <th>Layer Name</th>\n",
              "      <th>Layer Trainable</th>\n",
              "    </tr>\n",
              "  </thead>\n",
              "  <tbody>\n",
              "    <tr>\n",
              "      <th>0</th>\n",
              "      <td>&lt;tensorflow.python.keras.engine.input_layer.InputLayer object at 0x7fe2711380b8&gt;</td>\n",
              "      <td>input_1</td>\n",
              "      <td>False</td>\n",
              "    </tr>\n",
              "    <tr>\n",
              "      <th>1</th>\n",
              "      <td>&lt;tensorflow.python.keras.layers.convolutional.Conv2D object at 0x7fe271139048&gt;</td>\n",
              "      <td>block1_conv1</td>\n",
              "      <td>False</td>\n",
              "    </tr>\n",
              "    <tr>\n",
              "      <th>2</th>\n",
              "      <td>&lt;tensorflow.python.keras.layers.convolutional.Conv2D object at 0x7fe23758c978&gt;</td>\n",
              "      <td>block1_conv2</td>\n",
              "      <td>False</td>\n",
              "    </tr>\n",
              "    <tr>\n",
              "      <th>3</th>\n",
              "      <td>&lt;tensorflow.python.keras.layers.pooling.MaxPooling2D object at 0x7fe2375e6128&gt;</td>\n",
              "      <td>block1_pool</td>\n",
              "      <td>False</td>\n",
              "    </tr>\n",
              "    <tr>\n",
              "      <th>4</th>\n",
              "      <td>&lt;tensorflow.python.keras.layers.convolutional.Conv2D object at 0x7fe2375b7d68&gt;</td>\n",
              "      <td>block2_conv1</td>\n",
              "      <td>False</td>\n",
              "    </tr>\n",
              "    <tr>\n",
              "      <th>5</th>\n",
              "      <td>&lt;tensorflow.python.keras.layers.convolutional.Conv2D object at 0x7fe2375e3208&gt;</td>\n",
              "      <td>block2_conv2</td>\n",
              "      <td>False</td>\n",
              "    </tr>\n",
              "    <tr>\n",
              "      <th>6</th>\n",
              "      <td>&lt;tensorflow.python.keras.layers.pooling.MaxPooling2D object at 0x7fe23762a550&gt;</td>\n",
              "      <td>block2_pool</td>\n",
              "      <td>False</td>\n",
              "    </tr>\n",
              "    <tr>\n",
              "      <th>7</th>\n",
              "      <td>&lt;tensorflow.python.keras.layers.convolutional.Conv2D object at 0x7fe23e4edfd0&gt;</td>\n",
              "      <td>block3_conv1</td>\n",
              "      <td>False</td>\n",
              "    </tr>\n",
              "    <tr>\n",
              "      <th>8</th>\n",
              "      <td>&lt;tensorflow.python.keras.layers.convolutional.Conv2D object at 0x7fe23e4e0be0&gt;</td>\n",
              "      <td>block3_conv2</td>\n",
              "      <td>False</td>\n",
              "    </tr>\n",
              "    <tr>\n",
              "      <th>9</th>\n",
              "      <td>&lt;tensorflow.python.keras.layers.convolutional.Conv2D object at 0x7fe23762a978&gt;</td>\n",
              "      <td>block3_conv3</td>\n",
              "      <td>False</td>\n",
              "    </tr>\n",
              "    <tr>\n",
              "      <th>10</th>\n",
              "      <td>&lt;tensorflow.python.keras.layers.pooling.MaxPooling2D object at 0x7fe2375e7828&gt;</td>\n",
              "      <td>block3_pool</td>\n",
              "      <td>False</td>\n",
              "    </tr>\n",
              "    <tr>\n",
              "      <th>11</th>\n",
              "      <td>&lt;tensorflow.python.keras.layers.convolutional.Conv2D object at 0x7fe2711cfcc0&gt;</td>\n",
              "      <td>block4_conv1</td>\n",
              "      <td>False</td>\n",
              "    </tr>\n",
              "    <tr>\n",
              "      <th>12</th>\n",
              "      <td>&lt;tensorflow.python.keras.layers.convolutional.Conv2D object at 0x7fe27113b518&gt;</td>\n",
              "      <td>block4_conv2</td>\n",
              "      <td>False</td>\n",
              "    </tr>\n",
              "    <tr>\n",
              "      <th>13</th>\n",
              "      <td>&lt;tensorflow.python.keras.layers.convolutional.Conv2D object at 0x7fe2708bc630&gt;</td>\n",
              "      <td>block4_conv3</td>\n",
              "      <td>False</td>\n",
              "    </tr>\n",
              "    <tr>\n",
              "      <th>14</th>\n",
              "      <td>&lt;tensorflow.python.keras.layers.pooling.MaxPooling2D object at 0x7fe23749deb8&gt;</td>\n",
              "      <td>block4_pool</td>\n",
              "      <td>False</td>\n",
              "    </tr>\n",
              "    <tr>\n",
              "      <th>15</th>\n",
              "      <td>&lt;tensorflow.python.keras.layers.convolutional.Conv2D object at 0x7fe237534a90&gt;</td>\n",
              "      <td>block5_conv1</td>\n",
              "      <td>False</td>\n",
              "    </tr>\n",
              "    <tr>\n",
              "      <th>16</th>\n",
              "      <td>&lt;tensorflow.python.keras.layers.convolutional.Conv2D object at 0x7fe23e4da860&gt;</td>\n",
              "      <td>block5_conv2</td>\n",
              "      <td>False</td>\n",
              "    </tr>\n",
              "    <tr>\n",
              "      <th>17</th>\n",
              "      <td>&lt;tensorflow.python.keras.layers.convolutional.Conv2D object at 0x7fe2204acfd0&gt;</td>\n",
              "      <td>block5_conv3</td>\n",
              "      <td>False</td>\n",
              "    </tr>\n",
              "    <tr>\n",
              "      <th>18</th>\n",
              "      <td>&lt;tensorflow.python.keras.layers.pooling.MaxPooling2D object at 0x7fe2204b47f0&gt;</td>\n",
              "      <td>block5_pool</td>\n",
              "      <td>False</td>\n",
              "    </tr>\n",
              "    <tr>\n",
              "      <th>19</th>\n",
              "      <td>&lt;tensorflow.python.keras.layers.core.Flatten object at 0x7fe2204baeb8&gt;</td>\n",
              "      <td>flatten</td>\n",
              "      <td>False</td>\n",
              "    </tr>\n",
              "  </tbody>\n",
              "</table>\n",
              "</div>"
            ],
            "text/plain": [
              "                                                                          Layer Type  ... Layer Trainable\n",
              "0   <tensorflow.python.keras.engine.input_layer.InputLayer object at 0x7fe2711380b8>  ...           False\n",
              "1     <tensorflow.python.keras.layers.convolutional.Conv2D object at 0x7fe271139048>  ...           False\n",
              "2     <tensorflow.python.keras.layers.convolutional.Conv2D object at 0x7fe23758c978>  ...           False\n",
              "3     <tensorflow.python.keras.layers.pooling.MaxPooling2D object at 0x7fe2375e6128>  ...           False\n",
              "4     <tensorflow.python.keras.layers.convolutional.Conv2D object at 0x7fe2375b7d68>  ...           False\n",
              "5     <tensorflow.python.keras.layers.convolutional.Conv2D object at 0x7fe2375e3208>  ...           False\n",
              "6     <tensorflow.python.keras.layers.pooling.MaxPooling2D object at 0x7fe23762a550>  ...           False\n",
              "7     <tensorflow.python.keras.layers.convolutional.Conv2D object at 0x7fe23e4edfd0>  ...           False\n",
              "8     <tensorflow.python.keras.layers.convolutional.Conv2D object at 0x7fe23e4e0be0>  ...           False\n",
              "9     <tensorflow.python.keras.layers.convolutional.Conv2D object at 0x7fe23762a978>  ...           False\n",
              "10    <tensorflow.python.keras.layers.pooling.MaxPooling2D object at 0x7fe2375e7828>  ...           False\n",
              "11    <tensorflow.python.keras.layers.convolutional.Conv2D object at 0x7fe2711cfcc0>  ...           False\n",
              "12    <tensorflow.python.keras.layers.convolutional.Conv2D object at 0x7fe27113b518>  ...           False\n",
              "13    <tensorflow.python.keras.layers.convolutional.Conv2D object at 0x7fe2708bc630>  ...           False\n",
              "14    <tensorflow.python.keras.layers.pooling.MaxPooling2D object at 0x7fe23749deb8>  ...           False\n",
              "15    <tensorflow.python.keras.layers.convolutional.Conv2D object at 0x7fe237534a90>  ...           False\n",
              "16    <tensorflow.python.keras.layers.convolutional.Conv2D object at 0x7fe23e4da860>  ...           False\n",
              "17    <tensorflow.python.keras.layers.convolutional.Conv2D object at 0x7fe2204acfd0>  ...           False\n",
              "18    <tensorflow.python.keras.layers.pooling.MaxPooling2D object at 0x7fe2204b47f0>  ...           False\n",
              "19            <tensorflow.python.keras.layers.core.Flatten object at 0x7fe2204baeb8>  ...           False\n",
              "\n",
              "[20 rows x 3 columns]"
            ]
          },
          "metadata": {
            "tags": []
          },
          "execution_count": 11
        }
      ]
    },
    {
      "cell_type": "code",
      "metadata": {
        "id": "X5S7NQ7DdjYy"
      },
      "source": [
        "entrenable = False\n",
        "\n",
        "for layer in vgg_model.layers:\n",
        "  if layer.name in ['block5_conv1','block4_conv1']:\n",
        "    entrenable = True\n",
        "  if entrenable:\n",
        "    layer.trainable = True\n",
        "  else: \n",
        "    layer.trainable = False"
      ],
      "execution_count": 12,
      "outputs": []
    },
    {
      "cell_type": "code",
      "metadata": {
        "id": "AxUEpcXWeCEg",
        "outputId": "9bdca66c-cb2d-497a-b297-991fce3942b4",
        "colab": {
          "base_uri": "https://localhost:8080/",
          "height": 639
        }
      },
      "source": [
        "pd.set_option('max_colwidth', None)\n",
        "layers = [(layer, layer.name, layer.trainable) for layer in vgg_model.layers]\n",
        "pd.DataFrame(layers, columns=['Layer Type', 'Layer Name', 'Layer Trainable'])"
      ],
      "execution_count": 13,
      "outputs": [
        {
          "output_type": "execute_result",
          "data": {
            "text/html": [
              "<div>\n",
              "<style scoped>\n",
              "    .dataframe tbody tr th:only-of-type {\n",
              "        vertical-align: middle;\n",
              "    }\n",
              "\n",
              "    .dataframe tbody tr th {\n",
              "        vertical-align: top;\n",
              "    }\n",
              "\n",
              "    .dataframe thead th {\n",
              "        text-align: right;\n",
              "    }\n",
              "</style>\n",
              "<table border=\"1\" class=\"dataframe\">\n",
              "  <thead>\n",
              "    <tr style=\"text-align: right;\">\n",
              "      <th></th>\n",
              "      <th>Layer Type</th>\n",
              "      <th>Layer Name</th>\n",
              "      <th>Layer Trainable</th>\n",
              "    </tr>\n",
              "  </thead>\n",
              "  <tbody>\n",
              "    <tr>\n",
              "      <th>0</th>\n",
              "      <td>&lt;tensorflow.python.keras.engine.input_layer.InputLayer object at 0x7fe2711380b8&gt;</td>\n",
              "      <td>input_1</td>\n",
              "      <td>False</td>\n",
              "    </tr>\n",
              "    <tr>\n",
              "      <th>1</th>\n",
              "      <td>&lt;tensorflow.python.keras.layers.convolutional.Conv2D object at 0x7fe271139048&gt;</td>\n",
              "      <td>block1_conv1</td>\n",
              "      <td>False</td>\n",
              "    </tr>\n",
              "    <tr>\n",
              "      <th>2</th>\n",
              "      <td>&lt;tensorflow.python.keras.layers.convolutional.Conv2D object at 0x7fe23758c978&gt;</td>\n",
              "      <td>block1_conv2</td>\n",
              "      <td>False</td>\n",
              "    </tr>\n",
              "    <tr>\n",
              "      <th>3</th>\n",
              "      <td>&lt;tensorflow.python.keras.layers.pooling.MaxPooling2D object at 0x7fe2375e6128&gt;</td>\n",
              "      <td>block1_pool</td>\n",
              "      <td>False</td>\n",
              "    </tr>\n",
              "    <tr>\n",
              "      <th>4</th>\n",
              "      <td>&lt;tensorflow.python.keras.layers.convolutional.Conv2D object at 0x7fe2375b7d68&gt;</td>\n",
              "      <td>block2_conv1</td>\n",
              "      <td>False</td>\n",
              "    </tr>\n",
              "    <tr>\n",
              "      <th>5</th>\n",
              "      <td>&lt;tensorflow.python.keras.layers.convolutional.Conv2D object at 0x7fe2375e3208&gt;</td>\n",
              "      <td>block2_conv2</td>\n",
              "      <td>False</td>\n",
              "    </tr>\n",
              "    <tr>\n",
              "      <th>6</th>\n",
              "      <td>&lt;tensorflow.python.keras.layers.pooling.MaxPooling2D object at 0x7fe23762a550&gt;</td>\n",
              "      <td>block2_pool</td>\n",
              "      <td>False</td>\n",
              "    </tr>\n",
              "    <tr>\n",
              "      <th>7</th>\n",
              "      <td>&lt;tensorflow.python.keras.layers.convolutional.Conv2D object at 0x7fe23e4edfd0&gt;</td>\n",
              "      <td>block3_conv1</td>\n",
              "      <td>False</td>\n",
              "    </tr>\n",
              "    <tr>\n",
              "      <th>8</th>\n",
              "      <td>&lt;tensorflow.python.keras.layers.convolutional.Conv2D object at 0x7fe23e4e0be0&gt;</td>\n",
              "      <td>block3_conv2</td>\n",
              "      <td>False</td>\n",
              "    </tr>\n",
              "    <tr>\n",
              "      <th>9</th>\n",
              "      <td>&lt;tensorflow.python.keras.layers.convolutional.Conv2D object at 0x7fe23762a978&gt;</td>\n",
              "      <td>block3_conv3</td>\n",
              "      <td>False</td>\n",
              "    </tr>\n",
              "    <tr>\n",
              "      <th>10</th>\n",
              "      <td>&lt;tensorflow.python.keras.layers.pooling.MaxPooling2D object at 0x7fe2375e7828&gt;</td>\n",
              "      <td>block3_pool</td>\n",
              "      <td>False</td>\n",
              "    </tr>\n",
              "    <tr>\n",
              "      <th>11</th>\n",
              "      <td>&lt;tensorflow.python.keras.layers.convolutional.Conv2D object at 0x7fe2711cfcc0&gt;</td>\n",
              "      <td>block4_conv1</td>\n",
              "      <td>True</td>\n",
              "    </tr>\n",
              "    <tr>\n",
              "      <th>12</th>\n",
              "      <td>&lt;tensorflow.python.keras.layers.convolutional.Conv2D object at 0x7fe27113b518&gt;</td>\n",
              "      <td>block4_conv2</td>\n",
              "      <td>True</td>\n",
              "    </tr>\n",
              "    <tr>\n",
              "      <th>13</th>\n",
              "      <td>&lt;tensorflow.python.keras.layers.convolutional.Conv2D object at 0x7fe2708bc630&gt;</td>\n",
              "      <td>block4_conv3</td>\n",
              "      <td>True</td>\n",
              "    </tr>\n",
              "    <tr>\n",
              "      <th>14</th>\n",
              "      <td>&lt;tensorflow.python.keras.layers.pooling.MaxPooling2D object at 0x7fe23749deb8&gt;</td>\n",
              "      <td>block4_pool</td>\n",
              "      <td>True</td>\n",
              "    </tr>\n",
              "    <tr>\n",
              "      <th>15</th>\n",
              "      <td>&lt;tensorflow.python.keras.layers.convolutional.Conv2D object at 0x7fe237534a90&gt;</td>\n",
              "      <td>block5_conv1</td>\n",
              "      <td>True</td>\n",
              "    </tr>\n",
              "    <tr>\n",
              "      <th>16</th>\n",
              "      <td>&lt;tensorflow.python.keras.layers.convolutional.Conv2D object at 0x7fe23e4da860&gt;</td>\n",
              "      <td>block5_conv2</td>\n",
              "      <td>True</td>\n",
              "    </tr>\n",
              "    <tr>\n",
              "      <th>17</th>\n",
              "      <td>&lt;tensorflow.python.keras.layers.convolutional.Conv2D object at 0x7fe2204acfd0&gt;</td>\n",
              "      <td>block5_conv3</td>\n",
              "      <td>True</td>\n",
              "    </tr>\n",
              "    <tr>\n",
              "      <th>18</th>\n",
              "      <td>&lt;tensorflow.python.keras.layers.pooling.MaxPooling2D object at 0x7fe2204b47f0&gt;</td>\n",
              "      <td>block5_pool</td>\n",
              "      <td>True</td>\n",
              "    </tr>\n",
              "    <tr>\n",
              "      <th>19</th>\n",
              "      <td>&lt;tensorflow.python.keras.layers.core.Flatten object at 0x7fe2204baeb8&gt;</td>\n",
              "      <td>flatten</td>\n",
              "      <td>True</td>\n",
              "    </tr>\n",
              "  </tbody>\n",
              "</table>\n",
              "</div>"
            ],
            "text/plain": [
              "                                                                          Layer Type  ... Layer Trainable\n",
              "0   <tensorflow.python.keras.engine.input_layer.InputLayer object at 0x7fe2711380b8>  ...           False\n",
              "1     <tensorflow.python.keras.layers.convolutional.Conv2D object at 0x7fe271139048>  ...           False\n",
              "2     <tensorflow.python.keras.layers.convolutional.Conv2D object at 0x7fe23758c978>  ...           False\n",
              "3     <tensorflow.python.keras.layers.pooling.MaxPooling2D object at 0x7fe2375e6128>  ...           False\n",
              "4     <tensorflow.python.keras.layers.convolutional.Conv2D object at 0x7fe2375b7d68>  ...           False\n",
              "5     <tensorflow.python.keras.layers.convolutional.Conv2D object at 0x7fe2375e3208>  ...           False\n",
              "6     <tensorflow.python.keras.layers.pooling.MaxPooling2D object at 0x7fe23762a550>  ...           False\n",
              "7     <tensorflow.python.keras.layers.convolutional.Conv2D object at 0x7fe23e4edfd0>  ...           False\n",
              "8     <tensorflow.python.keras.layers.convolutional.Conv2D object at 0x7fe23e4e0be0>  ...           False\n",
              "9     <tensorflow.python.keras.layers.convolutional.Conv2D object at 0x7fe23762a978>  ...           False\n",
              "10    <tensorflow.python.keras.layers.pooling.MaxPooling2D object at 0x7fe2375e7828>  ...           False\n",
              "11    <tensorflow.python.keras.layers.convolutional.Conv2D object at 0x7fe2711cfcc0>  ...            True\n",
              "12    <tensorflow.python.keras.layers.convolutional.Conv2D object at 0x7fe27113b518>  ...            True\n",
              "13    <tensorflow.python.keras.layers.convolutional.Conv2D object at 0x7fe2708bc630>  ...            True\n",
              "14    <tensorflow.python.keras.layers.pooling.MaxPooling2D object at 0x7fe23749deb8>  ...            True\n",
              "15    <tensorflow.python.keras.layers.convolutional.Conv2D object at 0x7fe237534a90>  ...            True\n",
              "16    <tensorflow.python.keras.layers.convolutional.Conv2D object at 0x7fe23e4da860>  ...            True\n",
              "17    <tensorflow.python.keras.layers.convolutional.Conv2D object at 0x7fe2204acfd0>  ...            True\n",
              "18    <tensorflow.python.keras.layers.pooling.MaxPooling2D object at 0x7fe2204b47f0>  ...            True\n",
              "19            <tensorflow.python.keras.layers.core.Flatten object at 0x7fe2204baeb8>  ...            True\n",
              "\n",
              "[20 rows x 3 columns]"
            ]
          },
          "metadata": {
            "tags": []
          },
          "execution_count": 13
        }
      ]
    },
    {
      "cell_type": "markdown",
      "metadata": {
        "id": "xO4I17PxUVOS"
      },
      "source": [
        "# Montemos la red de VGG16 + Clasificación\n"
      ]
    },
    {
      "cell_type": "code",
      "metadata": {
        "id": "Ro2wPiG1UZX0",
        "outputId": "08dd2d51-fece-4590-905e-5fcf0c1efa1c",
        "colab": {
          "base_uri": "https://localhost:8080/"
        }
      },
      "source": [
        "input_shape = vgg_model.output_shape[1]\n",
        "\n",
        "print('Tamaño de entrada:', input_shape)"
      ],
      "execution_count": 14,
      "outputs": [
        {
          "output_type": "stream",
          "text": [
            "Tamaño de entrada: 8192\n"
          ],
          "name": "stdout"
        }
      ]
    },
    {
      "cell_type": "code",
      "metadata": {
        "id": "2qDwi_ELUwHg",
        "outputId": "406990c2-1b3e-4d12-f034-b6d3e30ee7ea",
        "colab": {
          "base_uri": "https://localhost:8080/"
        }
      },
      "source": [
        "model_with_vgg = ks.Sequential()\n",
        "\n",
        "model_with_vgg.add(vgg_model)\n",
        "model_with_vgg.add(ks.layers.Dense(512, activation='relu', input_shape=(input_shape,)))\n",
        "model_with_vgg.add(ks.layers.Dropout(0.3))\n",
        "model_with_vgg.add(ks.layers.Dense(512, activation='relu'))\n",
        "model_with_vgg.add(ks.layers.Dropout(0.3))\n",
        "model_with_vgg.add(ks.layers.Dense(1, activation='sigmoid'))\n",
        "\n",
        "model_with_vgg.summary()"
      ],
      "execution_count": 15,
      "outputs": [
        {
          "output_type": "stream",
          "text": [
            "Model: \"sequential\"\n",
            "_________________________________________________________________\n",
            "Layer (type)                 Output Shape              Param #   \n",
            "=================================================================\n",
            "model (Functional)           (None, 8192)              14714688  \n",
            "_________________________________________________________________\n",
            "dense (Dense)                (None, 512)               4194816   \n",
            "_________________________________________________________________\n",
            "dropout (Dropout)            (None, 512)               0         \n",
            "_________________________________________________________________\n",
            "dense_1 (Dense)              (None, 512)               262656    \n",
            "_________________________________________________________________\n",
            "dropout_1 (Dropout)          (None, 512)               0         \n",
            "_________________________________________________________________\n",
            "dense_2 (Dense)              (None, 1)                 513       \n",
            "=================================================================\n",
            "Total params: 19,172,673\n",
            "Trainable params: 17,437,185\n",
            "Non-trainable params: 1,735,488\n",
            "_________________________________________________________________\n"
          ],
          "name": "stdout"
        }
      ]
    },
    {
      "cell_type": "markdown",
      "metadata": {
        "id": "BgyjckmLWGV5"
      },
      "source": [
        "# Creamos un optimizador"
      ]
    },
    {
      "cell_type": "code",
      "metadata": {
        "id": "2D-G7bQ2WKZL"
      },
      "source": [
        "from tensorflow.keras.optimizers import Adam"
      ],
      "execution_count": 16,
      "outputs": []
    },
    {
      "cell_type": "code",
      "metadata": {
        "id": "_lv5_11kWaP0"
      },
      "source": [
        "new_adam = Adam(learning_rate=2e-5)\n"
      ],
      "execution_count": 17,
      "outputs": []
    },
    {
      "cell_type": "code",
      "metadata": {
        "id": "JGPweTyGWwiA"
      },
      "source": [
        "model_with_vgg.compile(loss='binary_crossentropy', optimizer=new_adam, metrics=['accuracy'])"
      ],
      "execution_count": 18,
      "outputs": []
    },
    {
      "cell_type": "markdown",
      "metadata": {
        "id": "3bFrHu2sXCQB"
      },
      "source": [
        "# Early stopping!!"
      ]
    },
    {
      "cell_type": "code",
      "metadata": {
        "id": "20hx0uQFXA08"
      },
      "source": [
        "callback = EarlyStopping(monitor='val_loss', patience=5)"
      ],
      "execution_count": 19,
      "outputs": []
    },
    {
      "cell_type": "markdown",
      "metadata": {
        "id": "XZKWdR2Na3Mm"
      },
      "source": [
        "# Encoding de etiquetas"
      ]
    },
    {
      "cell_type": "code",
      "metadata": {
        "id": "0xNzsi3Sa89O"
      },
      "source": [
        "from sklearn.preprocessing import LabelEncoder\n",
        "\n",
        "le = LabelEncoder()\n",
        "le.fit(y_train_img)\n",
        "y_train_encoded = le.transform(y_train_img)\n",
        "y_val_encoded = le.transform(y_val_img)\n",
        "y_test_encoded = le.transform(y_test_img)"
      ],
      "execution_count": 20,
      "outputs": []
    },
    {
      "cell_type": "code",
      "metadata": {
        "id": "Rx2qT33pbWfy",
        "outputId": "4a910426-d5ab-4c41-dd61-1a9518775e0f",
        "colab": {
          "base_uri": "https://localhost:8080/"
        }
      },
      "source": [
        "print(np.array(y_train_img))\n",
        "print(np.array(y_train_encoded))\n",
        "\n",
        "y_train_encoded"
      ],
      "execution_count": 21,
      "outputs": [
        {
          "output_type": "stream",
          "text": [
            "['dog' 'cat' 'dog' ... 'dog' 'dog' 'cat']\n",
            "[1 0 1 ... 1 1 0]\n"
          ],
          "name": "stdout"
        },
        {
          "output_type": "execute_result",
          "data": {
            "text/plain": [
              "array([1, 0, 1, ..., 1, 1, 0])"
            ]
          },
          "metadata": {
            "tags": []
          },
          "execution_count": 21
        }
      ]
    },
    {
      "cell_type": "markdown",
      "metadata": {
        "id": "CpS9N9yPw4oX"
      },
      "source": [
        "## Data Augmentation"
      ]
    },
    {
      "cell_type": "code",
      "metadata": {
        "id": "Q5P3JRqUw8B2"
      },
      "source": [
        "from tensorflow.keras.preprocessing.image import ImageDataGenerator\r\n",
        "\r\n",
        "train_datagen = ImageDataGenerator(\r\n",
        "    rescale=1./255,\r\n",
        "    rotation_range=50,\r\n",
        "    shear_range=0.2,\r\n",
        "    zoom_range=0.3,\r\n",
        "    horizontal_flip=True,\r\n",
        "    width_shift_range=0.2,\r\n",
        "    height_shift_range=0.2,\r\n",
        "    fill_mode='nearest'\r\n",
        "    )\r\n",
        "\r\n",
        "train_generator = train_datagen.flow(\r\n",
        "    x_train_img, \r\n",
        "    y_train_encoded, \r\n",
        "    batch_size=30\r\n",
        ")"
      ],
      "execution_count": 22,
      "outputs": []
    },
    {
      "cell_type": "code",
      "metadata": {
        "id": "HICf1VGixjP0"
      },
      "source": [
        "validation_datagen = ImageDataGenerator(\r\n",
        "    rescale=1./255\r\n",
        "    )\r\n",
        "validation_generator = validation_datagen.flow(\r\n",
        "    x_val_img, \r\n",
        "    y_val_encoded, \r\n",
        "    batch_size=20\r\n",
        ")\r\n",
        "\r\n",
        "test_datagen = ImageDataGenerator(\r\n",
        "    rescale=1./255\r\n",
        "    )\r\n",
        "test_generator = test_datagen.flow(\r\n",
        "    x_test_img, \r\n",
        "    y_test_encoded,\r\n",
        "    batch_size=20\r\n",
        ")"
      ],
      "execution_count": 23,
      "outputs": []
    },
    {
      "cell_type": "markdown",
      "metadata": {
        "id": "I5ewPTEFXOPb"
      },
      "source": [
        "# Entrenar"
      ]
    },
    {
      "cell_type": "code",
      "metadata": {
        "id": "9nLdIY2UXY4s",
        "outputId": "8d32047b-752f-4134-ed5f-da96e6ed8dc6",
        "colab": {
          "base_uri": "https://localhost:8080/"
        }
      },
      "source": [
        "history = model_with_vgg.fit(train_generator, epochs=200, steps_per_epoch=98,\n",
        "                             callbacks=[callback], \n",
        "                             validation_data=validation_generator, validation_steps=49)"
      ],
      "execution_count": 24,
      "outputs": [
        {
          "output_type": "stream",
          "text": [
            "Epoch 1/200\n",
            "98/98 [==============================] - 26s 227ms/step - loss: 0.6696 - accuracy: 0.5751 - val_loss: 0.2718 - val_accuracy: 0.8929\n",
            "Epoch 2/200\n",
            "98/98 [==============================] - 21s 209ms/step - loss: 0.3731 - accuracy: 0.8420 - val_loss: 0.2213 - val_accuracy: 0.9010\n",
            "Epoch 3/200\n",
            "98/98 [==============================] - 21s 209ms/step - loss: 0.3279 - accuracy: 0.8554 - val_loss: 0.1651 - val_accuracy: 0.9439\n",
            "Epoch 4/200\n",
            "98/98 [==============================] - 21s 211ms/step - loss: 0.2427 - accuracy: 0.8913 - val_loss: 0.1542 - val_accuracy: 0.9429\n",
            "Epoch 5/200\n",
            "98/98 [==============================] - 21s 211ms/step - loss: 0.1978 - accuracy: 0.9197 - val_loss: 0.1678 - val_accuracy: 0.9347\n",
            "Epoch 6/200\n",
            "98/98 [==============================] - 21s 210ms/step - loss: 0.1847 - accuracy: 0.9269 - val_loss: 0.1896 - val_accuracy: 0.9378\n",
            "Epoch 7/200\n",
            "98/98 [==============================] - 21s 210ms/step - loss: 0.1832 - accuracy: 0.9256 - val_loss: 0.1412 - val_accuracy: 0.9449\n",
            "Epoch 8/200\n",
            "98/98 [==============================] - 21s 210ms/step - loss: 0.1520 - accuracy: 0.9405 - val_loss: 0.1571 - val_accuracy: 0.9439\n",
            "Epoch 9/200\n",
            "98/98 [==============================] - 21s 211ms/step - loss: 0.1844 - accuracy: 0.9261 - val_loss: 0.1431 - val_accuracy: 0.9541\n",
            "Epoch 10/200\n",
            "98/98 [==============================] - 21s 210ms/step - loss: 0.1285 - accuracy: 0.9473 - val_loss: 0.1661 - val_accuracy: 0.9459\n",
            "Epoch 11/200\n",
            "98/98 [==============================] - 21s 211ms/step - loss: 0.1155 - accuracy: 0.9541 - val_loss: 0.1436 - val_accuracy: 0.9551\n",
            "Epoch 12/200\n",
            "98/98 [==============================] - 20s 208ms/step - loss: 0.1422 - accuracy: 0.9415 - val_loss: 0.1547 - val_accuracy: 0.9520\n"
          ],
          "name": "stdout"
        }
      ]
    },
    {
      "cell_type": "markdown",
      "metadata": {
        "id": "ZQsE9c4TqbhH"
      },
      "source": [
        "# Guardamos el modelo\n"
      ]
    },
    {
      "cell_type": "code",
      "metadata": {
        "id": "eGUzLSmrqbhI"
      },
      "source": [
        "model_with_vgg.save(ruta_archivos+\"model_with_finetunning_transfer_learning_vgg16_plus_data_augmentation.h5\")"
      ],
      "execution_count": 25,
      "outputs": []
    },
    {
      "cell_type": "markdown",
      "metadata": {
        "id": "igs38dfdqbhI"
      },
      "source": [
        "# Carguemos el modelo con  Transfer Learning sin data augmentation\n",
        "\n",
        "Aquí recogeremos el modelo y los datos de XY pasados por VGG16 post procesados guardados en NPZ"
      ]
    },
    {
      "cell_type": "code",
      "metadata": {
        "id": "CzQuxzN1qbhJ"
      },
      "source": [
        "model_vgg16_fine_tuning = load_model(ruta_archivos+\"model_with_finetunning_transfer_learning_vgg16.h5\")\n"
      ],
      "execution_count": 26,
      "outputs": []
    },
    {
      "cell_type": "markdown",
      "metadata": {
        "id": "EAxPYpB3qbhK"
      },
      "source": [
        "# Miremos que tal rinde el modelo en errores y accuracy"
      ]
    },
    {
      "cell_type": "code",
      "metadata": {
        "id": "eQJPpXTRqbhK",
        "outputId": "c5707682-f2ff-4f91-fa6e-c790c59fc5e0",
        "colab": {
          "base_uri": "https://localhost:8080/",
          "height": 545
        }
      },
      "source": [
        "plt.title('Cross Entropy Loss')\n",
        "plt.plot(history.history['loss'], color='blue', label='train')\n",
        "plt.plot(history.history['val_loss'], color='orange', label='test')\n",
        "plt.show()\n",
        "\n",
        "plt.title('Classification Accuracy')\n",
        "plt.plot(history.history['accuracy'], color='blue', label='train')\n",
        "plt.plot(history.history['val_accuracy'], color='orange', label='test')\n",
        "plt.show()"
      ],
      "execution_count": 27,
      "outputs": [
        {
          "output_type": "display_data",
          "data": {
            "image/png": "[encoded data removed]",
            "text/plain": [
              "<Figure size 432x288 with 1 Axes>"
            ]
          },
          "metadata": {
            "tags": [],
            "needs_background": "light"
          }
        },
        {
          "output_type": "display_data",
          "data": {
            "image/png": "[encoded data removed]",
            "text/plain": [
              "<Figure size 432x288 with 1 Axes>"
            ]
          },
          "metadata": {
            "tags": [],
            "needs_background": "light"
          }
        }
      ]
    },
    {
      "cell_type": "code",
      "metadata": {
        "id": "GnqgDgElqbhL",
        "outputId": "0170698d-f3ad-4554-d801-8c3acde8969a",
        "colab": {
          "base_uri": "https://localhost:8080/"
        }
      },
      "source": [
        "_, acc = model_with_vgg.evaluate(x_test_scaled, y_test_encoded, verbose=0)\n",
        "print('Modelo con Fine Tunning Transfer Learning con Data Augmentation> %.3f' % (acc * 100.0))\n",
        "\n",
        "_, acc = model_vgg16_fine_tuning.evaluate(x_test_scaled, y_test_encoded, verbose=0)\n",
        "print('Modelo con Fine Tuning Transfer Learning sin Data Augmentaion> %.3f' % (acc * 100.0))"
      ],
      "execution_count": 28,
      "outputs": [
        {
          "output_type": "stream",
          "text": [
            "Modelo con Fine Tunning Transfer Learning con Data Augmentation> 94.843\n",
            "Modelo con Fine Tuning Transfer Learning sin Data Augmentaion> 94.641\n"
          ],
          "name": "stdout"
        }
      ]
    }
  ]
}