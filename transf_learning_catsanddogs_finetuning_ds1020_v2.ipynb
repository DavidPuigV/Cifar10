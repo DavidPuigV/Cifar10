{
  "nbformat": 4,
  "nbformat_minor": 0,
  "metadata": {
    "accelerator": "GPU",
    "colab": {
      "name": "transf_learning_catsanddogs_finetuning_ds1020_v2.ipynb",
      "provenance": []
    },
    "kernelspec": {
      "display_name": "Python 3",
      "language": "python",
      "name": "python3"
    },
    "language_info": {
      "codemirror_mode": {
        "name": "ipython",
        "version": 3
      },
      "file_extension": ".py",
      "mimetype": "text/x-python",
      "name": "python",
      "nbconvert_exporter": "python",
      "pygments_lexer": "ipython3",
      "version": "3.7.4"
    }
  },
  "cells": [
    {
      "cell_type": "markdown",
      "metadata": {
        "id": "WrS_ZVRj4Hrb"
      },
      "source": [
        "![Nuclio logo](https://nuclio.school/wp-content/uploads/2018/12/nucleoDS-newBlack.png)\r\n",
        "\r\n",
        "#Transfer Learning con la técnica de Fine Tuning"
      ]
    },
    {
      "cell_type": "markdown",
      "metadata": {
        "id": "XsWCs2GtMPAw"
      },
      "source": [
        "# Connectar a Drive"
      ]
    },
    {
      "cell_type": "code",
      "metadata": {
        "id": "E6Jk6GTVMDW_"
      },
      "source": [
        "from google.colab import drive\n",
        "drive.mount('/content/drive')"
      ],
      "execution_count": null,
      "outputs": []
    },
    {
      "cell_type": "markdown",
      "metadata": {
        "id": "N5FTXWKIM1Dx"
      },
      "source": [
        "# Librerias"
      ]
    },
    {
      "cell_type": "code",
      "metadata": {
        "id": "7YO-qvTSM3kX"
      },
      "source": [
        "from tensorflow import keras as ks\n",
        "from tensorflow.keras.preprocessing.image import load_img\n",
        "from tensorflow.keras.callbacks import EarlyStopping\n",
        "from tensorflow.keras.regularizers import l2\n",
        "\n",
        "import numpy as np\n",
        "import pandas as pd\n",
        "import matplotlib.pyplot as plt\n",
        "import random\n",
        "import os\n",
        "\n",
        "from tensorflow.keras.applications import vgg16\n",
        "from tensorflow.keras.models import Model, load_model"
      ],
      "execution_count": null,
      "outputs": []
    },
    {
      "cell_type": "markdown",
      "metadata": {
        "id": "IuGCNtaSOEPV"
      },
      "source": [
        "# Variables de entorno\n",
        "\n",
        "<font color=\"#FF0000\">Aquí definireis vuestra ruta del proyecto de perros y Gatos</font>"
      ]
    },
    {
      "cell_type": "code",
      "metadata": {
        "id": "7K7GC8BQOHV9"
      },
      "source": [
        "ANCHO_IMAGEN = 150\n",
        "ALTURA_IMAGEN=150\n",
        "IMAGE_SIZE = (ANCHO_IMAGEN, ALTURA_IMAGEN)\n",
        "CANALES_IMAGENES = 3\n",
        "\n",
        "ruta_archivos = '/content/drive/My Drive/Nuclio_DS_Master/Dogs-vs-cats/'"
      ],
      "execution_count": null,
      "outputs": []
    },
    {
      "cell_type": "markdown",
      "metadata": {
        "id": "CavLXOtgOTyb"
      },
      "source": [
        "# Cargaremos datos en NPZ\n"
      ]
    },
    {
      "cell_type": "code",
      "metadata": {
        "id": "dzVhzbmqOZ7i"
      },
      "source": [
        "dict_npz = np.load(ruta_archivos+'xy_train_img.npz')\n",
        "x_train_img = dict_npz['x']\n",
        "y_train_img = dict_npz['y']\n",
        "\n",
        "dict_npz = np.load(ruta_archivos+'xy_test_img.npz')\n",
        "x_test_img = dict_npz['x']\n",
        "y_test_img = dict_npz['y']\n",
        "\n",
        "dict_npz = np.load(ruta_archivos+'xy_val_img.npz')\n",
        "x_val_img = dict_npz['x']\n",
        "y_val_img = dict_npz['y']"
      ],
      "execution_count": null,
      "outputs": []
    },
    {
      "cell_type": "code",
      "metadata": {
        "id": "VsjYQW0OPCFL"
      },
      "source": [
        "x_train_scaled = x_train_img / 255.\n",
        "x_test_scaled = x_test_img / 255.\n",
        "x_val_scaled = x_val_img / 255."
      ],
      "execution_count": null,
      "outputs": []
    },
    {
      "cell_type": "markdown",
      "metadata": {
        "id": "WF_SnUJNPtZ5"
      },
      "source": [
        "# Montamos la Red Neuronal\n",
        "\n",
        "## Cargar la parte de extraccion de features de VGG16"
      ]
    },
    {
      "cell_type": "code",
      "metadata": {
        "id": "sBi8HNOBP1V2"
      },
      "source": [
        "vgg = vgg16.VGG16(include_top=False, weights='imagenet', input_shape=(ANCHO_IMAGEN, ALTURA_IMAGEN, CANALES_IMAGENES))"
      ],
      "execution_count": null,
      "outputs": []
    },
    {
      "cell_type": "code",
      "metadata": {
        "id": "FMTMdgQ9QvfS"
      },
      "source": [
        "vgg.summary()"
      ],
      "execution_count": null,
      "outputs": []
    },
    {
      "cell_type": "code",
      "metadata": {
        "id": "jm6mjIf8RD6z"
      },
      "source": [
        "output = vgg.layers[-1].output\n",
        "new_output_layer = ks.layers.Flatten()(output)\n",
        "vgg_model = Model(vgg.input, new_output_layer)"
      ],
      "execution_count": null,
      "outputs": []
    },
    {
      "cell_type": "code",
      "metadata": {
        "id": "WYrm_LhjR3e_"
      },
      "source": [
        "vgg_model.summary()"
      ],
      "execution_count": null,
      "outputs": []
    },
    {
      "cell_type": "code",
      "metadata": {
        "id": "qmSzCmK1SK7c"
      },
      "source": [
        "vgg_model.trainable = True #Abrimos la opción a que se puedan modificar pesos del modelo\n",
        "\n",
        "for layer in vgg_model.layers:\n",
        "  layer.trainable = False"
      ],
      "execution_count": null,
      "outputs": []
    },
    {
      "cell_type": "code",
      "metadata": {
        "id": "1Xr76uANSfx7"
      },
      "source": [
        "pd.set_option('max_colwidth', None)\n",
        "layers = [(layer, layer.name, layer.trainable) for layer in vgg_model.layers]\n",
        "pd.DataFrame(layers, columns=['Layer Type', 'Layer Name', 'Layer Trainable'])"
      ],
      "execution_count": null,
      "outputs": []
    },
    {
      "cell_type": "code",
      "metadata": {
        "id": "X5S7NQ7DdjYy"
      },
      "source": [
        "entrenable = False\n",
        "\n",
        "for layer in vgg_model.layers:\n",
        "  if layer.name in ['block5_conv1','block4_conv1']:\n",
        "    entrenable = True\n",
        "  if entrenable:\n",
        "    layer.trainable = True\n",
        "  else: \n",
        "    layer.trainable = False"
      ],
      "execution_count": null,
      "outputs": []
    },
    {
      "cell_type": "code",
      "metadata": {
        "id": "AxUEpcXWeCEg"
      },
      "source": [
        "pd.set_option('max_colwidth', None)\n",
        "layers = [(layer, layer.name, layer.trainable) for layer in vgg_model.layers]\n",
        "pd.DataFrame(layers, columns=['Layer Type', 'Layer Name', 'Layer Trainable'])"
      ],
      "execution_count": null,
      "outputs": []
    },
    {
      "cell_type": "markdown",
      "metadata": {
        "id": "xO4I17PxUVOS"
      },
      "source": [
        "# Montemos la red de VGG16 + Clasificación\n"
      ]
    },
    {
      "cell_type": "code",
      "metadata": {
        "id": "Ro2wPiG1UZX0"
      },
      "source": [
        "input_shape = vgg_model.output_shape[1]\n",
        "\n",
        "print('Tamaño de entrada:', input_shape)"
      ],
      "execution_count": null,
      "outputs": []
    },
    {
      "cell_type": "code",
      "metadata": {
        "id": "2qDwi_ELUwHg"
      },
      "source": [
        "model_with_vgg = ks.Sequential()\n",
        "\n",
        "model_with_vgg.add(vgg_model)\n",
        "model_with_vgg.add(ks.layers.Dense(512, activation='relu', input_shape=(input_shape,)))\n",
        "model_with_vgg.add(ks.layers.Dropout(0.3))\n",
        "model_with_vgg.add(ks.layers.Dense(512, activation='relu'))\n",
        "model_with_vgg.add(ks.layers.Dropout(0.3))\n",
        "model_with_vgg.add(ks.layers.Dense(1, activation='sigmoid'))\n",
        "\n",
        "model_with_vgg.summary()"
      ],
      "execution_count": null,
      "outputs": []
    },
    {
      "cell_type": "markdown",
      "metadata": {
        "id": "BgyjckmLWGV5"
      },
      "source": [
        "# Creamos un optimizador"
      ]
    },
    {
      "cell_type": "code",
      "metadata": {
        "id": "2D-G7bQ2WKZL"
      },
      "source": [
        "from tensorflow.keras.optimizers import Adam"
      ],
      "execution_count": null,
      "outputs": []
    },
    {
      "cell_type": "code",
      "metadata": {
        "id": "_lv5_11kWaP0"
      },
      "source": [
        "new_adam = Adam(learning_rate=2e-5)\n"
      ],
      "execution_count": null,
      "outputs": []
    },
    {
      "cell_type": "code",
      "metadata": {
        "id": "JGPweTyGWwiA"
      },
      "source": [
        "model_with_vgg.compile(loss='binary_crossentropy', optimizer=new_adam, metrics=['accuracy'])"
      ],
      "execution_count": null,
      "outputs": []
    },
    {
      "cell_type": "markdown",
      "metadata": {
        "id": "3bFrHu2sXCQB"
      },
      "source": [
        "# Early stopping!!"
      ]
    },
    {
      "cell_type": "code",
      "metadata": {
        "id": "20hx0uQFXA08"
      },
      "source": [
        "callback = EarlyStopping(monitor='val_loss', patience=5)"
      ],
      "execution_count": null,
      "outputs": []
    },
    {
      "cell_type": "markdown",
      "metadata": {
        "id": "XZKWdR2Na3Mm"
      },
      "source": [
        "# Encoding de etiquetas"
      ]
    },
    {
      "cell_type": "code",
      "metadata": {
        "id": "0xNzsi3Sa89O"
      },
      "source": [
        "from sklearn.preprocessing import LabelEncoder\n",
        "\n",
        "le = LabelEncoder()\n",
        "le.fit(y_train_img)\n",
        "y_train_encoded = le.transform(y_train_img)\n",
        "y_val_encoded = le.transform(y_val_img)\n",
        "y_test_encoded = le.transform(y_test_img)"
      ],
      "execution_count": null,
      "outputs": []
    },
    {
      "cell_type": "code",
      "metadata": {
        "id": "Rx2qT33pbWfy"
      },
      "source": [
        "print(np.array(y_train_img))\n",
        "print(np.array(y_train_encoded))\n",
        "\n",
        "y_train_encoded"
      ],
      "execution_count": null,
      "outputs": []
    },
    {
      "cell_type": "markdown",
      "metadata": {
        "id": "I5ewPTEFXOPb"
      },
      "source": [
        "# Entrenar"
      ]
    },
    {
      "cell_type": "code",
      "metadata": {
        "id": "9nLdIY2UXY4s"
      },
      "source": [
        "history = model_with_vgg.fit(x=x_train_scaled, \n",
        "                             y=y_train_encoded, batch_size=32, epochs=20, \n",
        "                             callbacks=[callback], \n",
        "                             validation_data=(x_val_scaled, y_val_encoded))"
      ],
      "execution_count": null,
      "outputs": []
    },
    {
      "cell_type": "markdown",
      "metadata": {
        "id": "ZQsE9c4TqbhH"
      },
      "source": [
        "# Guardamos el modelo\n"
      ]
    },
    {
      "cell_type": "code",
      "metadata": {
        "id": "eGUzLSmrqbhI"
      },
      "source": [
        "model_with_vgg.save(ruta_archivos+\"model_with_finetunning_transfer_learning_vgg16.h5\")"
      ],
      "execution_count": null,
      "outputs": []
    },
    {
      "cell_type": "markdown",
      "metadata": {
        "id": "igs38dfdqbhI"
      },
      "source": [
        "# Carguemos el modelo con basic Transfer Learning\n",
        "\n",
        "Aquí recogeremos el modelo y los datos de XY pasados por VGG16 post procesados guardados en NPZ"
      ]
    },
    {
      "cell_type": "code",
      "metadata": {
        "id": "CzQuxzN1qbhJ"
      },
      "source": [
        "model_basic_tl = load_model(ruta_archivos+\"model_with_basic_transfer_learning_post_vgg16.h5\")\n",
        "\n",
        "dict_npz = np.load(ruta_archivos+'post_vgg16_test_data.npz')\n",
        "x_test_post_vgg = dict_npz['x']\n",
        "y_test_post_vgg = dict_npz['y']\n"
      ],
      "execution_count": null,
      "outputs": []
    },
    {
      "cell_type": "markdown",
      "metadata": {
        "id": "EAxPYpB3qbhK"
      },
      "source": [
        "# Miremos que tal rinde el modelo en errores y accuracy"
      ]
    },
    {
      "cell_type": "code",
      "metadata": {
        "id": "eQJPpXTRqbhK"
      },
      "source": [
        "plt.title('Cross Entropy Loss')\n",
        "plt.plot(history.history['loss'], color='blue', label='train')\n",
        "plt.plot(history.history['val_loss'], color='orange', label='test')\n",
        "plt.show()\n",
        "\n",
        "plt.title('Classification Accuracy')\n",
        "plt.plot(history.history['accuracy'], color='blue', label='train')\n",
        "plt.plot(history.history['val_accuracy'], color='orange', label='test')\n",
        "plt.show()"
      ],
      "execution_count": null,
      "outputs": []
    },
    {
      "cell_type": "code",
      "metadata": {
        "id": "GnqgDgElqbhL"
      },
      "source": [
        "_, acc = model_with_vgg.evaluate(x_test_scaled, y_test_encoded, verbose=0)\n",
        "print('Modelo con Fine Tunning Transfer Learning > %.3f' % (acc * 100.0))\n",
        "\n",
        "_, acc = model_basic_tl.evaluate(x_test_post_vgg, y_test_post_vgg, verbose=0)\n",
        "print('Modelo con Basic Transfer Learning > %.3f' % (acc * 100.0))"
      ],
      "execution_count": null,
      "outputs": []
    }
  ]
}